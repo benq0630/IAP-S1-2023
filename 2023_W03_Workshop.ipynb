{
 "cells": [
  {
   "cell_type": "markdown",
   "metadata": {},
   "source": [
    "# COMP SCI 1015 IAP - W03 - Workshop "
   ]
  },
  {
   "cell_type": "markdown",
   "metadata": {},
   "source": [
    "## Demo 1: Funciton"
   ]
  },
  {
   "cell_type": "markdown",
   "metadata": {},
   "source": [
    "### Built-in functions"
   ]
  },
  {
   "cell_type": "markdown",
   "metadata": {},
   "source": [
    "A `function` is a block of code that is designed to do **one** specific job. For example, we have been using the Python built-in **print()** function for a couple weeks now, and its job is to print out text on the display. We have also used the **int()** function to perform the *type casting*. "
   ]
  },
  {
   "cell_type": "code",
   "execution_count": null,
   "metadata": {},
   "outputs": [],
   "source": [
    "print('hello')"
   ]
  },
  {
   "cell_type": "code",
   "execution_count": null,
   "metadata": {},
   "outputs": [],
   "source": [
    "int('35')"
   ]
  },
  {
   "cell_type": "markdown",
   "metadata": {},
   "source": [
    "We have also used some math functions, such as `math.sqrt()` last week. Here `math` is the **module**, and `sqrt` is a function defined in that `module`. You can find the complete list of functions inside the math module at https://docs.python.org/3/library/math.html. By importing different **modules**, you will have access to all kind of different utility functions built by programmers around the globe!"
   ]
  },
  {
   "cell_type": "code",
   "execution_count": null,
   "metadata": {},
   "outputs": [],
   "source": [
    "import math\n",
    "\n",
    "print(math.pow(4, 2)) # 4 square\n",
    "print(math.log2(4)) # "
   ]
  },
  {
   "cell_type": "markdown",
   "metadata": {},
   "source": [
    "Some modules also define **constants** for easier use. For example:"
   ]
  },
  {
   "cell_type": "code",
   "execution_count": null,
   "metadata": {},
   "outputs": [],
   "source": [
    "print(math.pi)\n",
    "print(math.e)"
   ]
  },
  {
   "cell_type": "markdown",
   "metadata": {},
   "source": [
    "### Function composition "
   ]
  },
  {
   "cell_type": "markdown",
   "metadata": {},
   "source": [
    "The functions become even more powerful when you **compose** them together. For example:"
   ]
  },
  {
   "cell_type": "code",
   "execution_count": null,
   "metadata": {},
   "outputs": [],
   "source": [
    "print(math.log2(math.pow(4, 2)))\n",
    "print(math.sin(math.pi))\n",
    "print(math.sin(math.pi*0.5))"
   ]
  },
  {
   "cell_type": "markdown",
   "metadata": {},
   "source": [
    "### Defining your own functions\n",
    "In Python, the naming rule of the function is the same as a variable. It starts with a character and the name can contains both character, underscore, and digits. Below we define a function `hello_world`:"
   ]
  },
  {
   "cell_type": "code",
   "execution_count": null,
   "metadata": {},
   "outputs": [],
   "source": [
    "def hello_world(): # function definition\n",
    "    print('Hello')\n",
    "    print('World!')"
   ]
  },
  {
   "cell_type": "markdown",
   "metadata": {},
   "source": [
    "The first line is the *header* while the rest is the *body*. Note that every lines in the body must be indented. By convention, indentations are always four spaces and Python uses this indentation to decide which part of the code is the function body.\n",
    "\n",
    "After defining the function, we can use the function with a *function call*."
   ]
  },
  {
   "cell_type": "code",
   "execution_count": null,
   "metadata": {},
   "outputs": [],
   "source": [
    "hello_world() # note the parenthesis "
   ]
  },
  {
   "cell_type": "markdown",
   "metadata": {},
   "source": [
    "Similarly, you can also define multiple different functions and put them together. Note the **flow of execution** here too! Python first execute `hello_3`, then in turn executes 3 `hello`."
   ]
  },
  {
   "cell_type": "code",
   "execution_count": null,
   "metadata": {},
   "outputs": [],
   "source": [
    "def hello():\n",
    "    print(\"hello\")\n",
    "    \n",
    "def hello_3():\n",
    "    # call function hello 3 times\n",
    "    hello() \n",
    "    hello()\n",
    "    hello()\n",
    "\n",
    "hello_3()\n"
   ]
  },
  {
   "cell_type": "markdown",
   "metadata": {},
   "source": [
    "---\n",
    "## Activity 1 "
   ]
  },
  {
   "cell_type": "markdown",
   "metadata": {},
   "source": [
    "The code below return a random floating-point number. Please write a function that prints a random **integer** number between 0 to 100. "
   ]
  },
  {
   "cell_type": "code",
   "execution_count": 4,
   "metadata": {
    "tags": []
   },
   "outputs": [
    {
     "name": "stdout",
     "output_type": "stream",
     "text": [
      "88\n"
     ]
    }
   ],
   "source": [
    "import random\n",
    "random.random() # <-- this line give you a random number between 0 and 1, try print it\n",
    "\n",
    "def random_int():\n",
    "    # YOUR CODE BELOW\n",
    "    # ~ 1 LINE\n",
    "    r = random.randint(0,100)\n",
    "    print(r)\n",
    "\n",
    "random_int()"
   ]
  },
  {
   "cell_type": "markdown",
   "metadata": {},
   "source": [
    "---\n",
    "## Demo 2: Argument and Parameter"
   ]
  },
  {
   "cell_type": "markdown",
   "metadata": {},
   "source": [
    "### Argument "
   ]
  },
  {
   "cell_type": "markdown",
   "metadata": {},
   "source": [
    "Some functions require *arguments*. For example, when you call the `print` function, you need to supply a string. Some functions require more than one argument, like the `math.pow` function that calculate the power of power of a base number"
   ]
  },
  {
   "cell_type": "code",
   "execution_count": null,
   "metadata": {},
   "outputs": [],
   "source": [
    "import math\n",
    "\n",
    "print('hello world') # 'hello world' is an argument to the print function\n",
    "\n",
    "math.sqrt(30)        # 30 is an argument to the math.sin function \n",
    "\n",
    "math.pow(2, 5)       # 2, 5 are arguments to the math.pow function"
   ]
  },
  {
   "cell_type": "markdown",
   "metadata": {},
   "source": [
    "### Parameter "
   ]
  },
  {
   "cell_type": "markdown",
   "metadata": {},
   "source": [
    "Inside the function, `arguments` are assigned to variables called `parameters`. For example, here we define a function `say_hello` with a single parameter `name`. "
   ]
  },
  {
   "cell_type": "code",
   "execution_count": null,
   "metadata": {},
   "outputs": [],
   "source": [
    "def say_hello(name):\n",
    "    print(f'Hello {name}!')"
   ]
  },
  {
   "cell_type": "markdown",
   "metadata": {},
   "source": [
    "Then we call the `say_hello` function providing an argument `Alice`. You can see that the value `Alice` is assigned to the variable `name` and get printed!"
   ]
  },
  {
   "cell_type": "code",
   "execution_count": null,
   "metadata": {},
   "outputs": [],
   "source": [
    "say_hello('Alice')"
   ]
  },
  {
   "cell_type": "markdown",
   "metadata": {},
   "source": [
    "---\n",
    "## Activity 2 - Add and Multiplication"
   ]
  },
  {
   "cell_type": "markdown",
   "metadata": {},
   "source": [
    "In this activity, please write your own math functions:\n",
    "- an **add** function that takes two parameters x and y. The function prints out the value of x + y\n",
    "- a **mul** function that takes tree parameters x, y, and z. The function prints out the value of x * y * z"
   ]
  },
  {
   "cell_type": "code",
   "execution_count": 5,
   "metadata": {
    "tags": []
   },
   "outputs": [
    {
     "name": "stdout",
     "output_type": "stream",
     "text": [
      "15\n",
      "24\n"
     ]
    }
   ],
   "source": [
    "def add(x, y):\n",
    "    # INSERT YOUR CODE BELOW\n",
    "    # 1 LINE\n",
    "    s = x + y\n",
    "    print(s)\n",
    "    \n",
    "def mul(x, y, z):\n",
    "    # INSERT YOUR CODE BELOW\n",
    "    # 1 LINE    \n",
    "    m = x * y * z\n",
    "    print(m)\n",
    "    \n",
    "add(5, 10) # print 15\n",
    "mul(2, 3, 4) # print 24\n"
   ]
  },
  {
   "cell_type": "markdown",
   "metadata": {},
   "source": [
    "---\n",
    "## Demo 3: Scope of variables"
   ]
  },
  {
   "cell_type": "markdown",
   "metadata": {},
   "source": [
    "In programming languages, **scope** defines where you can access a variable. Some variables can be accessed everywhere in the code and we say these variables have **global** scope. Whereas other variables, such as defined inside functions, have a **local** scope. See examples below:"
   ]
  },
  {
   "cell_type": "code",
   "execution_count": null,
   "metadata": {},
   "outputs": [],
   "source": [
    "def func1():\n",
    "    x = 3 # x has a local scope and can only be referenced inside the function\n",
    "\n",
    "func1()\n",
    "print(x) # Python will report an error! Because variable x is local and only existed inside the function"
   ]
  },
  {
   "cell_type": "code",
   "execution_count": null,
   "metadata": {},
   "outputs": [],
   "source": [
    "y = 5 # y is defined outside the function, and is 'global'\n",
    "\n",
    "def func2():\n",
    "    print(y) # thus y can be accessed inside the function\n",
    "    \n",
    "func2()\n"
   ]
  },
  {
   "cell_type": "markdown",
   "metadata": {},
   "source": [
    "However, if you execute the code below, you might be surprised about the result."
   ]
  },
  {
   "cell_type": "code",
   "execution_count": null,
   "metadata": {},
   "outputs": [],
   "source": [
    "y = 5 \n",
    "\n",
    "def func3():\n",
    "    y = 1 # <- Python create a NEW local variable y in the function\n",
    "    \n",
    "func3()\n",
    "print(y) # You might think it will print 1\n"
   ]
  },
  {
   "cell_type": "markdown",
   "metadata": {},
   "source": [
    "It is because in line 4, Python create a new variable `y` in the **local** scope of `func3` and update its value. Although the variable share the same symbol `y`, it has no effect to the global variable `y` declared in line 1.\n",
    "\n",
    "To update the value of a global variable inside a function, you would need to use the `global` keyword to inform Python that you intend to reference and update a global variable inside the function."
   ]
  },
  {
   "cell_type": "code",
   "execution_count": null,
   "metadata": {},
   "outputs": [],
   "source": [
    "y = 5 \n",
    "\n",
    "def func3():\n",
    "    global y # Tell Python to reference the global variable y\n",
    "    y = 1 \n",
    "    \n",
    "func3()\n",
    "print(y)\n"
   ]
  },
  {
   "cell_type": "markdown",
   "metadata": {},
   "source": [
    "---\n",
    "## Activity 3.1 - Counter"
   ]
  },
  {
   "cell_type": "markdown",
   "metadata": {},
   "source": [
    "Please update the code below so that your program counts how many times the function `hello` is called.\n",
    "\n",
    "Hint: Notice `cnt` is defined outside of the function, how do you change the variable from inside the function? Review the lecture demo if you are struggling!"
   ]
  },
  {
   "cell_type": "code",
   "execution_count": 13,
   "metadata": {
    "tags": []
   },
   "outputs": [
    {
     "name": "stdout",
     "output_type": "stream",
     "text": [
      "3\n"
     ]
    }
   ],
   "source": [
    "cnt = 0\n",
    "def hello():\n",
    "    # INSERT YOUR CODE BELOW\n",
    "    # 2 line\n",
    "    global cnt\n",
    "    cnt = cnt + 1\n",
    "    \n",
    "    \n",
    "hello()\n",
    "hello()\n",
    "hello()\n",
    "print(cnt) # should output 3"
   ]
  },
  {
   "cell_type": "markdown",
   "metadata": {},
   "source": [
    "---\n",
    "## Activity 3.2 - Mean"
   ]
  },
  {
   "cell_type": "markdown",
   "metadata": {},
   "source": [
    "Please write two functions that calculate *mean*.\n",
    "- mean_g() calcualtes the mean of global variables x, y, z\n",
    "- mean_l(a, b, c) calcualtes the mean of local variables a, b, c\n",
    "- mean_c(x, y, z) calcualtes the mean of local variables x, y, z\n",
    "\n",
    "Also ask your self, will calling `mean_c` changes the value of the global variablex `x`, `y`, `z`? "
   ]
  },
  {
   "cell_type": "code",
   "execution_count": 18,
   "metadata": {
    "tags": []
   },
   "outputs": [
    {
     "name": "stdout",
     "output_type": "stream",
     "text": [
      "6.0\n",
      "6.0\n",
      "4.0\n"
     ]
    }
   ],
   "source": [
    "x = 5\n",
    "y = 6\n",
    "z = 7\n",
    "\n",
    "def mean_g():\n",
    "    # 1 line\n",
    "    m = (x + y + z)/3\n",
    "    print(m)\n",
    "    \n",
    "def mean_l(a, b, c):\n",
    "    # 1 line\n",
    "    m = (a + b + c)/3\n",
    "    print(m)\n",
    "    \n",
    "def mean_c(x, y):\n",
    "    # 1 line\n",
    "    m = (x + y + z)/3\n",
    "    print(m)\n",
    "    \n",
    "mean_g() # 6\n",
    "mean_l(5, 6, 7) # 6\n",
    "mean_c(2, 3) # 4"
   ]
  },
  {
   "cell_type": "markdown",
   "metadata": {
    "tags": []
   },
   "source": [
    "---\n",
    "## Demo 4: Functions with return value"
   ]
  },
  {
   "cell_type": "markdown",
   "metadata": {},
   "source": [
    "Python functions can produce a `return value`. For example, many mathematic functions, like `math.sqrt`, provide a `return value`. In the code below, the `sqrt` function takes an argument of `25`, calculate its sqaure root, and return the value `5`. "
   ]
  },
  {
   "cell_type": "code",
   "execution_count": null,
   "metadata": {},
   "outputs": [],
   "source": [
    "import math\n",
    "\n",
    "s = math.sqrt(25)\n",
    "print(s)"
   ]
  },
  {
   "cell_type": "markdown",
   "metadata": {},
   "source": [
    "So far, the functions we defined on our own are all `void`. Meaning, these functions perform some actions, like printing out some values, but  they don't return a value.\n",
    "\n",
    "Below is a function with a `return value`. Can you figure out what the function `add` does?"
   ]
  },
  {
   "cell_type": "code",
   "execution_count": null,
   "metadata": {},
   "outputs": [],
   "source": [
    "def add(x, y):\n",
    "    c = x + y # c is a temporary variable that is only visible INSIDE the function.\n",
    "    return c  # the return statement\n",
    "\n",
    "s = 3 + 5\n",
    "print(s)\n",
    "\n",
    "s = add(3, 5) # add operation in a function form. The return value is assigned to the variable s.\n",
    "print(s)"
   ]
  },
  {
   "cell_type": "markdown",
   "metadata": {},
   "source": [
    "We can also simplify the function `add` a bit using the composition:"
   ]
  },
  {
   "cell_type": "code",
   "execution_count": null,
   "metadata": {},
   "outputs": [],
   "source": [
    "def add(x, y):\n",
    "    return x + y # composition"
   ]
  },
  {
   "cell_type": "markdown",
   "metadata": {},
   "source": [
    "The function above looks cleaner. But haivng a temporary variable, like `c` above, would help you debug more easily. I encourage you to prioritize readability of your code over the length of your code."
   ]
  },
  {
   "cell_type": "markdown",
   "metadata": {},
   "source": [
    "---\n",
    "## Activity 4"
   ]
  },
  {
   "cell_type": "markdown",
   "metadata": {},
   "source": [
    "Please create the following functions:\n",
    "- add(x, y), which outputs x + y\n",
    "- mul(x, y), which outputs x * y"
   ]
  },
  {
   "cell_type": "code",
   "execution_count": 19,
   "metadata": {
    "tags": []
   },
   "outputs": [
    {
     "name": "stdout",
     "output_type": "stream",
     "text": [
      "16\n"
     ]
    }
   ],
   "source": [
    "# DEFINE ADD\n",
    "# ~2 lines\n",
    "def add(x,y):\n",
    "    a = x + y\n",
    "    return a\n",
    "\n",
    "#DEFINE MUL\n",
    "# ~2 lines\n",
    "def mul(x,y):\n",
    "    m = x * y\n",
    "    return m\n",
    "\n",
    "z = add(3, 5) + mul(2, 4) # (3+5) + (2*4)\n",
    "print(z) # should print 16"
   ]
  },
  {
   "cell_type": "markdown",
   "metadata": {},
   "source": [
    "---\n",
    "## Submission Exercise"
   ]
  },
  {
   "cell_type": "markdown",
   "metadata": {},
   "source": [
    "<!-- BEGIN QUESTION -->\n",
    "\n",
    "Use the two functions `add` and `mul` above to perform the calculation below:\n",
    "\n",
    "$(3+5)\\times(6+7)\\times(8+9)$\n",
    "\n",
    "Please do the following:\n",
    "\n",
    "1. calculate $3 + 5$, $6 + 7$, and $8+9$ respetively and assigned them to three variables `a1`, `a2`, `a3`\n",
    "2. calculate $a1 \\times a2$, and assigned the answer to $b$\n",
    "3. calculates $b \\times a3$"
   ]
  },
  {
   "cell_type": "code",
   "execution_count": 20,
   "metadata": {
    "tags": []
   },
   "outputs": [
    {
     "name": "stdout",
     "output_type": "stream",
     "text": [
      "1768\n"
     ]
    }
   ],
   "source": [
    "# STEP 1add()\n",
    "a1 = add(3,5)\n",
    "a2 = add(6,7)\n",
    "a3 = add(8,9)\n",
    "\n",
    "# STEP 2\n",
    "b = mul(a1,a2)\n",
    "\n",
    "# STEP 3\n",
    "ans = mul(b,a3)\n",
    "print(ans) # 1768"
   ]
  },
  {
   "cell_type": "markdown",
   "metadata": {},
   "source": [
    "<!-- END QUESTION -->\n",
    "\n",
    "## <font color='red'>Remember to submit your work to Gradescope and sign out with yout tutor before leaving the session.</font>"
   ]
  }
 ],
 "metadata": {
  "kernelspec": {
   "display_name": "Python 3 (ipykernel)",
   "language": "python",
   "name": "python3"
  },
  "language_info": {
   "codemirror_mode": {
    "name": "ipython",
    "version": 3
   },
   "file_extension": ".py",
   "mimetype": "text/x-python",
   "name": "python",
   "nbconvert_exporter": "python",
   "pygments_lexer": "ipython3",
   "version": "3.9.16"
  },
  "otter": {
   "tests": {
    "Submission": {
     "name": "Submission",
     "points": 0,
     "suites": [
      {
       "cases": [
        {
         "code": ">>> assert ans == 1768\n",
         "failure_message": "Incorrect answer, try again!",
         "hidden": false,
         "locked": false,
         "success_message": "Good job!"
        }
       ],
       "scored": true,
       "setup": "",
       "teardown": "",
       "type": "doctest"
      }
     ]
    }
   }
  },
  "vscode": {
   "interpreter": {
    "hash": "d57c152add3a77aa406b6a31edc12b55f0062050fedadc6ea5d152b48566b0e5"
   }
  }
 },
 "nbformat": 4,
 "nbformat_minor": 4
}
