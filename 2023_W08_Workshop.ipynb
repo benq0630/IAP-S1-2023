{
 "cells": [
  {
   "cell_type": "markdown",
   "metadata": {},
   "source": [
    "# COMP SCI 1015 IAP - W08 - Workshop "
   ]
  },
  {
   "cell_type": "markdown",
   "metadata": {
    "tags": []
   },
   "source": [
    "## Demo 1"
   ]
  },
  {
   "cell_type": "markdown",
   "metadata": {},
   "source": [
    "### Writing a file "
   ]
  },
  {
   "cell_type": "markdown",
   "metadata": {},
   "source": [
    "A text file contians a sequence of characters. A text file could lie on our hard disk drive and we can read open the file and read its content using different applications, such as notepad on Windows.\n",
    "\n",
    "Python also provides functions for reading and writing files. To write a file, we open the file with the `w` mode. "
   ]
  },
  {
   "cell_type": "code",
   "execution_count": 15,
   "metadata": {},
   "outputs": [],
   "source": [
    "fout = open('output.txt', 'w')"
   ]
  },
  {
   "cell_type": "markdown",
   "metadata": {},
   "source": [
    "Note that if the file `output.txt` already exists, Python will clear all the content in the file! So, be careful! Here the variable `fout` is a `file object` that represents the file. We can now use the `write` method to put data into it. \n",
    "\n",
    "Note that we need to call the `close()` method of the file object to make sure all the data are put into the file."
   ]
  },
  {
   "cell_type": "code",
   "execution_count": 16,
   "metadata": {},
   "outputs": [],
   "source": [
    "line = 'hello world\\n'\n",
    "fout.write(line) # actually write the data\n",
    "fout.close() # close the file object and flush the buffer (watch video)"
   ]
  },
  {
   "cell_type": "markdown",
   "metadata": {},
   "source": [
    "So far, we have created a file `output.txt` and write a line of text into it. Now, where is this data? It will be at the same directory where you start your Jupyter notebook. \n",
    "\n",
    "If you are not sure which directory you are in, you can use the `os.getcowd()` method and obtain your current working directory."
   ]
  },
  {
   "cell_type": "code",
   "execution_count": 17,
   "metadata": {},
   "outputs": [
    {
     "name": "stdout",
     "output_type": "stream",
     "text": [
      "/Users/benq0630/Downloads\n"
     ]
    }
   ],
   "source": [
    "import os\n",
    "cwd = os.getcwd() # get current woring directory\n",
    "print(cwd)"
   ]
  },
  {
   "cell_type": "markdown",
   "metadata": {},
   "source": [
    "If you would like to add more text into an existing text file, you can open the file in `append` mode."
   ]
  },
  {
   "cell_type": "code",
   "execution_count": 18,
   "metadata": {},
   "outputs": [],
   "source": [
    "f = open('output.txt', 'a') # append mode\n",
    "f.write('2nd line\\n')\n",
    "f.write('3rd line\\n')\n",
    "f.write('4th line\\n')\n",
    "f.close()"
   ]
  },
  {
   "cell_type": "markdown",
   "metadata": {},
   "source": [
    "### Read a file"
   ]
  },
  {
   "cell_type": "markdown",
   "metadata": {},
   "source": [
    "To read a file, we have to create the `file object` in the read mode using the argument `r`. The `read()` method will get all the content in the file at once. "
   ]
  },
  {
   "cell_type": "code",
   "execution_count": 19,
   "metadata": {},
   "outputs": [
    {
     "name": "stdout",
     "output_type": "stream",
     "text": [
      "hello world\n",
      "2nd line\n",
      "3rd line\n",
      "4th line\n",
      "\n"
     ]
    }
   ],
   "source": [
    "fin = open('output.txt', 'r') # open the file in read mode\n",
    "content = fin.read() # read all content\n",
    "print(content)\n",
    "fin.close() # close the file object"
   ]
  },
  {
   "cell_type": "markdown",
   "metadata": {},
   "source": [
    "### `with` keyword "
   ]
  },
  {
   "cell_type": "markdown",
   "metadata": {},
   "source": [
    "Python also provides a covenient `with` keyword that handle the closing of file automatically. You are encourged to use this method to read / write your file. Try running the two cells below and check if the result is as you expected!"
   ]
  },
  {
   "cell_type": "code",
   "execution_count": 20,
   "metadata": {},
   "outputs": [],
   "source": [
    "with open('output.txt', 'w') as fout:\n",
    "    fout.write('1st line\\n')\n",
    "    fout.write('2nd line\\n')\n",
    "    fout.write('3rd line\\n')\n",
    "    fout.write('4th line\\n')\n",
    "    # note that we do not need to close the file now."
   ]
  },
  {
   "cell_type": "code",
   "execution_count": 21,
   "metadata": {},
   "outputs": [
    {
     "name": "stdout",
     "output_type": "stream",
     "text": [
      "1st line\n",
      "2nd line\n",
      "3rd line\n",
      "4th line\n",
      "\n"
     ]
    }
   ],
   "source": [
    "with open('output.txt', 'r') as fin:\n",
    "    content = fin.read()\n",
    "    print(content)\n",
    "    # note that we do not need to close the file now."
   ]
  },
  {
   "cell_type": "markdown",
   "metadata": {
    "jp-MarkdownHeadingCollapsed": true,
    "tags": []
   },
   "source": [
    "---\n",
    "## Activity 1: Read and write "
   ]
  },
  {
   "cell_type": "markdown",
   "metadata": {},
   "source": [
    "<!-- BEGIN QUESTION -->\n",
    "\n",
    "Complete the function `read_and_write(src, dst)` below. The function reads the file content from a file at `src` and write it into a file at `dst`."
   ]
  },
  {
   "cell_type": "code",
   "execution_count": 22,
   "metadata": {
    "tags": []
   },
   "outputs": [],
   "source": [
    "def read_and_write(src, dst):\n",
    "    # INPUT YOUR CODE BELOW\n",
    "    # ~ 4 lines\n",
    "    with open(src, 'r') as f1:\n",
    "        content = f1.read()\n",
    "    with open(dst, 'w') as f2:\n",
    "        f2.write(content)\n",
    "    \n",
    "    \n",
    "    \n",
    "read_and_write('output.txt', 'test1.txt')\n",
    "read_and_write('test1.txt', 'test2.txt')\n",
    "# Check if you have both test1.txt and test2.txt in your folder"
   ]
  },
  {
   "cell_type": "markdown",
   "metadata": {
    "tags": []
   },
   "source": [
    "<!-- END QUESTION -->\n",
    "\n",
    "---\n",
    "## Demo 2 "
   ]
  },
  {
   "cell_type": "markdown",
   "metadata": {},
   "source": [
    "So far we use the `read()` method to read the entire content in a file. Doing so is usually fine for smaller text file. However, when dealing a much larger file with tens of thousands of lines, reading the content line by line would be more efficient. We can do this by using the `readline()` method as below"
   ]
  },
  {
   "cell_type": "code",
   "execution_count": null,
   "metadata": {},
   "outputs": [],
   "source": [
    "with open('output.txt', 'r') as fin:\n",
    "    l = fin.readline()\n",
    "    print(l)\n",
    "    l = fin.readline()\n",
    "    print(l)"
   ]
  },
  {
   "cell_type": "markdown",
   "metadata": {},
   "source": [
    "When we read the file sequentially using `readline()` method, the file object needs to record how far we have read in the file. This is called an `offset`. We often read a large file sequentially. Thus the file object maintain an **offset** that record how far we have read in the file. \n",
    "\n",
    "The `tell()` method prints out the current offset and we can manually set the offset using the `seek()` method. For example, if we would like to re-read the whole file, we can reset the offset with `seek(0)`."
   ]
  },
  {
   "cell_type": "code",
   "execution_count": null,
   "metadata": {},
   "outputs": [],
   "source": [
    "with open('output.txt', 'r') as fin:\n",
    "    offset = fin.tell()\n",
    "    print(f'offset at the beginning: {offset}')\n",
    "    line = fin.readline() # read first line\n",
    "    line = fin.readline() # read second line\n",
    "    line = fin.readline() # read third line\n",
    "    print(line)\n",
    "    offset = fin.tell()\n",
    "    print(f'offset after reading three lines: {offset}')\n",
    "    \n",
    "    print('---reset the offset---')\n",
    "    fin.seek(0) # reset\n",
    "    print(f'offset is {fin.tell()}')\n",
    "    line = fin.readline() \n",
    "    print(line)\n",
    "    \n",
    "    print('---move the offset to the end of 3rd line---')\n",
    "    fin.seek(offset) # move to 3rd line\n",
    "    print(f'offset is {fin.tell()}')\n",
    "    line = fin.readline() \n",
    "    print(line)"
   ]
  },
  {
   "cell_type": "markdown",
   "metadata": {},
   "source": [
    "### Read through a file line by line "
   ]
  },
  {
   "cell_type": "markdown",
   "metadata": {},
   "source": [
    "In Python, a `file object` is iterable. So we can directly use the `for` loop to go through the entire file."
   ]
  },
  {
   "cell_type": "code",
   "execution_count": null,
   "metadata": {},
   "outputs": [],
   "source": [
    "with open('output.txt', 'r') as fin:\n",
    "    for line in fin:\n",
    "        print(line)"
   ]
  },
  {
   "cell_type": "markdown",
   "metadata": {
    "jp-MarkdownHeadingCollapsed": true,
    "tags": []
   },
   "source": [
    "---\n",
    "## Activity 2: Read content into a list "
   ]
  },
  {
   "cell_type": "markdown",
   "metadata": {},
   "source": [
    "<!-- BEGIN QUESTION -->\n",
    "\n",
    "The code below create a file containing 30 lines, where each line contains an integer. Pleae complete the function `read_to_list(src)` that read the content of the file and store them into a list."
   ]
  },
  {
   "cell_type": "code",
   "execution_count": 27,
   "metadata": {
    "tags": []
   },
   "outputs": [
    {
     "name": "stdout",
     "output_type": "stream",
     "text": [
      "[0, 1, 2, 3, 4, 5, 6, 7, 8, 9]\n"
     ]
    }
   ],
   "source": [
    "def read_to_list(src):\n",
    "    # INSERT YOUR CODE\n",
    "    # ~ 5 lines, should return a list\n",
    "    arr = []\n",
    "    with open(src, 'r') as fout1:\n",
    "        for line in fout1:\n",
    "            arr.append(int(line))\n",
    "    return arr\n",
    "\n",
    "\n",
    "# TEST CASE BELOW\n",
    "with open('array.txt', 'w') as fout:\n",
    "    for i in range(10):\n",
    "        fout.write(f'{i}\\n')\n",
    "li = read_to_list('array.txt')\n",
    "print(li) # should print [0, 1, 2, 3, 4, 5, 6, 7, 8, 9]\n"
   ]
  },
  {
   "cell_type": "markdown",
   "metadata": {
    "tags": []
   },
   "source": [
    "<!-- END QUESTION -->\n",
    "\n",
    "---\n",
    "## Demo 3: Error vs Exception"
   ]
  },
  {
   "cell_type": "markdown",
   "metadata": {},
   "source": [
    "All previous codes assume that the file actually exists. However, that might not always be the case. If you attempt to read a non-existent file, you will get an `FileNotFoundError`. \n",
    "\n",
    "Note that although Python reports a `FileNotFoundError`, it is different from the `syntax error`. Officially, the errors that are detected during the **execution** is called an **exeception**.\n"
   ]
  },
  {
   "cell_type": "code",
   "execution_count": null,
   "metadata": {},
   "outputs": [],
   "source": [
    "f = open('test.xyz')"
   ]
  },
  {
   "cell_type": "markdown",
   "metadata": {},
   "source": [
    "For example, the code below has an additional `)` and will generate a `Syntax Error`. It means that Python does not understand the code (cannot parse it) and cannot exsecute it at all."
   ]
  },
  {
   "cell_type": "code",
   "execution_count": null,
   "metadata": {},
   "outputs": [],
   "source": [
    "print('hello'))"
   ]
  },
  {
   "cell_type": "markdown",
   "metadata": {},
   "source": [
    "In contrast, the code above generate an `exception`. Meaning the code has correct syntax and can be executed. However, an error was detected during the execution. In this case, the code tries to divide a number by zero, which is an undefined behaviour. This is an `exception` and Python raises a `ZeroDivisionError`."
   ]
  },
  {
   "cell_type": "code",
   "execution_count": null,
   "metadata": {},
   "outputs": [],
   "source": [
    "print(20/0)"
   ]
  },
  {
   "cell_type": "markdown",
   "metadata": {},
   "source": [
    "Below is anoter example where the code attempts to cast a string into an integer, but Python detects an exception because it does not know how to convert a string consists of `abc` string to a number."
   ]
  },
  {
   "cell_type": "code",
   "execution_count": null,
   "metadata": {},
   "outputs": [],
   "source": [
    "a = '13'\n",
    "b = int(a) # it is OK\n",
    "\n",
    "a = 'abc'\n",
    "c = int(a) # Python generats an exception "
   ]
  },
  {
   "cell_type": "markdown",
   "metadata": {},
   "source": [
    "Python provides a convenient way to handle such exception - the **try and catch blocks**. When Python encountered an exception in the **try** block, instead of quitting the program, it will instead execute the codes in the **except** block. You can try changing the value of **a** below and check the result."
   ]
  },
  {
   "cell_type": "code",
   "execution_count": null,
   "metadata": {},
   "outputs": [],
   "source": [
    "try:\n",
    "    a = 'abc'\n",
    "    #a = '15'\n",
    "    c = int(a)\n",
    "    print(f'successfully convert {a} to int')\n",
    "except:\n",
    "    print(f'cannot convert {a} to int')"
   ]
  },
  {
   "cell_type": "markdown",
   "metadata": {},
   "source": [
    "Another useful exception is the index out of range."
   ]
  },
  {
   "cell_type": "code",
   "execution_count": null,
   "metadata": {},
   "outputs": [],
   "source": [
    "l = [1, 2, 3]\n",
    "a = l[3]    "
   ]
  },
  {
   "cell_type": "code",
   "execution_count": null,
   "metadata": {},
   "outputs": [],
   "source": [
    "try:\n",
    "    a = l[3]\n",
    "except:\n",
    "    print(\"something wrong on the indexing\")\n"
   ]
  },
  {
   "cell_type": "markdown",
   "metadata": {},
   "source": [
    "And we can also handle the file non-existent error here."
   ]
  },
  {
   "cell_type": "markdown",
   "metadata": {},
   "source": [
    "**[Read more about exception and handle here](https://realpython.com/python-exceptions/).**"
   ]
  },
  {
   "cell_type": "markdown",
   "metadata": {
    "tags": []
   },
   "source": [
    "---\n",
    "## Activity 3: Interactive adder with exception handling "
   ]
  },
  {
   "cell_type": "markdown",
   "metadata": {},
   "source": [
    "<!-- BEGIN QUESTION -->\n",
    "\n",
    "Write a simple program that takes user inputs and add them together. \n",
    "- Your code should keep accepting user inputs until the user inputs 'quit'. \n",
    "- Please use try and except blocks to ensure the user input an integer\n",
    "\n",
    "For example:"
   ]
  },
  {
   "cell_type": "raw",
   "metadata": {},
   "source": [
    "Please input the first number: 13\n",
    "Please input the second number: 30\n",
    ">>The answer is 43\n",
    "\n",
    "Please input the first number: ab\n",
    ">> please input integer only\n",
    "Please input the first number: 5\n",
    "Please input the second number: 8\n",
    ">>The answer is 13\n",
    "\n",
    "Please input the first number: quit\n",
    ">> Bye!\n"
   ]
  },
  {
   "cell_type": "code",
   "execution_count": 1,
   "metadata": {
    "tags": []
   },
   "outputs": [
    {
     "name": "stdout",
     "output_type": "stream",
     "text": [
      "The answer is 30\n",
      "The answer is 30\n"
     ]
    }
   ],
   "source": [
    "i = 0\n",
    "while True:\n",
    "    # 3 lines below prevents autograder from going into infinite loop\n",
    "    # please do not change\n",
    "    i = i + 1\n",
    "    if i > 20:\n",
    "        break\n",
    "        \n",
    "    # INSERT YOUR CODE BELOW\n",
    "    # ~ 10 LINES\n",
    "    try:\n",
    "        fir_num = input(\"Please input the first number: \")\n",
    "        if fir_num == \"quit\":\n",
    "            print(\"Bye!\")\n",
    "            break\n",
    "        fir_num = int(fir_num)\n",
    "            \n",
    "        sec_num = input(\"Please input the second number: \")\n",
    "        sec_num = int(sec_num)\n",
    "        ans = fir_num + sec_num\n",
    "        print(f\"The answer is {ans}\")\n",
    "    except ValueError:\n",
    "        print(\"Please input integers only for first and second numbers.\")\n",
    "\n"
   ]
  },
  {
   "cell_type": "markdown",
   "metadata": {
    "tags": []
   },
   "source": [
    "<!-- END QUESTION -->\n",
    "\n",
    "---\n",
    "## Demo 4: Raising Exceptions"
   ]
  },
  {
   "cell_type": "markdown",
   "metadata": {},
   "source": [
    "It is also possible to create your own Exceptions. To do this we use the `raise` keyword.\n",
    "\n",
    "*Note: Sometimes the action of \"raising an exception\" is called \"throwing an exception\" as some languages use the throw keyword instead, people will understand what you mean regardless of the phrasing you use.*"
   ]
  },
  {
   "cell_type": "code",
   "execution_count": null,
   "metadata": {},
   "outputs": [],
   "source": [
    "x = input(\"Enter your name:\") # prompt user for their name\n",
    "\n",
    "if (x == \"\"):\n",
    "    raise Exception(\"You cannot enter an empty string!\")"
   ]
  },
  {
   "cell_type": "markdown",
   "metadata": {},
   "source": [
    "As you have seen earlier, there are different types of exceptions, such as `TypeError` and `ValueError`. We can build our own Exceptions off these as well as shown below.\n",
    "\n",
    "First, we could have our error classified as a built-in error while also giving new information"
   ]
  },
  {
   "cell_type": "code",
   "execution_count": null,
   "metadata": {},
   "outputs": [],
   "source": [
    "x = 0\n",
    "\n",
    "# check if x is a string, if not raise TypeError.\n",
    "print(\"x's type is \" + str(type(x)))\n",
    "if type(x) != str:\n",
    "  raise TypeError(\"Only integers are allowed\") "
   ]
  },
  {
   "cell_type": "markdown",
   "metadata": {},
   "source": [
    "### Why would I raise my own Exceptions and how do I pass an exception around to different parts of my code to handle it appropriately?\n",
    "\n",
    "Raising your own exceptions are especially valuable in cases where you might need to pass an Exception up several functions or in cases you just want to give your own more useful error messages. To achieve this, we can capture the exception using the `as` keyword as shown below."
   ]
  },
  {
   "cell_type": "code",
   "execution_count": null,
   "metadata": {},
   "outputs": [],
   "source": [
    "def verify_name(name):\n",
    "    if (name == \"\"):\n",
    "        raise Exception(\"Error code 001: No name provided.\")\n",
    "    elif ('-' in name):\n",
    "        raise Exception(\"Error code 002: You cannot enter a hyphenated name. Please call HR on (08) 5550 XXXX for assistance.\")\n",
    "    else:\n",
    "        return True\n",
    "\n",
    "def get_name():\n",
    "    name = input(\"Enter your name:\")\n",
    "    try:\n",
    "        verify_name(name)\n",
    "        return name\n",
    "    except Exception as e:\n",
    "        raise e\n",
    "\n",
    "try:\n",
    "    print(\"Hello \" + get_name())\n",
    "except Exception as e:\n",
    "    print(str(e))\n",
    "    raise e"
   ]
  },
  {
   "cell_type": "markdown",
   "metadata": {},
   "source": [
    "In the above example, the control flow of the program was:\n",
    "1. call the `get_name` function\n",
    "1. get name prompts the user for input\n",
    "1. the user input is checked in `verify_name`\n",
    "   1. if the name is not acceptable, an error is passed onto `get_name`. At this time the tracelog is not yet dumped to the screen.\n",
    "   1. `get_name` passes the error onto the first executed line (within the try). Since the try encountered an exception, control is passed onto the except block.\n",
    "   1. the except block prints the error message\n",
    "   1. as there is no further layers, the traceback is finally dumped to the screen."
   ]
  },
  {
   "cell_type": "markdown",
   "metadata": {
    "jp-MarkdownHeadingCollapsed": true,
    "tags": []
   },
   "source": [
    "<!-- BEGIN QUESTION -->\n",
    "\n",
    "---\n",
    "## Submission Exercise: Reverse text"
   ]
  },
  {
   "cell_type": "markdown",
   "metadata": {},
   "source": [
    "Please createa a Python function **reverse_text(src, dst)** that read the file `src` and create another file `dst` with a line-by-line reverse content of file `src`. "
   ]
  },
  {
   "cell_type": "code",
   "execution_count": 3,
   "metadata": {
    "tags": []
   },
   "outputs": [],
   "source": [
    "def reverse_text(src, dst):\n",
    "    with open(src, 'r') as fin:\n",
    "        # INSERT YOUR CODE\n",
    "        # Read each line from src and store them in reverse order into a list\n",
    "        # ~ 3 lines\n",
    "        lines = fin.readlines()\n",
    "        lines.reverse()\n",
    "        \n",
    "    with open(dst, 'w') as fout:\n",
    "        # INSERT YOUR CODE\n",
    "        # Write each line into dst\n",
    "        # ~ 2 lines\n",
    "        for line in lines:\n",
    "            fout.write(line)\n",
    "            \n",
    "# TEST CASE\n",
    "with open('output.txt', 'w') as fout:\n",
    "    for i in range(5):\n",
    "        fout.write(f'{i}\\n')\n",
    "\n",
    "reverse_text('output.txt', 'reverse.txt')\n",
    "# reverse.txt should have the following content (without #)\n",
    "# 4\n",
    "# 3\n",
    "# 2\n",
    "# 1\n",
    "# 0\n"
   ]
  },
  {
   "cell_type": "markdown",
   "metadata": {},
   "source": [
    "<!-- END QUESTION -->\n",
    "\n"
   ]
  }
 ],
 "metadata": {
  "kernelspec": {
   "display_name": "Python 3 (ipykernel)",
   "language": "python",
   "name": "python3"
  },
  "language_info": {
   "codemirror_mode": {
    "name": "ipython",
    "version": 3
   },
   "file_extension": ".py",
   "mimetype": "text/x-python",
   "name": "python",
   "nbconvert_exporter": "python",
   "pygments_lexer": "ipython3",
   "version": "3.9.6"
  },
  "otter": {
   "tests": {
    "Submission": {
     "name": "Submission",
     "points": 0,
     "suites": [
      {
       "cases": [
        {
         "code": ">>> reverse_text('W08_test.txt', 'test.txt')\n>>> with open('W08_test.txt') as fin:\n...     t = fin.read()\n...     print(t.strip(' \\n'))\n0\n1\n2\n3\n4\n",
         "failure_message": "Incorrect answer, try again!",
         "hidden": false,
         "locked": false,
         "success_message": "Good job!"
        }
       ],
       "scored": true,
       "setup": "",
       "teardown": "",
       "type": "doctest"
      }
     ]
    }
   }
  }
 },
 "nbformat": 4,
 "nbformat_minor": 4
}
