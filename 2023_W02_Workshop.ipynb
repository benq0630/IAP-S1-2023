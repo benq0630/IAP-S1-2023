{
 "cells": [
  {
   "cell_type": "code",
   "execution_count": null,
   "metadata": {
    "deletable": false,
    "editable": false
   },
   "outputs": [],
   "source": [
    "# Initialize Otter\n",
    "import otter\n",
    "grader = otter.Notebook(\"2023_W02_Workshop.ipynb\")"
   ]
  },
  {
   "cell_type": "markdown",
   "metadata": {},
   "source": [
    "# COMP SCI 1015 IAP - W02 - Workshop"
   ]
  },
  {
   "cell_type": "markdown",
   "metadata": {
    "tags": []
   },
   "source": [
    "## Demo 1 - Variable\n"
   ]
  },
  {
   "cell_type": "markdown",
   "metadata": {},
   "source": [
    "A **variable** is a name that refers to a **value**. We create a **variable** by using an **assignment statement**."
   ]
  },
  {
   "cell_type": "code",
   "execution_count": null,
   "metadata": {},
   "outputs": [],
   "source": [
    "x = 2"
   ]
  },
  {
   "cell_type": "markdown",
   "metadata": {},
   "source": [
    "Now, we create a variable `x` that refers to a value `2`. We can change the value of x by using the assignment statement again"
   ]
  },
  {
   "cell_type": "code",
   "execution_count": null,
   "metadata": {},
   "outputs": [],
   "source": [
    "x = 4"
   ]
  },
  {
   "cell_type": "markdown",
   "metadata": {},
   "source": [
    "We can use the arithmetic operators on these variables"
   ]
  },
  {
   "cell_type": "code",
   "execution_count": null,
   "metadata": {},
   "outputs": [],
   "source": [
    "x = 1\n",
    "y = 2\n",
    "z = 1 + 2"
   ]
  },
  {
   "cell_type": "markdown",
   "metadata": {},
   "source": [
    "We can also assign different data types to the variable."
   ]
  },
  {
   "cell_type": "code",
   "execution_count": null,
   "metadata": {},
   "outputs": [],
   "source": [
    "x = 2        # x is an integer\n",
    "y = 2.5      # y is a float\n",
    "z = x + y    # what is the type of z?"
   ]
  },
  {
   "cell_type": "markdown",
   "metadata": {},
   "source": [
    "Q) Can you guess what is the data type of `z` below and why?"
   ]
  },
  {
   "cell_type": "code",
   "execution_count": null,
   "metadata": {},
   "outputs": [],
   "source": [
    "z = x + y  "
   ]
  },
  {
   "cell_type": "markdown",
   "metadata": {},
   "source": [
    "A) Here Python automatically infers `z` has to be a **float** to avoid the lose of precision. Note that many other programming languages does not automatically infer the data type and this is usually the source of bugs in the code."
   ]
  },
  {
   "cell_type": "markdown",
   "metadata": {},
   "source": [
    "### Print variables\n",
    "\n",
    "The `print` function is very smart and can display a variety of things, inlcuding variables of various types."
   ]
  },
  {
   "cell_type": "code",
   "execution_count": null,
   "metadata": {},
   "outputs": [],
   "source": [
    "x = 3\n",
    "print(x)\n",
    "\n",
    "y = 2\n",
    "print(x + y)\n",
    "\n",
    "a = 'Hello'\n",
    "b = 'World!'\n",
    "print(a + \" \" + b)"
   ]
  },
  {
   "cell_type": "markdown",
   "metadata": {},
   "source": [
    "However, printing becomes a little bit more complicated when you want to print mixed data types. For example, it is very common we would want to mix both *string* and *int* together, as below:"
   ]
  },
  {
   "cell_type": "code",
   "execution_count": null,
   "metadata": {},
   "outputs": [],
   "source": [
    "x = 3\n",
    "print(\"x is \" + x)"
   ]
  },
  {
   "cell_type": "markdown",
   "metadata": {},
   "source": [
    "Code above will createa a **TypeError**. This error happends because Python try to **add** the string **\"x is\"** and an integer variable **x** together, then find out that such operation is not defined."
   ]
  },
  {
   "cell_type": "markdown",
   "metadata": {},
   "source": [
    "### f-string "
   ]
  },
  {
   "cell_type": "markdown",
   "metadata": {},
   "source": [
    "From Pyton 3.6 onwards, we have a convenient tool, **f-string**, to solve such issue. Below is a sample code. The syntax of f-string is quite unique. You have to:\n",
    "- put a f in front of the quotation marks `\"\"`\n",
    "- put variables inside brackets `{}`\n",
    "\n",
    "f-string is convenient because you can directly put a variable inside f-string with brackets as below."
   ]
  },
  {
   "cell_type": "code",
   "execution_count": null,
   "metadata": {},
   "outputs": [],
   "source": [
    "x = 3\n",
    "print(f\"x is {x}\")\n",
    "\n",
    "y = 2\n",
    "print(f'x + y = {x} + {y} = {x+y}')"
   ]
  },
  {
   "cell_type": "markdown",
   "metadata": {},
   "source": [
    "f-string also supports a range of formatting expressions, such as the number of digits to show for a float variable and the alignment. The syntax is again quite unique, take a closer look"
   ]
  },
  {
   "cell_type": "markdown",
   "metadata": {
    "jp-MarkdownHeadingCollapsed": true,
    "tags": []
   },
   "source": [
    "---\n",
    "## Activity 1 - Warm Up with Variables"
   ]
  },
  {
   "cell_type": "markdown",
   "metadata": {},
   "source": [
    "Let's warm up with variables. Please create two variables **name** and **age**. The former is your name, and the later is your age. Then use **f-string** to print out both your name and age. For example, \"My name is Ada, I am 20 years old\"."
   ]
  },
  {
   "cell_type": "code",
   "execution_count": null,
   "metadata": {},
   "outputs": [],
   "source": [
    "x = 'Ben'\n",
    "y = '23'\n",
    "print(f'My name is {x}, I am {y} years old.')"
   ]
  },
  {
   "cell_type": "markdown",
   "metadata": {
    "jp-MarkdownHeadingCollapsed": true,
    "tags": []
   },
   "source": [
    "---\n",
    "## Demo 2: Input"
   ]
  },
  {
   "cell_type": "markdown",
   "metadata": {},
   "source": [
    "The `input()` function pauses the program and waits for the user to input texts. After the user presses the `return` key, the input funciton will return a string. "
   ]
  },
  {
   "cell_type": "code",
   "execution_count": null,
   "metadata": {},
   "outputs": [],
   "source": [
    "num = input(\"Please input a number: \")\n",
    "print(f'The user inputs {num}!')"
   ]
  },
  {
   "cell_type": "markdown",
   "metadata": {},
   "source": [
    "Note that the input function takes whatever user inputs and always returns a `string` value. This is a bit counter intuitive and is often the source of bugs in your code. So, let me say it again:<br>\n",
    "\n",
    "<font color='red'>THE INPUT FUNCTION RETURNS A STRING!</font>\n",
    "\n",
    "Below is a common mistake made by first year student:"
   ]
  },
  {
   "cell_type": "code",
   "execution_count": null,
   "metadata": {},
   "outputs": [],
   "source": [
    "x = input('Please input the first number:')\n",
    "y = input('Please input the second number:')\n",
    "print(f'The sum of the two numbers is {x+y}')"
   ]
  },
  {
   "cell_type": "markdown",
   "metadata": {},
   "source": [
    "To resolve this, we would need to change the data type of `x` and `y` into *integer*. This process is called **casting** "
   ]
  },
  {
   "cell_type": "code",
   "execution_count": null,
   "metadata": {},
   "outputs": [],
   "source": [
    "x = input('Please input the first number:')\n",
    "y = input('Please input the second number:')\n",
    "x = int(x)\n",
    "y = int(y)\n",
    "print(f'The sum of the two numbers is {x+y}')"
   ]
  },
  {
   "cell_type": "markdown",
   "metadata": {
    "tags": []
   },
   "source": [
    "---\n",
    "## Activity 2: Input "
   ]
  },
  {
   "cell_type": "markdown",
   "metadata": {},
   "source": [
    "Please write a program that takes three inputs `a`, `b`, and `c`, then print out the result of `a+b*c`. "
   ]
  },
  {
   "cell_type": "code",
   "execution_count": null,
   "metadata": {
    "tags": []
   },
   "outputs": [],
   "source": [
    "#INSERT YOUR CODE BELOW\n",
    "a = input('Please input the value of a: ')\n",
    "a = int(a)\n",
    "b = input('Please input the value of b: ')\n",
    "b = int(b)\n",
    "c = input('Please input the value of c: ')\n",
    "c = int(c)\n",
    "r = a+b*c\n",
    "print(f'a+b*c = {r}')"
   ]
  },
  {
   "cell_type": "markdown",
   "metadata": {
    "jp-MarkdownHeadingCollapsed": true,
    "tags": []
   },
   "source": [
    "---\n",
    "## Demo 3 - Python for mathmatical calculation"
   ]
  },
  {
   "cell_type": "markdown",
   "metadata": {},
   "source": [
    "We can do a lot of things with variables. Below is an example where we calculate the area a 2D circle. "
   ]
  },
  {
   "cell_type": "markdown",
   "metadata": {},
   "source": [
    "$A = \\pi{} r^2$"
   ]
  },
  {
   "cell_type": "code",
   "execution_count": null,
   "metadata": {},
   "outputs": [],
   "source": [
    "PI = 3.1415\n",
    "radius = 5.0\n",
    "\n",
    "area = PI * radius ** 2\n",
    "print(f'The are of a circle with radius {radius} is {area}')"
   ]
  },
  {
   "cell_type": "markdown",
   "metadata": {},
   "source": [
    "Now, if we want to calculate the area of another circle with the radius of 10.0, the only thing we need to do is to change the value assigned to the radius and the same program will execute again and give you a new answer! Give it a try!"
   ]
  },
  {
   "cell_type": "markdown",
   "metadata": {
    "jp-MarkdownHeadingCollapsed": true,
    "tags": []
   },
   "source": [
    "---\n",
    "## Activity 3.1 - Calculate BMI"
   ]
  },
  {
   "cell_type": "markdown",
   "metadata": {},
   "source": [
    "**Body Mass Index (BMI)** is a simple calculation using a person's height and weight. The formula is:<br>\n",
    "$BMI = kg/m^2$"
   ]
  },
  {
   "cell_type": "markdown",
   "metadata": {},
   "source": [
    "Please write a program that takes two user inputs of **height in cm** and **weight in kg**, then reports his/her BMI value."
   ]
  },
  {
   "cell_type": "code",
   "execution_count": null,
   "metadata": {
    "tags": []
   },
   "outputs": [],
   "source": [
    "### INSERT YOUR CODE BELOW\n",
    "height = input('Please input your height: ')\n",
    "height = int(height)\n",
    "heightinM = height/100\n",
    "weight = input('Please input your weight: ')\n",
    "weight = int(weight)\n",
    "bmi = weight/heightinM**2\n",
    "print(f'BMI is {bmi}')"
   ]
  },
  {
   "cell_type": "markdown",
   "metadata": {
    "jp-MarkdownHeadingCollapsed": true,
    "tags": []
   },
   "source": [
    "---\n",
    "## Activity 3.2 - Calculate the radius"
   ]
  },
  {
   "cell_type": "markdown",
   "metadata": {},
   "source": [
    "Please write a program that \n",
    "1. allows the user to input the **area** of the circle, \n",
    "1. then calculates the **raidus** of the circle.\n",
    "\n",
    "Please use the `math.sqrt()` for calculating the square root. For example, `math.sqrt(4)` will return `2`. "
   ]
  },
  {
   "cell_type": "markdown",
   "metadata": {},
   "source": [
    "hint: $r = \\sqrt{A/\\pi{}} $"
   ]
  },
  {
   "cell_type": "code",
   "execution_count": null,
   "metadata": {
    "tags": []
   },
   "outputs": [],
   "source": [
    "import math #we will talk about importing modules more in the future\n",
    "\n",
    "pi = math.pi\n",
    "area = input('Please input the size of area: ')\n",
    "area = int(area)\n",
    "r = math.sqrt(area/pi) \n",
    "print(f'The radius of uta circle of area {area} is {r}')"
   ]
  },
  {
   "cell_type": "markdown",
   "metadata": {
    "jp-MarkdownHeadingCollapsed": true,
    "tags": []
   },
   "source": [
    "---\n",
    "## Activity 3.3 - Distance between two 2D points"
   ]
  },
  {
   "attachments": {
    "image.png": {
     "image/png": "[encoded data removed]"
    }
   },
   "cell_type": "markdown",
   "metadata": {},
   "source": [
    "![image.png](attachment:image.png)"
   ]
  },
  {
   "cell_type": "markdown",
   "metadata": {},
   "source": [
    "Assume we have two points in a 3D space p1 = (x1, y1, z1), p2 = (x2, y2, z2). Please\n",
    "1. print out a vector `p1p2` (i.e. V = p2 - p1)\n",
    "1. calcualte and report the distance between p1 and p2. \n",
    "\n",
    "If you forget the formula, please Google it. Finding relavent information from the web and translating it into code is an important skill for programmers."
   ]
  },
  {
   "cell_type": "code",
   "execution_count": null,
   "metadata": {
    "tags": []
   },
   "outputs": [],
   "source": [
    "import math\n",
    "x1 = 2\n",
    "y1 = 3\n",
    "z1 = 4\n",
    "\n",
    "x2 = 20\n",
    "y2 = 30\n",
    "z2 = 50\n",
    "\n",
    "# INPUT YOUR CODE BELOW\n",
    "# 2 LINES\n",
    "print(f'p2p1 = ({x2-x1},{y2-y1},{z2-z1})')\n",
    "dis = math.sqrt((x2 - x1)**2 + (y2 - y1)**2 + (z2 - z1)**2)\n",
    "print(f'distance between p1 and p2 is {dis}')\n",
    "\n",
    "# BELOW IS THE EXPECTED OUTPUT\n",
    "# p2p1 = (18,27,46)\n",
    "# distance between p1 and p2 is 56.293871780150276"
   ]
  },
  {
   "cell_type": "markdown",
   "metadata": {
    "jp-MarkdownHeadingCollapsed": true,
    "tags": []
   },
   "source": [
    "---\n",
    "## Submission Exercise"
   ]
  },
  {
   "cell_type": "markdown",
   "metadata": {
    "tags": []
   },
   "source": [
    "Suppose the cover price of a book is *24.95*, but bookstores get a 40\\% discount. Shipping costs AU$3 for the first copy and 75 cents for each additional copy. \n",
    "\n",
    "Please write a program that calculates the total wholesale cost for `n` copies, where `n` can be the user input. We set `n=100` for the auto-grading purpose.\n",
    "\n",
    "<font color=\"Red\">Before you submit, set n to 100.</font>"
   ]
  },
  {
   "cell_type": "markdown",
   "metadata": {},
   "source": [
    "<!-- BEGIN QUESTION -->\n",
    "\n"
   ]
  },
  {
   "cell_type": "code",
   "execution_count": 33,
   "metadata": {
    "tags": []
   },
   "outputs": [
    {
     "name": "stdout",
     "output_type": "stream",
     "text": [
      "1574.25\n",
      "The whole sale price of 100 book is 1574.25\n"
     ]
    }
   ],
   "source": [
    "#BEFORE SUBMIT, SET N = 100\n",
    "n = 100\n",
    "\n",
    "# INPUT YOUR CODE BELOW\n",
    "# 1 lines\n",
    "price = (n*24.95*0.6) + (3) + (n-1) * 0.75\n",
    "print(price)\n",
    "print(f'The whole sale price of {n} book is {price}')\n",
    "# SOME EXAMPLE ANSWERS BELOW\n",
    "# n = 3, price = 49.41\n",
    "# n = 30, price = 473.849\n",
    "\n",
    "#BEFORE SUBMIT, SET N = 100"
   ]
  },
  {
   "cell_type": "markdown",
   "metadata": {},
   "source": [
    "<!-- END QUESTION -->\n",
    "\n",
    "## <font color='red'>Remember to submit your work to Gradescope and sign out with yout tutor before leaving the session.</font>"
   ]
  }
 ],
 "metadata": {
  "kernelspec": {
   "display_name": "Python 3 (ipykernel)",
   "language": "python",
   "name": "python3"
  },
  "language_info": {
   "codemirror_mode": {
    "name": "ipython",
    "version": 3
   },
   "file_extension": ".py",
   "mimetype": "text/x-python",
   "name": "python",
   "nbconvert_exporter": "python",
   "pygments_lexer": "ipython3",
   "version": "3.9.16"
  },
  "otter": {
   "tests": {
    "Submission": {
     "name": "Submission",
     "points": 0,
     "suites": [
      {
       "cases": [
        {
         "code": ">>> price == 1574.25\nTrue",
         "failure_message": "Incorrect answer, have you set `n` to 100?",
         "hidden": false,
         "locked": false,
         "success_message": "Good job!"
        }
       ],
       "scored": true,
       "setup": "",
       "teardown": "",
       "type": "doctest"
      }
     ]
    }
   }
  },
  "vscode": {
   "interpreter": {
    "hash": "d57c152add3a77aa406b6a31edc12b55f0062050fedadc6ea5d152b48566b0e5"
   }
  }
 },
 "nbformat": 4,
 "nbformat_minor": 4
}
