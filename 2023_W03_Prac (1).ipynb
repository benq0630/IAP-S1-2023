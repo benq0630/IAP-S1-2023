{
 "cells": [
  {
   "cell_type": "code",
   "execution_count": null,
   "metadata": {
    "deletable": false,
    "editable": false
   },
   "outputs": [],
   "source": [
    "# Initialize Otter\n",
    "import otter\n",
    "grader = otter.Notebook(\"2023_W03_Prac.ipynb\")"
   ]
  },
  {
   "cell_type": "markdown",
   "metadata": {},
   "source": [
    "# COMP SCI 1015 IAP - W03 - Practical"
   ]
  },
  {
   "cell_type": "markdown",
   "metadata": {},
   "source": [
    "## Task 1: Write your own math functions (30 marks)"
   ]
  },
  {
   "attachments": {
    "image.png": {
     "image/png": "[encoded data removed]"
    }
   },
   "cell_type": "markdown",
   "metadata": {},
   "source": [
    "Consider we have a vector $\\vec{v}$ described by two points in a 3D space `p1 = (x1, y1, z1)` and `p2 = (x2, y2, z2)` as shown below.\n",
    "\n",
    "![image.png](attachment:image.png)\n",
    "\n",
    "Implement the following functions.\n",
    "* A function `dot_3d()` with 6 parameters that calculates the dot product between `P1` and `P2`.\n",
    "* A function `dist_3d()` with 6 parameters that calculates the distance between `P1` and `P2`.\n",
    "\n",
    "Definitions of the dot product and 3D distance are shown below:\n",
    "* $dot\\ product = x1x2 + y1y2 + z1z2$\n",
    "* $3D\\ distance = \\sqrt{(x1-x2)^2+(y1-y2)^2+(z1-z2)^2}$"
   ]
  },
  {
   "cell_type": "code",
   "execution_count": null,
   "metadata": {
    "tags": []
   },
   "outputs": [],
   "source": [
    "import math\n",
    "\n",
    "def dist_3d(x1, y1, z1, x2, y2, z2):\n",
    "    # COMPLETE THE LINE BELOW\n",
    "    dis = ...\n",
    "    return dis\n",
    "\n",
    "def dot(x1, y1, x2, y2, z1, z2):\n",
    "    # COMPLETE THE LINE BELOW\n",
    "    dp = ...\n",
    "    return dp\n",
    "\n",
    "# ================\n",
    "# TEST CASES BELOW\n",
    "print(dot(2, 3, 4, 20, 30, 50)) # 1568\n",
    "print(dist_3d(5, 6, 7, 9, 10, 2)) # 7.549"
   ]
  },
  {
   "cell_type": "code",
   "execution_count": null,
   "metadata": {
    "deletable": false,
    "editable": false
   },
   "outputs": [],
   "source": [
    "grader.check(\"Task1\")"
   ]
  },
  {
   "cell_type": "markdown",
   "metadata": {},
   "source": [
    "## Task 2: Nested functions (30 marks)"
   ]
  },
  {
   "cell_type": "markdown",
   "metadata": {},
   "source": [
    "You are provided with three functions; `draw_horizontal_boarder()`, `draw_vertical_boarder()`, and `draw_1_row()`.\n",
    "\n",
    "Implement the other three functions by calling the provided functions."
   ]
  },
  {
   "cell_type": "code",
   "execution_count": null,
   "metadata": {
    "tags": []
   },
   "outputs": [],
   "source": [
    "def draw_horizontal_boarder():\n",
    "    return '+----+----+'\n",
    "\n",
    "def draw_vertical_boarder():\n",
    "    return '|    |    |'\n",
    "\n",
    "def draw_1_row():\n",
    "    s = ''\n",
    "    s = s + draw_vertical_boarder() + '\\n'\n",
    "    s = s + draw_horizontal_boarder() + '\\n'\n",
    "    return s\n",
    "    \n",
    "def draw_2_rows():\n",
    "    s = ''\n",
    "    # INPUT YOUR CODE BELOW\n",
    "    ...\n",
    "    return s\n",
    "\n",
    "def draw_5_rows():\n",
    "    s = ''\n",
    "    # INPUT YOUR CODE BELOW\n",
    "    ...\n",
    "    return s\n",
    "\n",
    "def draw_6_rows():\n",
    "    s = ''\n",
    "    # INPUT YOUR CODE BELOW\n",
    "    ...\n",
    "    return s\n",
    "\n",
    "# ================    \n",
    "# TEST CASES BELOW  \n",
    "\n",
    "# TEST CASE 1\n",
    "s = draw_horizontal_boarder()\n",
    "s = s + '\\n' + draw_1_row()\n",
    "print(s)\n",
    "\n",
    "# TEST CASE 2\n",
    "s = draw_horizontal_boarder()\n",
    "s = s + '\\n' + draw_2_rows()\n",
    "print(s)\n",
    "\n",
    "# TEST CASE 3\n",
    "s = draw_horizontal_boarder()\n",
    "s = s + '\\n' + draw_5_rows()\n",
    "print(s)\n",
    "\n",
    "# TEST CASE 4\n",
    "s = draw_horizontal_boarder()\n",
    "s = s + '\\n' + draw_6_rows()\n",
    "print(s)"
   ]
  },
  {
   "cell_type": "raw",
   "metadata": {
    "tags": []
   },
   "source": [
    "# BELOW IS THE EXPECTED OUTPUT \n",
    "\n",
    "+----+----+\n",
    "|    |    |\n",
    "+----+----+\n",
    "\n",
    "+----+----+\n",
    "|    |    |\n",
    "+----+----+\n",
    "|    |    |\n",
    "+----+----+\n",
    "\n",
    "+----+----+\n",
    "|    |    |\n",
    "+----+----+\n",
    "|    |    |\n",
    "+----+----+\n",
    "|    |    |\n",
    "+----+----+\n",
    "|    |    |\n",
    "+----+----+\n",
    "|    |    |\n",
    "+----+----+\n",
    "\n",
    "+----+----+\n",
    "|    |    |\n",
    "+----+----+\n",
    "|    |    |\n",
    "+----+----+\n",
    "|    |    |\n",
    "+----+----+\n",
    "|    |    |\n",
    "+----+----+\n",
    "|    |    |\n",
    "+----+----+\n",
    "|    |    |\n",
    "+----+----+\n"
   ]
  },
  {
   "cell_type": "code",
   "execution_count": null,
   "metadata": {
    "deletable": false,
    "editable": false
   },
   "outputs": [],
   "source": [
    "grader.check(\"Task2\")"
   ]
  },
  {
   "cell_type": "markdown",
   "metadata": {},
   "source": [
    "## Task 3: Integer calculator (40 marks)"
   ]
  },
  {
   "cell_type": "markdown",
   "metadata": {},
   "source": [
    "Some software is designed to convert floating-point numbers into integers for faster calculations.\n",
    "\n",
    "Firstly, please create the two functions `int_add(x, y)` and `int_mul(x, y)`. These functions first convert the arguments to integers, before performing their respective calculation between `x` and `y`.\n",
    "\n",
    "Afterwards, implement `test_1()` and `test_2()` using the two functions while meeting the following formula\n",
    "* `test_1()`: $result = (3.5 + 4.2)*(2.7 + 3.2)$\n",
    "* `test_2()`: $result = (1.2*2.3)+(-2*0.5)$"
   ]
  },
  {
   "cell_type": "code",
   "execution_count": null,
   "metadata": {
    "tags": []
   },
   "outputs": [],
   "source": [
    "# YOUR CODE BELOW\n",
    "...\n",
    "\n",
    "# YOUR CODE BELOW\n",
    "...\n",
    "\n",
    "def test_1():\n",
    "    # COMPLETE TEST 1 FORMULA USING int_add() and int_mul()\n",
    "    eq = ...\n",
    "    return eq\n",
    "\n",
    "def test_2():\n",
    "    # COMPLETE TEST 2 FORMULA USING int_add() and int_mul()\n",
    "    eq = ...\n",
    "    return eq\n",
    "    \n",
    "    \n",
    "# EXAMPLE TEST CASES\n",
    "s = int_add(int_add(3.2, 2.7), 5.3)\n",
    "print(s) # this should print 10\n",
    "\n",
    "print(test_1())\n",
    "print(test_2())"
   ]
  },
  {
   "cell_type": "code",
   "execution_count": null,
   "metadata": {
    "deletable": false,
    "editable": false
   },
   "outputs": [],
   "source": [
    "grader.check(\"Task3\")"
   ]
  }
 ],
 "metadata": {
  "kernelspec": {
   "display_name": "Python 3 (ipykernel)",
   "language": "python",
   "name": "python3"
  },
  "language_info": {
   "codemirror_mode": {
    "name": "ipython",
    "version": 3
   },
   "file_extension": ".py",
   "mimetype": "text/x-python",
   "name": "python",
   "nbconvert_exporter": "python",
   "pygments_lexer": "ipython3",
   "version": "3.9.12"
  },
  "otter": {
   "tests": {
    "Task1": {
     "name": "Task1",
     "points": 30,
     "suites": [
      {
       "cases": [
        {
         "code": ">>> dot(2, 3, 4, 2, 3, 50) == 164\nTrue",
         "failure_message": "Incorrect answer, try again!",
         "hidden": false,
         "locked": false,
         "points": 5,
         "success_message": "Good job!"
        },
        {
         "code": ">>> dist_3d(5, 6, 7, 3, 5, 2) == 5.477225575051661\nTrue",
         "failure_message": "Incorrect answer, try again!",
         "hidden": false,
         "locked": false,
         "points": 5,
         "success_message": "Good job!"
        }
       ],
       "scored": true,
       "setup": "",
       "teardown": "",
       "type": "doctest"
      }
     ]
    },
    "Task2": {
     "name": "Task2",
     "points": 30,
     "suites": [
      {
       "cases": [
        {
         "code": ">>> draw_2_rows() in '|    |    |\\n+----+----+\\n|    |    |\\n+----+----+\\n'\nTrue",
         "failure_message": "Incorrect answer, try again!",
         "hidden": false,
         "locked": false,
         "points": 10,
         "success_message": "Good job!"
        },
        {
         "code": ">>> draw_5_rows() in '|    |    |\\n+----+----+\\n|    |    |\\n+----+----+\\n|    |    |\\n+----+----+\\n|    |    |\\n+----+----+\\n|    |    |\\n+----+----+\\n'\nTrue",
         "failure_message": "Incorrect answer, try again!",
         "hidden": false,
         "locked": false,
         "points": 10,
         "success_message": "Good job!"
        },
        {
         "code": ">>> draw_6_rows() in '|    |    |\\n+----+----+\\n|    |    |\\n+----+----+\\n|    |    |\\n+----+----+\\n|    |    |\\n+----+----+\\n|    |    |\\n+----+----+\\n|    |    |\\n+----+----+\\n'\nTrue",
         "failure_message": "Incorrect answer, try again!",
         "hidden": false,
         "locked": false,
         "points": 10,
         "success_message": "Good job!"
        }
       ],
       "scored": true,
       "setup": "",
       "teardown": "",
       "type": "doctest"
      }
     ]
    },
    "Task3": {
     "name": "Task3",
     "points": 40,
     "suites": [
      {
       "cases": [
        {
         "code": ">>> int_add(int_add(3.2, -2), 3.3) == 4\nTrue",
         "failure_message": "Incorrect answer, try again!",
         "hidden": false,
         "locked": false,
         "points": 10,
         "success_message": "Good job!"
        },
        {
         "code": ">>> test_1() == 35\nTrue",
         "failure_message": "Incorrect answer, try again!",
         "hidden": false,
         "locked": false,
         "points": 10,
         "success_message": "Good job!"
        },
        {
         "code": ">>> test_2() == 2\nTrue",
         "failure_message": "Incorrect answer, try again!",
         "hidden": false,
         "locked": false,
         "points": 10,
         "success_message": "Good job!"
        }
       ],
       "scored": true,
       "setup": "",
       "teardown": "",
       "type": "doctest"
      }
     ]
    }
   }
  },
  "vscode": {
   "interpreter": {
    "hash": "d57c152add3a77aa406b6a31edc12b55f0062050fedadc6ea5d152b48566b0e5"
   }
  }
 },
 "nbformat": 4,
 "nbformat_minor": 4
}
