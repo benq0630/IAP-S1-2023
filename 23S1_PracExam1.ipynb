{
 "cells": [
  {
   "cell_type": "markdown",
   "metadata": {},
   "source": [
    "# Practical Exam 1 (2023 S1)\n",
    "\n",
    "**Time:** 110 minutes (105 minutes for solving the tasks + 5 minutes for the upload)<br>\n",
    "**Mark:** 110 available, but capped at 100.\n",
    "\n",
    "See full exam information: [here](https://myuni.adelaide.edu.au/courses/85258/pages/prac-exam-1-information?module_item_id=2928787)\n",
    "\n",
    "<font color='red'>Unless otherwise stated, questions are marked using the autograder. As such, you have to use the function names, parameters, and returns exactly as instructed. Once results come out, you will be able to submit a ticket in Gradescope to get a question(s) reviewed and remarked if necessary.</font><br>\n",
    "\n",
    "<font color=red>Remember to submit your Jupyter notebook to **Gradescope** before the exam completion. It is recommended you make submissions throughout the exam.</font><br>\n",
    "\n",
    "<font color=red>Do not discuss or share exam questions anywhere within two weeks after exam completion.</font><br>"
   ]
  },
  {
   "cell_type": "markdown",
   "metadata": {},
   "source": [
    "---"
   ]
  },
  {
   "cell_type": "markdown",
   "metadata": {
    "tags": []
   },
   "source": [
    "# In questions 1 ~ 6 you will demonstrate your ability to code the essentials\n",
    "\n",
    "Total marks 70. The purpose of these questions is to verify you have learnt the **key concepts** of the course."
   ]
  },
  {
   "cell_type": "markdown",
   "metadata": {
    "tags": []
   },
   "source": [
    "<!-- BEGIN QUESTION -->\n",
    "\n",
    "## Q1: User Input & print (5 marks)\n",
    "Write a program that takes in two numbers of user input as floats. Assign these to the variables `a` and `b`. Then, **prints** the sum as an equation.\n",
    "\n",
    "**Example (<font color=red>red text</font> represents user input):**\n",
    "<pre>\n",
    "Please enter a number: <font color=red>42</font>\n",
    "Please enter a number: <font color=red>3.3</font>\n",
    "42.0 + 3.3 = 45.3\n",
    "</pre>\n",
    "\n",
    "*This question is manually marked.* "
   ]
  },
  {
   "cell_type": "code",
   "execution_count": 13,
   "metadata": {
    "tags": []
   },
   "outputs": [
    {
     "name": "stdout",
     "output_type": "stream",
     "text": [
      "42.0 + 3.3 = 45.3\n"
     ]
    }
   ],
   "source": [
    "# INSERT YOUR CODE BELOW (~ 3 lines)\n",
    "a = input(\"Please enter a number: \")\n",
    "a = float(a)\n",
    "b = input(\"Please enter a number: \")\n",
    "b = float(b)\n",
    "c = a + b\n",
    "print(f\"{a} + {b} = {c}\")"
   ]
  },
  {
   "cell_type": "markdown",
   "metadata": {
    "tags": []
   },
   "source": [
    "<!-- END QUESTION -->\n",
    "\n",
    "## Q2: Functions (15 marks)\n",
    "Write a function `print_greeting()` that has two parameters `greeting` and `name` (in that order) with default values of 'Hello' and 'World' respectively.\n",
    "\n",
    "This function should **print** a message of greeting the provided name (see the example test cases below)."
   ]
  },
  {
   "cell_type": "code",
   "execution_count": 74,
   "metadata": {
    "tags": []
   },
   "outputs": [
    {
     "name": "stdout",
     "output_type": "stream",
     "text": [
      "Thank youdriver\n",
      "HelloWorld\n",
      "Hellodriver\n"
     ]
    },
    {
     "ename": "TypeError",
     "evalue": "print_greeting() missing 2 required positional arguments: 'greeting' and 'name'",
     "output_type": "error",
     "traceback": [
      "\u001b[0;31m---------------------------------------------------------------------------\u001b[0m",
      "\u001b[0;31mTypeError\u001b[0m                                 Traceback (most recent call last)",
      "Cell \u001b[0;32mIn[74], line 13\u001b[0m\n\u001b[1;32m      9\u001b[0m \u001b[39m# =======================\u001b[39;00m\n\u001b[1;32m     10\u001b[0m \u001b[39m# EXAMPLE TESTING CASES\u001b[39;00m\n\u001b[1;32m     11\u001b[0m \u001b[39m# DO NOT CHANGE\u001b[39;00m\n\u001b[1;32m     12\u001b[0m print_greeting(\u001b[39m'\u001b[39m\u001b[39mThank you,\u001b[39m\u001b[39m'\u001b[39m, \u001b[39m'\u001b[39m\u001b[39mdriver\u001b[39m\u001b[39m'\u001b[39m) \u001b[39m#'Thank you, driver' -- PUBLIC TEST CASE\u001b[39;00m\n\u001b[0;32m---> 13\u001b[0m print_greeting() \u001b[39m#'Hello World'\u001b[39;00m\n\u001b[1;32m     14\u001b[0m print_greeting(name\u001b[39m=\u001b[39m\u001b[39m'\u001b[39m\u001b[39mMr Bennett\u001b[39m\u001b[39m'\u001b[39m) \u001b[39m#'Hello Mr Bennett'\u001b[39;00m\n",
      "\u001b[0;31mTypeError\u001b[0m: print_greeting() missing 2 required positional arguments: 'greeting' and 'name'"
     ]
    }
   ],
   "source": [
    "# INSERT YOUR CODE BELOW (~ 1 line)\n",
    "def print_greeting(greeting,name):\n",
    "    greeting = input(\"Please enter your greeting: \")\n",
    "    greeting = str(greeting)\n",
    "    print(greeting + name)\n",
    "    print('Hello'+ 'World')\n",
    "    print('Hello'+ name )\n",
    "    \n",
    "# =======================\n",
    "# EXAMPLE TESTING CASES\n",
    "# DO NOT CHANGE\n",
    "print_greeting('Thank you,', 'driver') #'Thank you, driver' -- PUBLIC TEST CASE\n",
    "print_greeting() #'Hello World'\n",
    "print_greeting(name='Mr Bennett') #'Hello Mr Bennett'"
   ]
  },
  {
   "cell_type": "markdown",
   "metadata": {
    "tags": []
   },
   "source": [
    "## Q3: Booleans and if-statements (15 marks)\n",
    "Implement the following function such that it returns `True` or `False` depending on the following rules:\n",
    "* If `n` is divisible 3 or 4 and `n` is not divisble by 12, the function should return `True`.\n",
    "* Otherwise, the function returns `False`."
   ]
  },
  {
   "cell_type": "code",
   "execution_count": 71,
   "metadata": {
    "tags": []
   },
   "outputs": [
    {
     "name": "stdout",
     "output_type": "stream",
     "text": [
      "True\n",
      "True\n"
     ]
    }
   ],
   "source": [
    "# INSERT YOUR CODE BELOW\n",
    "def div_by_3_or_4_but_not_12(n):\n",
    "    # INSERT YOUR CODE BELOW (~ 4-8 lines)\n",
    "    if n / 3 or n / 4 and n //12:\n",
    "        return True\n",
    "    else:\n",
    "        return False\n",
    "    \n",
    "    \n",
    "\n",
    "# =======================\n",
    "# EXAMPLE TESTING CASES\n",
    "# DO NOT CHANGE\n",
    "print(div_by_3_or_4_but_not_12(10)) #False: 10 is not divisible by any of the numbers -- PUBLIC TEST CASE\n",
    "print(div_by_3_or_4_but_not_12(3))  #True: The remainder of 3/3 is 0"
   ]
  },
  {
   "cell_type": "markdown",
   "metadata": {
    "tags": []
   },
   "source": [
    "<!-- BEGIN QUESTION -->\n",
    "\n",
    "## Q4: Loops #1 (15 marks)\n",
    "Using a **while loop**, implement the `spam` function. This function should first ask the user to enter a message. Then, it should ask them to enter a number. Afterwards the function prints the user's message that number of times (each being on a new line).\n",
    "\n",
    "**Example (<font color=red>red text</font> represents user input):**\n",
    "<pre>\n",
    "Enter a message: <font color=red>hello world</font>\n",
    "Please enter a number: <font color=red>2</font>\n",
    "hello world\n",
    "hello world\n",
    "</pre>\n",
    "\n",
    "*This question is manually marked.*"
   ]
  },
  {
   "cell_type": "code",
   "execution_count": 65,
   "metadata": {
    "tags": []
   },
   "outputs": [],
   "source": [
    "def spam(a,b):\n",
    "    # INSERT YOUR CODE BELOW (~ 6 lines)\n",
    "    a = input(\"Enter a message: \")\n",
    "    a = str(a)\n",
    "    b = input(\"Please enter a number: \")\n",
    "    b = int(b)\n",
    "    return spam(a,b)\n",
    "    \n",
    "# =======================\n",
    "# this will run the function to allow you to test, \n",
    "# spam() # COMMENT THE LINE OUT WHEN YOU SUBMIT to ensure a speedy submission"
   ]
  },
  {
   "cell_type": "markdown",
   "metadata": {
    "tags": []
   },
   "source": [
    "<!-- END QUESTION -->\n",
    "\n",
    "<!-- BEGIN QUESTION -->\n",
    "\n",
    "## Q5: Loops #2 (15 marks)\n",
    "Using a **for loop**, implement a function that **returns** a string containing every second number from `0` upto  and including `n` (separated by spaces '` `').\n",
    "\n",
    "*You may assume that n is always a positive integer. You do not need to trim trailing whitespace.*\n",
    "\n",
    "*This question is manually marked.*"
   ]
  },
  {
   "cell_type": "code",
   "execution_count": 64,
   "metadata": {
    "tags": []
   },
   "outputs": [
    {
     "name": "stdout",
     "output_type": "stream",
     "text": [
      "0\n",
      "None\n",
      "0\n"
     ]
    }
   ],
   "source": [
    "# INSERT YOUR CODE BELOW\n",
    "def generate_sequence(n):\n",
    "    text = ''\n",
    "    # INSERT YOUR CODE BELOW (~ 2 - 5 lines)\n",
    "    n >= 0\n",
    "    for text in range (n):\n",
    "        text == text + 1\n",
    "        return text\n",
    "\n",
    "# =======================\n",
    "# EXAMPLE TESTING CASES\n",
    "# DO NOT CHANGE\n",
    "print(generate_sequence(10)) #0 2 4 6 8 10 \n",
    "print(generate_sequence(0))  #0 \n",
    "print(generate_sequence(4))  #0 2 4 "
   ]
  },
  {
   "cell_type": "markdown",
   "metadata": {
    "tags": []
   },
   "source": [
    "<!-- END QUESTION -->\n",
    "\n",
    "## Q6: List of lists (5 marks)\n",
    "List `li` is a nested list. Implement the `get_sublist_length` function that **returns** the length of the `n`'th list of `li`.\n",
    "\n",
    "*You may assume that* `n` *is always a positive integer, and* `li` *contains at least* `n+1` *elements.*"
   ]
  },
  {
   "cell_type": "code",
   "execution_count": 45,
   "metadata": {
    "tags": []
   },
   "outputs": [
    {
     "name": "stdout",
     "output_type": "stream",
     "text": [
      "2\n",
      "3\n"
     ]
    }
   ],
   "source": [
    "# INSERT YOUR CODE BELOW\n",
    "def get_sublist_length(li, n):\n",
    "    # INSERT YOUR CODE BELOW (~ 1-2 lines)\n",
    "    return len(li[n])\n",
    "\n",
    "# =======================\n",
    "# EXAMPLE TESTING CASES\n",
    "# DO NOT CHANGE\n",
    "li = [[0,1],[2,3],[4,5],[6,7],[8,9]]\n",
    "print(get_sublist_length(li, 3)) #2 -- PUBLIC TEST CASE\n",
    "li = [[0],[0,0],[0,0,0]]\n",
    "print(get_sublist_length(li, 2)) #3"
   ]
  },
  {
   "cell_type": "markdown",
   "metadata": {},
   "source": [
    "---"
   ]
  },
  {
   "cell_type": "markdown",
   "metadata": {
    "tags": []
   },
   "source": [
    "# In questions 7 ~ 8 you will combine your knowledge of the fundamentals to create useful programs\n",
    "Total marks 40. **These questions are designed to be more challenging** in order to identify those working at a Distinction level or higher. **As each question is made up of two parts, even if you cannot complete everything you can earn some marks!**"
   ]
  },
  {
   "cell_type": "markdown",
   "metadata": {},
   "source": [
    "## Q7: Convert a mark to grade (20 marks)\n",
    "The University of Adelaide uses the following grading scheme for its honours courses.\n",
    "- 1:   mark between 80 - 100\n",
    "- 2A:  mark between 70 - 89\n",
    "- 2B:  mark between 60 - 69\n",
    "- 3:   mark between 50 - 59\n",
    "- NAH: mark between 0 - 49\n",
    "\n",
    "### Part A (10 marks)\n",
    "Complete the function `mark_to_grade` that converts a `mark` (integer) into a `grade` (string) and **returns** that `grade`. If the `mark` is below 0 or above 100, the function should **return** `'invalid'`.\n",
    "\n",
    "### Part B (10 marks)\n",
    "Using `mark_to_grade`, complete the function `list_mark_to_grade` that converts a list of marks into a list of grades."
   ]
  },
  {
   "cell_type": "code",
   "execution_count": 69,
   "metadata": {
    "tags": []
   },
   "outputs": [
    {
     "name": "stdout",
     "output_type": "stream",
     "text": [
      "NAH\n",
      "None\n",
      "NAH\n",
      "None\n"
     ]
    },
    {
     "ename": "TypeError",
     "evalue": "list indices must be integers or slices, not list",
     "output_type": "error",
     "traceback": [
      "\u001b[0;31m---------------------------------------------------------------------------\u001b[0m",
      "\u001b[0;31mTypeError\u001b[0m                                 Traceback (most recent call last)",
      "Cell \u001b[0;32mIn[69], line 29\u001b[0m\n\u001b[1;32m     27\u001b[0m \u001b[39mprint\u001b[39m(mark_to_grade(\u001b[39m70\u001b[39m)) \u001b[39m#'2A'\u001b[39;00m\n\u001b[1;32m     28\u001b[0m \u001b[39mprint\u001b[39m(mark_to_grade(\u001b[39m-\u001b[39m\u001b[39m5\u001b[39m)) \u001b[39m#'invalid'\u001b[39;00m\n\u001b[0;32m---> 29\u001b[0m \u001b[39mprint\u001b[39m(list_mark_to_grade([\u001b[39m10\u001b[39;49m, \u001b[39m50\u001b[39;49m, \u001b[39m60\u001b[39;49m, \u001b[39m70\u001b[39;49m])) \u001b[39m#['NAH', '3', '2B', '2A']\u001b[39;00m\n\u001b[1;32m     30\u001b[0m \u001b[39mprint\u001b[39m(list_mark_to_grade([\u001b[39m30\u001b[39m, \u001b[39m99\u001b[39m, \u001b[39m-\u001b[39m\u001b[39m5\u001b[39m, \u001b[39m70\u001b[39m])) \u001b[39m#['NAH', '1', 'invalid', '2A']\u001b[39;00m\n",
      "Cell \u001b[0;32mIn[69], line 21\u001b[0m, in \u001b[0;36mlist_mark_to_grade\u001b[0;34m(marks)\u001b[0m\n\u001b[1;32m     19\u001b[0m output \u001b[39m=\u001b[39m []\n\u001b[1;32m     20\u001b[0m \u001b[39m# INSERT YOUR CODE BELOW (~ 2 - 5 lines)\u001b[39;00m\n\u001b[0;32m---> 21\u001b[0m \u001b[39mprint\u001b[39m(li[marks])\n\u001b[1;32m     22\u001b[0m \u001b[39mreturn\u001b[39;00m output\n",
      "\u001b[0;31mTypeError\u001b[0m: list indices must be integers or slices, not list"
     ]
    }
   ],
   "source": [
    "def mark_to_grade(mark):\n",
    "    # INSERT YOUR CODE BELOW (~ 12 lines)\n",
    "    mark = int(mark)\n",
    "    if mark <= 0 or mark >= 49:\n",
    "        grade = print(\"NAH\")\n",
    "    elif mark == 50 or mark >= 59:\n",
    "        grade = print(\"3\")\n",
    "    elif mark == 60 or mark >= 69:\n",
    "        grade = print(\"2B\")\n",
    "    elif mark == 70 or mark >= 79:\n",
    "        grade = print(\"2A\")\n",
    "    elif mark == 80 or mark >= 100:\n",
    "        grade = print(\"1\")\n",
    "    elif mark < 0 or mark > 100:\n",
    "        grade = print(\"invalid\")\n",
    "    grade = str(grade)\n",
    "\n",
    "def list_mark_to_grade(marks):\n",
    "    output = []\n",
    "    # INSERT YOUR CODE BELOW (~ 2 - 5 lines)\n",
    "    print(li[marks])\n",
    "    return output\n",
    "\n",
    "# =======================\n",
    "# EXAMPLE TESTING CASES\n",
    "# DO NOT CHANGE\n",
    "print(mark_to_grade(70)) #'2A'\n",
    "print(mark_to_grade(-5)) #'invalid'\n",
    "print(list_mark_to_grade([10, 50, 60, 70])) #['NAH', '3', '2B', '2A']\n",
    "print(list_mark_to_grade([30, 99, -5, 70])) #['NAH', '1', 'invalid', '2A']"
   ]
  },
  {
   "cell_type": "markdown",
   "metadata": {
    "tags": []
   },
   "source": [
    "## Q8: Critical Hit!\n",
    "Your friend loves playing a tabletop roleplaying games and they have asked you to create a program to automate some of the experience.\n",
    "\n",
    "In the game, performing an *attack* involves two sets of rolls. A roll to hit and a roll for calculating damage.\n",
    "\n",
    "### Part A (10 marks)\n",
    "Implement the `roll_to_hit(armour, mod)` function.\n",
    "\n",
    "First simulate rolling a 20-sided die using the `random` module and assign it to a variable `d20`. Then, **return** one of the following integers:\n",
    "* return `2` if `d20` is 20,\n",
    "* return `0` if `d20` is 1 OR `d20` plus `mod` is strictly less than `armour`, or\n",
    "* return `1` in any other case\n",
    "\n",
    "### Part B (10 marks)\n",
    "Implement the `calculate_damage(numDice, numSided, mod)` function. The parameters are as follows:\n",
    "* `numDice` is the number of dice rolls to simulate\n",
    "* `numSided` is the number of sides on the dice you are simulating (not that all the dice you roll are the same type)\n",
    "* `mod` an integer that is added to the returned result **only if** the `numDice` is greater than 0\n",
    "\n",
    "Your function should **return** the amount of damage caused by an attack.\n",
    "* return `0`, if the `numDice` is `0` (regardless of `mod`).\n",
    "* otherwise, return damage using the following formula: $damage = mod + roll\\_sum$, where `roll_sum` is defined as the combined value of rolling the `numSided` die `numDice` times.\n",
    "  * For example, if `numDice` was 2, it would return damage as $damage = mod + roll\\_1's\\_result + roll\\_2's\\_result$\n",
    "\n",
    "<font color=red>**DO NOT CHANGE THE SEED OR IMPORTED MODULES**</font>"
   ]
  },
  {
   "cell_type": "code",
   "execution_count": null,
   "metadata": {
    "tags": []
   },
   "outputs": [],
   "source": [
    "import random # DO NOT change this line\n",
    "random.seed(5) # DO NOT change this line\n",
    "\n",
    "def roll_to_hit(armour, mod):\n",
    "    # INSERT YOUR CODE BELOW (1 lines)\n",
    "    d20 = random(armour, mod)\n",
    "    \n",
    "    # INSERT YOUR CODE BELOW (~6 lines)\n",
    "    ...\n",
    "    \n",
    "def calculate_damage(numDice, numSided, mod):\n",
    "    roll_sum = 0\n",
    "    # INSERT YOUR CODE BELOW (~5 lines)\n",
    "    ...\n",
    "\n",
    "# =======================\n",
    "# EXAMPLE TESTING CASES\n",
    "# DO NOT CHANGE\n",
    "e1 = roll_to_hit(4, 0)  #2 (rolled a 20 which always returns 2)\n",
    "e2 = roll_to_hit(20, 0) #0 (rolled a  9+0 which is less than 20)\n",
    "e3 = roll_to_hit(8, 1)  #1 (rolled a 12+1 which is greater than 8)\n",
    "print(f'{e1}, {e2}, {e3}') #2, 0, 1 (if you get these three numbers, move onto Part B)\n",
    "\n",
    "print(f'rolled {e1*1}d4 + 0 and dealt {calculate_damage(e1*1, 4, 0)} damage') # (1 + 4) + 0 = 5 damage\n",
    "print(f'rolled {e2*1}d8 + 2 to deal {calculate_damage(e2*1, 8, 2)} damage')   # rolling 0 dice means no damage\n",
    "print(f'rolled {e3*3}d10 + 1 to deal {calculate_damage(e3*3, 10, 1)} damage') # (4+1+3) + 0 = 9 damage"
   ]
  },
  {
   "cell_type": "markdown",
   "metadata": {},
   "source": [
    "---"
   ]
  },
  {
   "cell_type": "markdown",
   "metadata": {},
   "source": [
    "# <font color=red>Remember to submit your Jupyter notebook to Gradescope</font>"
   ]
  }
 ],
 "metadata": {
  "kernelspec": {
   "display_name": "Python 3 (ipykernel)",
   "language": "python",
   "name": "python3"
  },
  "language_info": {
   "codemirror_mode": {
    "name": "ipython",
    "version": 3
   },
   "file_extension": ".py",
   "mimetype": "text/x-python",
   "name": "python",
   "nbconvert_exporter": "python",
   "pygments_lexer": "ipython3",
   "version": "3.9.6"
  },
  "otter": {
   "tests": {
    "Q1": {
     "name": "Q1",
     "points": 10,
     "suites": [
      {
       "cases": [],
       "scored": true,
       "setup": "",
       "teardown": "",
       "type": "doctest"
      }
     ]
    },
    "Q2": {
     "name": "Q2",
     "points": 15,
     "suites": [
      {
       "cases": [
        {
         "code": ">>> print_greeting('Thank you,', 'driver') #'Thank you, driver'\nThank you, driver\n",
         "failure_message": "Incorrect answer, try again!",
         "hidden": false,
         "locked": false,
         "success_message": "Good job!"
        }
       ],
       "scored": true,
       "setup": "",
       "teardown": "",
       "type": "doctest"
      }
     ]
    },
    "Q3": {
     "name": "Q3",
     "points": 15,
     "suites": [
      {
       "cases": [
        {
         "code": ">>> div_by_3_or_4_but_not_12(10) #False: 10 is not divisible by any of the numbers -- PUBLIC TEST\nFalse",
         "failure_message": "Incorrect answer, try again!",
         "hidden": false,
         "locked": false,
         "success_message": "Good job!"
        }
       ],
       "scored": true,
       "setup": "",
       "teardown": "",
       "type": "doctest"
      }
     ]
    },
    "Q4": {
     "name": "Q4",
     "points": 20,
     "suites": [
      {
       "cases": [],
       "scored": true,
       "setup": "",
       "teardown": "",
       "type": "doctest"
      }
     ]
    },
    "Q6": {
     "name": "Q6",
     "points": 5,
     "suites": [
      {
       "cases": [
        {
         "code": ">>> li = [[0,1],[2,3],[4,5],[6,7],[8,9]]\n>>> get_sublist_length(li, 3) #2 -- PUBLIC TEST CASE\n2",
         "failure_message": "Incorrect answer, try again!",
         "hidden": false,
         "locked": false,
         "success_message": "Good job!"
        }
       ],
       "scored": true,
       "setup": "",
       "teardown": "",
       "type": "doctest"
      }
     ]
    },
    "Q7": {
     "name": "Q7",
     "points": 20,
     "suites": [
      {
       "cases": [],
       "scored": true,
       "setup": "",
       "teardown": "",
       "type": "doctest"
      }
     ]
    },
    "Q8": {
     "name": "Q8",
     "points": 20,
     "suites": [
      {
       "cases": [],
       "scored": true,
       "setup": "",
       "teardown": "",
       "type": "doctest"
      }
     ]
    }
   }
  },
  "vscode": {
   "interpreter": {
    "hash": "d57c152add3a77aa406b6a31edc12b55f0062050fedadc6ea5d152b48566b0e5"
   }
  }
 },
 "nbformat": 4,
 "nbformat_minor": 4
}
