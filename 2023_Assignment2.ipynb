{
 "cells": [
  {
   "cell_type": "markdown",
   "id": "17a1c746",
   "metadata": {},
   "source": [
    "# COMP SCI 1015 IAP - Coding Assignment 2 - Connect-N"
   ]
  },
  {
   "cell_type": "markdown",
   "id": "8ef47f32",
   "metadata": {},
   "source": [
    "---"
   ]
  },
  {
   "cell_type": "markdown",
   "id": "7ffa57f3",
   "metadata": {},
   "source": [
    "## Introduction\n",
    "In this assignment, you will implement a **Connect-N** game, an extension of the popular **Connect-4** game. Connect-4 is a two-player connection board game in which the players first choose a colour and then take turns dropping one coloured disc from the top into a **seven-column, six-row** vertically suspended grid. The pieces fall straight down, occupying the lowest available space within the column. The objective of the game is to be the first to form a horizontal, vertical, or diagonal line of **four of one's own discs**.\n",
    "\n",
    "If you have never played Connect 4, you can find the rules and try the game here: https://www.mathsisfun.com/games/connect4.html\n",
    "\n",
    "**Connect-N** game is a variation of **Connect-4** where the grid expands to **N+2 Columns** and **N+3 rows**. The winning condition becomes the first to form horizontal, diagonal line of **N of one's own discs**.  **N** will be a positive integer number larger or equal to 3, i.e. 3, 4, 5, 6... etc.\n",
    "\n",
    "## Specifications\n",
    "You need to implement the following two functions:\n",
    "- `have_winner()`: returns `True` if either player has won the game, otherwise returns `False`\n",
    "- `drop_disk(c, player)`: player drop a disk at $c_{th}$ colomn. Return 1 if successfully drop the disk, return 0 if this is a illegal move, e.g. the colomn is full\n",
    "\n",
    "We have provided some utility functions to you:\n",
    "- `init_board`: start the board\n",
    "- `display`: draw the board\n",
    "- `game`: the main loop that starts the game and allows the players to drop disk in turns\n",
    "\n",
    "## Rubric\n",
    "* Program functionality meets specifications\n",
    "  * `drop_disk(col, player)` works correctly (30 marks)\n",
    "  * `have_winner()` supports horizontal and vertical win conditions (50 marks)\n",
    "* Comments (20 marks)\n",
    "  * The comments should clearly state the purpose of every *code block* or *line* you have.\n",
    "\n",
    "You earn **10 bonus marks** for completing the diagonal win condition."
   ]
  },
  {
   "cell_type": "markdown",
   "id": "0114bc5f",
   "metadata": {},
   "source": [
    "---"
   ]
  },
  {
   "cell_type": "markdown",
   "id": "50430b34",
   "metadata": {},
   "source": [
    "## Code"
   ]
  },
  {
   "cell_type": "markdown",
   "id": "0e50a024",
   "metadata": {},
   "source": [
    "<!-- BEGIN QUESTION -->\n",
    "\n"
   ]
  },
  {
   "cell_type": "code",
   "execution_count": 2,
   "id": "a264cd8d",
   "metadata": {
    "tags": []
   },
   "outputs": [
    {
     "ename": "IndexError",
     "evalue": "list index out of range",
     "output_type": "error",
     "traceback": [
      "\u001b[1;31m---------------------------------------------------------------------------\u001b[0m",
      "\u001b[1;31mIndexError\u001b[0m                                Traceback (most recent call last)",
      "Cell \u001b[1;32mIn[2], line 86\u001b[0m\n\u001b[0;32m     82\u001b[0m                 \u001b[39mreturn\u001b[39;00m \u001b[39mTrue\u001b[39;00m\n\u001b[0;32m     84\u001b[0m     \u001b[39mreturn\u001b[39;00m \u001b[39mFalse\u001b[39;00m\n\u001b[1;32m---> 86\u001b[0m game()\n",
      "Cell \u001b[1;32mIn[2], line 42\u001b[0m, in \u001b[0;36mgame\u001b[1;34m()\u001b[0m\n\u001b[0;32m     39\u001b[0m     \u001b[39mbreak\u001b[39;00m\n\u001b[0;32m     41\u001b[0m \u001b[39m# drop disk    \u001b[39;00m\n\u001b[1;32m---> 42\u001b[0m f \u001b[39m=\u001b[39m drop_disk(\u001b[39mint\u001b[39;49m(c), p\u001b[39m+\u001b[39;49m\u001b[39m1\u001b[39;49m)\n\u001b[0;32m     43\u001b[0m \u001b[39mif\u001b[39;00m f \u001b[39m==\u001b[39m \u001b[39m0\u001b[39m: \u001b[39m# illegal move\u001b[39;00m\n\u001b[0;32m     44\u001b[0m     \u001b[39mprint\u001b[39m(\u001b[39mf\u001b[39m\u001b[39m'\u001b[39m\u001b[39mColumn \u001b[39m\u001b[39m{\u001b[39;00mc\u001b[39m}\u001b[39;00m\u001b[39m is an illegal move\u001b[39m\u001b[39m'\u001b[39m)\n",
      "Cell \u001b[1;32mIn[2], line 57\u001b[0m, in \u001b[0;36mdrop_disk\u001b[1;34m(col, player)\u001b[0m\n\u001b[0;32m     55\u001b[0m \u001b[39m\u001b[39m\u001b[39m'''drop a disk at colomn col'''\u001b[39;00m\n\u001b[0;32m     56\u001b[0m \u001b[39m# INSERT YOUR CODE BELOW\u001b[39;00m\n\u001b[1;32m---> 57\u001b[0m \u001b[39mif\u001b[39;00m board[N\u001b[39m+\u001b[39;49m\u001b[39m2\u001b[39;49m][col] \u001b[39m!=\u001b[39m \u001b[39m0\u001b[39m:  \u001b[39m# if the column's top cell is filled\u001b[39;00m\n\u001b[0;32m     58\u001b[0m     \u001b[39mreturn\u001b[39;00m \u001b[39m0\u001b[39m\n\u001b[0;32m     59\u001b[0m \u001b[39mfor\u001b[39;00m i \u001b[39min\u001b[39;00m \u001b[39mrange\u001b[39m(N\u001b[39m+\u001b[39m\u001b[39m3\u001b[39m):\n",
      "\u001b[1;31mIndexError\u001b[0m: list index out of range"
     ]
    }
   ],
   "source": [
    "# GLOBAL VARIABLES\n",
    "N = 5\n",
    "num_row = N + 3\n",
    "num_col = N + 2\n",
    "disk = ['\\u2B1C', '\\u26AA', '\\u26AB']\n",
    "board = []\n",
    "\n",
    "def init_board(n):\n",
    "    '''initialise the board'''\n",
    "    global N, num_row, num_col\n",
    "    N = n\n",
    "    num_row = n + 3\n",
    "    num_col = n + 2\n",
    "    for c in range(num_col):\n",
    "        board.append([0]*num_row)\n",
    "    \n",
    "def display():\n",
    "    '''print the board'''\n",
    "    to_print = \"    \"\n",
    "    for i in range(num_col):\n",
    "        to_print = to_print + f'[{i}]'\n",
    "    print(to_print)\n",
    "    for i in range(num_row):\n",
    "        to_print = f'[{i:2}]'\n",
    "        for j in range(num_col):\n",
    "            to_print = f'{to_print}{disk[board[j][i]]:2}'\n",
    "        print(to_print)\n",
    "\n",
    "def game():\n",
    "    '''play the game'''\n",
    "    n = input('Please input N:')\n",
    "    init_board(int(n))\n",
    "    \n",
    "    p = 0\n",
    "    while True:\n",
    "        c = input(f'Player {p} select column:')\n",
    "        if c == 'q': # quit the game\n",
    "            print(f'Player {p} resigned')\n",
    "            break\n",
    "            \n",
    "        # drop disk    \n",
    "        f = drop_disk(int(c), p+1)\n",
    "        if f == 0: # illegal move\n",
    "            print(f'Column {c} is an illegal move')\n",
    "            continue            \n",
    "        display()\n",
    "        \n",
    "        # check winner and switch side\n",
    "        if have_winner():\n",
    "            print(f'Player {p} won')\n",
    "            break\n",
    "        p = (p + 1)%2\n",
    "\n",
    "def drop_disk(col, player):\n",
    "    '''drop a disk at colomn col'''\n",
    "    # INSERT YOUR CODE BELOW\n",
    "    if board[N+2][col] != 0:  # if the column's top cell is filled\n",
    "        return 0\n",
    "    for i in range(N+3):\n",
    "        if board[i][col] == 0:  # if the cell is bare\n",
    "            board[i][col] = player\n",
    "            return 1\n",
    "    return 0  # column is complete\n",
    "\n",
    "\n",
    "...\n",
    "\n",
    "def have_winner():\n",
    "    '''return True if there is a winner'''\n",
    "    '''check if there is a winner'''\n",
    "    # INSERT YOUR CODE BELOW\n",
    "    # Verify horizontal win scenario\n",
    "    for i in range(num_row):\n",
    "        for j in range(num_col - N + 1):\n",
    "            if all(board[j+x][i] == board[j][i] and board[j][i] != 0 for x in range(1, N)):\n",
    "                return True\n",
    "                \n",
    "    # Verify the vertical win condition.\n",
    "    for i in range(num_col):\n",
    "        for j in range(num_row - N + 1):\n",
    "            if all(board[i][j+x] == board[i][j] and board[i][j] != 0 for x in range(1, N)):\n",
    "                return True\n",
    "    \n",
    "    return False\n",
    "\n",
    "game()"
   ]
  },
  {
   "cell_type": "markdown",
   "id": "d08edfa3",
   "metadata": {},
   "source": [
    "<!-- END QUESTION -->\n",
    "\n"
   ]
  }
 ],
 "metadata": {
  "kernelspec": {
   "display_name": "Python 3 (ipykernel)",
   "language": "python",
   "name": "python3"
  },
  "language_info": {
   "codemirror_mode": {
    "name": "ipython",
    "version": 3
   },
   "file_extension": ".py",
   "mimetype": "text/x-python",
   "name": "python",
   "nbconvert_exporter": "python",
   "pygments_lexer": "ipython3",
   "version": "3.10.11"
  },
  "vscode": {
   "interpreter": {
    "hash": "d57c152add3a77aa406b6a31edc12b55f0062050fedadc6ea5d152b48566b0e5"
   }
  }
 },
 "nbformat": 4,
 "nbformat_minor": 5
}
