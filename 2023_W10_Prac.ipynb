{
 "cells": [
  {
   "cell_type": "markdown",
   "metadata": {},
   "source": [
    "# COMP SCI 1015 IAP - W10 - Practical"
   ]
  },
  {
   "cell_type": "markdown",
   "metadata": {},
   "source": [
    "# Task 1: list substraction (60 marks) "
   ]
  },
  {
   "cell_type": "markdown",
   "metadata": {},
   "source": [
    "Please write two functions that subtract one list from another. \n",
    "- `list_sub_v1(li1, li2)` directly remove elements in `li2` from `li1`\n",
    "- `list_sub_v2(li1, li2)` create a new list that contains the result of `li2` - `li1`. For example, `[1, 2, 2, 3] - [2, 3] = [1, 2]`\n",
    "\n",
    "Please write one function that shows the different elements between two lists\n",
    "- `diff(li1, li2)` create a new list that contains all elements that are in `li1` but not `li2`. Please try completing this function using `list_comprehension` (you will still get mark if **not** using list comprehenship)\n"
   ]
  },
  {
   "cell_type": "code",
   "execution_count": null,
   "metadata": {
    "tags": []
   },
   "outputs": [],
   "source": [
    "def list_sub_v1(li1, li2):\n",
    "    # INSERT YOUR CODE BELOW\n",
    "    # ~ 3 LINES\n",
    "    for item in li2:\n",
    "        if item in li1:\n",
    "            li1.remove(item)\n",
    "    \n",
    "def list_sub_v2(li1, li2):\n",
    "    li3 = []    \n",
    "    # INSERT YOUR CODE BELOW\n",
    "    # ~ 6 LINES\n",
    "    li3 = []\n",
    "    for item in li1:\n",
    "        if item not in li2:\n",
    "            li3.append(item)\n",
    "    # END OF YOUR CODE\n",
    "    return li3\n",
    "                \n",
    "def diff(li1, li2):\n",
    "    # INSERT YOUR CODE BELOW\n",
    "    # 1 line if using list comprehension\n",
    "    return [item for item in li1 if item not in li2]\n",
    "\n",
    "# ================\n",
    "# TEST CASES BELOW\n",
    "li1 = [1, 2, 3, 4]\n",
    "li2 = [2, 3]\n",
    "list_sub_v1(li1, li2)\n",
    "print(f'1 - {li1}') # 1 - [1, 4]\n",
    "\n",
    "li1 = [1, 2, 3, 4]\n",
    "li2 = [2, 3]\n",
    "li3 = list_sub_v2(li1, li2)\n",
    "print(f'2 - {li1} {li3}') # 2 - [1, 2, 3, 4] [1, 4]\n",
    "\n",
    "li1 = [1, 2, 2, 3, 3, 4]\n",
    "li2 = [2, 3]\n",
    "list_sub_v1(li1, li2) # note that we remove only one '2' from li1\n",
    "print(f'3 - {li1}') # 3 - [1, 2, 3, 4] \n",
    "\n",
    "li1 = [1, 2, 2, 3, 3, 4]\n",
    "li2 = [2, 3]\n",
    "li3 = list_sub_v2(li1, li2)\n",
    "print(f'4 - {li1} {li3}') # 4 - [1, 2, 2, 3, 3, 4] [1, 2, 3, 4]\n",
    "\n",
    "li1 = [1, 2, 2, 3, 3, 4]\n",
    "li2 = [2, 3]\n",
    "li3 = diff(li1, li2)\n",
    "print(f'5 - {li3}') # 5 - [1, 4]"
   ]
  },
  {
   "cell_type": "markdown",
   "metadata": {},
   "source": [
    "## Task 2 - dice game (40 marks) "
   ]
  },
  {
   "cell_type": "markdown",
   "metadata": {},
   "source": [
    "In this task, you will create a dice rolling game. In each round, each player rolls all the dice. The player with the highest sums win the round. Please read the code and comments below and complete the functions:\n",
    "- `add_player`: add a new player into the game. It will only be called before the game starts.\n",
    "- `roll`: One round of the dice game. All players roll all the dice and the one with max score win the round.\n",
    "- `display`: Display the history of each round\n",
    "\n",
    "The `game['round']` stores the score for each players in each round. For example, if we have 3 players A, B, C\n",
    "- Round 1, A rolls 15, B rolls 12, C rolls 5\n",
    "- Round 2, A rolls 4, B rolls 9, C rolls 15\n",
    "\n",
    "Then the content of the game will be:\n",
    "- `game['num_players']` is `2`\n",
    "- `game['num_rounds']` is `2`\n",
    "- `game['players']` is `['A', 'B', 'C']`\n",
    "- `game['winners']` is `['A', 'C']`\n",
    "- `game['round']` will be `[[15, 12, 5],[4, 9, 15]]`"
   ]
  },
  {
   "cell_type": "code",
   "execution_count": 7,
   "metadata": {
    "tags": []
   },
   "outputs": [
    {
     "name": "stdout",
     "output_type": "stream",
     "text": [
      "------\n",
      "Round 0:\n",
      "\n",
      "Alice 13\n",
      "Bob 9\n",
      "Christine 16\n",
      "winner: Christine\n",
      "\n",
      "------\n",
      "Round 1:\n",
      "\n",
      "Alice 13\n",
      "Bob 14\n",
      "Christine 13\n",
      "winner: Bob\n",
      "\n",
      "------\n",
      "Round 2:\n",
      "\n",
      "Alice 15\n",
      "Bob 8\n",
      "Christine 12\n",
      "winner: Alice\n",
      "\n"
     ]
    },
    {
     "data": {
      "text/plain": [
       "''"
      ]
     },
     "execution_count": 7,
     "metadata": {},
     "output_type": "execute_result"
    }
   ],
   "source": [
    "import random\n",
    "\n",
    "game = {\n",
    "    'num_dice' : 3, # number of dice. A constant.\n",
    "    'num_players' : 0, # number of players\n",
    "    'num_rounds' : 0, # number of rounds played\n",
    "    'players' : [], # player names in a list\n",
    "    'winners' : [], # winners for each round in a list\n",
    "    'round' : [] \n",
    "    # nested list storing the score for each players in each round\n",
    "}\n",
    "\n",
    "def add_player(game, name):\n",
    "    game['players'].append(name) # add player name\n",
    "    game['num_players'] += 1 # increase player number\n",
    "\n",
    "def roll(game):\n",
    "    # INSERT YOUR CODE BELOW\n",
    "    # Play a round of the game \n",
    "    # ~ 20 lines\n",
    "    round_scores = []\n",
    "    for _ in range(game['num_players']):\n",
    "        score = sum([random.randint(1, 6) for _ in range(game['num_dice'])])\n",
    "        round_scores.append(score)\n",
    "    max_score = max(round_scores)\n",
    "    winners = [game['players'][i] for i, score in enumerate(round_scores) if score == max_score]\n",
    "    game['winners'].extend(winners)\n",
    "    game['round'].append(round_scores)\n",
    "    game['num_rounds'] += 1\n",
    "    \n",
    "def display(game):\n",
    "    # DON'T CHANGE THE CODE IN THIS FUNCTION\n",
    "    s = ''\n",
    "    for r in range(game['num_rounds']):\n",
    "        print(f'------\\nRound {r}:')\n",
    "        for i in range(game['num_players']):\n",
    "            print(f\"{game['players'][i]} {game['round'][r][i]}\")\n",
    "        print(f\"winner: {game['winners'][r]}\")\n",
    "    return s\n",
    "        \n",
    "#================\n",
    "#TEST CASE BELOW\n",
    "random.seed(33) # comment this line if you would like to see random results\n",
    "add_player(game, 'Alice')\n",
    "add_player(game, 'Bob')\n",
    "add_player(game, 'Christine')\n",
    "roll(game)\n",
    "roll(game)\n",
    "roll(game)\n",
    "display(game)\n",
    "\n",
    "# THE OUTPUT SHOULD BE \n",
    "# ------\n",
    "# Round 0:\n",
    "# Alice 13 \n",
    "# Bob 9 \n",
    "# Christine 16 \n",
    "# winner: Christine\n",
    "# ------\n",
    "# Round 1:\n",
    "# Alice 13 \n",
    "# Bob 14 \n",
    "# Christine 13 \n",
    "# winner: Bob\n",
    "# ------\n",
    "# Round 2:\n",
    "# Alice 15 \n",
    "# Bob 8 \n",
    "# Christine 12 \n",
    "# winner: Alice"
   ]
  }
 ],
 "metadata": {
  "kernelspec": {
   "display_name": "Python 3 (ipykernel)",
   "language": "python",
   "name": "python3"
  },
  "language_info": {
   "codemirror_mode": {
    "name": "ipython",
    "version": 3
   },
   "file_extension": ".py",
   "mimetype": "text/x-python",
   "name": "python",
   "nbconvert_exporter": "python",
   "pygments_lexer": "ipython3",
   "version": "3.10.11"
  },
  "otter": {
   "tests": {
    "Task1": {
     "name": "Task1",
     "points": 60,
     "suites": [
      {
       "cases": [
        {
         "code": ">>> li = [5, 6, 7, 8]\n>>> list_sub_v1(li , [6, 8])\n>>> li\n[5, 7]",
         "failure_message": "Incorrect answer, try again!",
         "hidden": false,
         "locked": false,
         "success_message": "Good job!"
        },
        {
         "code": ">>> li3 = list_sub_v2([12, 13, 15], [12])\n>>> li3\n[13, 15]",
         "failure_message": "Incorrect answer, try again!",
         "hidden": false,
         "locked": false,
         "success_message": "Good job!"
        },
        {
         "code": ">>> li3 = diff([23, 56, 78], [78])\n>>> li3\n[23, 56]",
         "failure_message": "Incorrect answer, try again!",
         "hidden": false,
         "locked": false,
         "success_message": "Good job!"
        }
       ],
       "scored": true,
       "setup": "",
       "teardown": "",
       "type": "doctest"
      }
     ]
    },
    "Task2": {
     "name": "Task2",
     "points": 40,
     "suites": [
      {
       "cases": [
        {
         "code": ">>> random.seed(15) # comment this line if you would like to see random results\n>>> game = {'num_dice' : 3,'num_players' : 0, 'num_rounds' : 0,'players' : [], 'winners' : [], 'round' : [] }\n>>> add_player(game, 'D')\n>>> add_player(game, 'E')\n>>> add_player(game, 'F')\n>>> roll(game)\n>>> roll(game)\n>>> s = display(game)\n>>> s\n'------\\nRound 0:\\nD 8 \\nE 9 \\nF 4 \\nwinner: E------\\nRound 1:\\nD 14 \\nE 6 \\nF 13 \\nwinner: D'",
         "failure_message": "Incorrect answer, try again!",
         "hidden": false,
         "locked": false,
         "success_message": "Good job!"
        }
       ],
       "scored": true,
       "setup": "",
       "teardown": "",
       "type": "doctest"
      }
     ]
    }
   }
  }
 },
 "nbformat": 4,
 "nbformat_minor": 4
}
