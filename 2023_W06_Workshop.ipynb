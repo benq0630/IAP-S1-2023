{
 "cells": [
  {
   "attachments": {},
   "cell_type": "markdown",
   "metadata": {
    "jp-MarkdownHeadingCollapsed": true,
    "tags": []
   },
   "source": [
    "# Coding Exam 1 Practice (2023 S1)\n",
    "\n",
    "**Time:** 110 minutes<br>\n",
    "**Mark:** 110 available, but capped at 100.\n",
    "\n",
    "<font color='red'>This exercise is **not** graded. It is designed to help you identify any knowledge gaps before the exam.</font>"
   ]
  },
  {
   "attachments": {},
   "cell_type": "markdown",
   "metadata": {
    "tags": []
   },
   "source": [
    "# In questions 1 ~ 6 you will demonstrate your ability to code the essentials\n",
    "\n",
    "Total marks 70."
   ]
  },
  {
   "attachments": {},
   "cell_type": "markdown",
   "metadata": {
    "jp-MarkdownHeadingCollapsed": true,
    "tags": []
   },
   "source": [
    "<!-- BEGIN QUESTION -->\n",
    "\n",
    "## Q1: User Input and print (5 marks)\n",
    "Write a program that takes in two numbers of user input as integers. Assign these to the variables `a` and `b`. Then, prints the result of `a` - `b`.\n",
    "\n",
    "**Example (<font color=red>red text</font> represents user input):**\n",
    "<pre>\n",
    "Please enter a number: <font color=red>42</font>\n",
    "Please enter a number: <font color=red>7</font>\n",
    "42 - 7 = 35\n",
    "</pre>"
   ]
  },
  {
   "cell_type": "code",
   "execution_count": null,
   "metadata": {
    "tags": []
   },
   "outputs": [],
   "source": [
    "# INSERT YOUR CODE BELOW (~ 3 lines)\n",
    "a = int(input(\"Please enter a number: \"))\n",
    "b = int(input(\"Please enter a number: \"))\n",
    "\n",
    "result = a - b\n",
    "print(f\"{a} - {b} = {result}\")"
   ]
  },
  {
   "attachments": {},
   "cell_type": "markdown",
   "metadata": {
    "jp-MarkdownHeadingCollapsed": true,
    "tags": []
   },
   "source": [
    "<!-- END QUESTION -->\n",
    "\n",
    "<!-- BEGIN QUESTION -->\n",
    "\n",
    "## Q2: Functions (10 marks)\n",
    "Define your own function named `remainder` with two parameters `a` and `b` that returns the remainder of `a` divided by `b`."
   ]
  },
  {
   "cell_type": "code",
   "execution_count": null,
   "metadata": {
    "tags": []
   },
   "outputs": [],
   "source": [
    "# INSERT YOUR CODE BELOW (~ 2 lines)\n",
    "def remainder(a, b):\n",
    "    return a % b\n",
    "\n",
    "# =======================\n",
    "# EXAMPLE TESTING CASES\n",
    "# DO NOT CHANGE\n",
    "print(remainder(3, 4)) #3\n",
    "print(remainder(20, 8)) #4\n",
    "print(remainder(85247813, 2)) #1"
   ]
  },
  {
   "attachments": {},
   "cell_type": "markdown",
   "metadata": {
    "jp-MarkdownHeadingCollapsed": true,
    "tags": []
   },
   "source": [
    "<!-- END QUESTION -->\n",
    "\n",
    "<!-- BEGIN QUESTION -->\n",
    "\n",
    "## Q3: Booleans and if-statements (15 marks)\n",
    "Write a program that lets the **user input** the number of hours worked in a week and assigns this value into variable `h`. Your program should **print** one of the following strings, depending on the number of hours added:\n",
    "\n",
    "* If the number of hours is negative, the program should print \"input error\".\n",
    "* If the number of hours is greater than 40, the program should print \"too many hours, need approval\".\n",
    "* Otherwise, the program should print the total payment amount for this week. The pay rate is 50 AUD per hour. If the number of hours in a week exceeds 30, a bonus of 100 AUD is added.\n",
    "\n",
    "You can assume that the input is an integer.\n",
    "\n",
    "**Example 1 (<font color=red>red text</font> represents user input):**\n",
    "<pre>\n",
    "Enter the number of hours: <font color=red>30</font>\n",
    "Total pay is 1500\n",
    "</pre>\n",
    "\n",
    "**Example 2 (<font color=red>red text</font> represents user input):**\n",
    "<pre>\n",
    "Enter the number of hours: <font color=red>31</font>\n",
    "Total pay is 1650\n",
    "</pre>\n",
    "\n",
    "**Example 3 (<font color=red>red text</font> represents user input):**\n",
    "<pre>\n",
    "Enter the number of hours: <font color=red>41</font>\n",
    "too many hours, need approval\n",
    "</pre>\n",
    "\n",
    "**Example 4 (<font color=red>red text</font> represents user input):**\n",
    "<pre>\n",
    "Enter the number of hours: <font color=red>-10</font>\n",
    "input error\n",
    "</pre>"
   ]
  },
  {
   "cell_type": "code",
   "execution_count": null,
   "metadata": {
    "tags": []
   },
   "outputs": [],
   "source": [
    "# INSERT YOUR CODE BELOW (~ 10 lines)\n",
    "h = int(input(\"Enter the number of hours: \"))\n",
    "\n",
    "if h < 0:\n",
    "    print(\"input error\")\n",
    "elif h > 40:\n",
    "    print(\"too many hours, need approval\")\n",
    "else:\n",
    "    total_pay = h * 50\n",
    "    if h > 30:\n",
    "        total_pay += 100\n",
    "    print(\"Total pay is\", total_pay)\n"
   ]
  },
  {
   "attachments": {},
   "cell_type": "markdown",
   "metadata": {
    "jp-MarkdownHeadingCollapsed": true,
    "tags": []
   },
   "source": [
    "<!-- END QUESTION -->\n",
    "\n",
    "<!-- BEGIN QUESTION -->\n",
    "\n",
    "## Q4: Loops #1 (15 marks)\n",
    "Complete the function `count_up_while(n)` so that it prints the numbers from 0 upto and including `n` using a while-loop.\n",
    "\n",
    "*You may assume that* `n` *is a positive integer.*\n",
    "\n",
    "**Example 1 (<font color=red>red text</font> represents user input):**\n",
    "<pre>\n",
    "Enter a positive integer: <font color=red>4</font>\n",
    "0\n",
    "1\n",
    "2\n",
    "3\n",
    "4\n",
    "</pre>"
   ]
  },
  {
   "cell_type": "code",
   "execution_count": 1,
   "metadata": {
    "tags": []
   },
   "outputs": [
    {
     "name": "stdout",
     "output_type": "stream",
     "text": [
      "0\n",
      "1\n",
      "2\n",
      "3\n",
      "4\n",
      "0\n",
      "1\n",
      "2\n",
      "3\n",
      "4\n"
     ]
    }
   ],
   "source": [
    "n = int(input(\"Enter a positive integer:\"))\n",
    "\n",
    "def count_up_while(n):\n",
    "    # INSERT YOUR CODE BELOW (~ 4 lines)\n",
    "    i = 0\n",
    "    while i <= n:\n",
    "        print(i)\n",
    "        i += 1\n",
    "    \n",
    "count_up_while(n)\n",
    "\n",
    "# =======================\n",
    "# EXAMPLE TESTING CASES\n",
    "# DO NOT CHANGE\n",
    "count_up_while(4)"
   ]
  },
  {
   "attachments": {},
   "cell_type": "markdown",
   "metadata": {
    "jp-MarkdownHeadingCollapsed": true,
    "tags": []
   },
   "source": [
    "<!-- END QUESTION -->\n",
    "\n",
    "<!-- BEGIN QUESTION -->\n",
    "\n",
    "## Q5: Loops #2 (15 marks)\n",
    "Complete the following functions:\n",
    "* `count_up_for(n)` so that it prints the numbers from 0 upto and including `n` using a for-loop.\n",
    "* `print_list(li)` so that it prints the numbers from 0 upto and including `n` using a for-loop.\n",
    "\n",
    "*You may assume that* `n` *is a positive integer.*\n",
    "\n",
    "**Example 1 (<font color=red>red text</font> represents user input):**\n",
    "<pre>\n",
    "Enter a positive integer: <font color=red>4</font>\n",
    "0\n",
    "1\n",
    "2\n",
    "3\n",
    "4\n",
    "----\n",
    "0\n",
    "1\n",
    "2\n",
    "3\n",
    "4\n",
    "</pre>"
   ]
  },
  {
   "cell_type": "code",
   "execution_count": 2,
   "metadata": {
    "tags": []
   },
   "outputs": [
    {
     "name": "stdout",
     "output_type": "stream",
     "text": [
      "0\n",
      "1\n",
      "2\n",
      "3\n",
      "4\n",
      "----\n",
      "0\n",
      "1\n",
      "2\n",
      "3\n",
      "4\n"
     ]
    }
   ],
   "source": [
    "n = int(input(\"Enter a positive integer:\"))\n",
    "li = list(range(n+1)) # creates a list of values [0, 1, 2, ..., n]\n",
    "    \n",
    "def count_up_for(n):\n",
    "    # INSERT YOUR CODE BELOW (~ 2 lines)\n",
    "     for i in range(n+1):\n",
    "        print(i)\n",
    "\n",
    "def print_list(li):\n",
    "    # INSERT YOUR CODE BELOW (~ 2 lines)\n",
    "    for num in li:\n",
    "        print(num)\n",
    "\n",
    "count_up_for(n)\n",
    "print('----')\n",
    "print_list(li)"
   ]
  },
  {
   "attachments": {},
   "cell_type": "markdown",
   "metadata": {
    "jp-MarkdownHeadingCollapsed": true,
    "tags": []
   },
   "source": [
    "<!-- END QUESTION -->\n",
    "\n",
    "<!-- BEGIN QUESTION -->\n",
    "\n",
    "## Q6: List of Lists (10 marks)\n",
    "Suppose that you are given a list of lists containing integers in list variable `x`. Complete the following functions:\n",
    "* `print_sum_of_digits(matrix)` so that it prints the sum of all numbers in `x`.\n",
    "* `print_middle(matrix)` so that it prints the second element of the second list.\n",
    "\n",
    "*You may assume* `x` *is always contains 3 lists of size 3 each.*\n",
    "\n",
    "**Example:**\n",
    "<pre>\n",
    "x = [ [1, 2, 3], [4, 5, 6], [7, 8, 9] ]\n",
    "45\n",
    "5\n",
    "</pre>\n",
    "\n",
    "We can represent this matrix in code using a 2-dimensional (2D) list shown below."
   ]
  },
  {
   "cell_type": "code",
   "execution_count": null,
   "metadata": {
    "tags": []
   },
   "outputs": [],
   "source": [
    "x = [ [1, 2, 3], [4, 5, 6], [7, 8, 9] ]\n",
    "\n",
    "def print_sum_of_digits(matrix):\n",
    "    # INSERT YOUR CODE BELOW (~ 4 lines)\n",
    "    total_sum = 0\n",
    "    for sublist in matrix:\n",
    "        for num in sublist:\n",
    "            total_sum += num\n",
    "    print(total_sum)\n",
    "\n",
    "def print_middle(matrix):\n",
    "    # INSERT YOUR CODE BELOW (~ 1 line)\n",
    "    middle_element = matrix[1][1]\n",
    "    print(middle_element)\n",
    "\n",
    "print(x)\n",
    "print_sum_of_digits(x)\n",
    "print_middle(x)"
   ]
  },
  {
   "attachments": {},
   "cell_type": "markdown",
   "metadata": {},
   "source": [
    "<!-- END QUESTION -->\n",
    "\n",
    "----"
   ]
  },
  {
   "attachments": {},
   "cell_type": "markdown",
   "metadata": {
    "tags": []
   },
   "source": [
    "# In questions 7 ~ 8 you will combine your knowledge of the fundamentals to create more complex programs\n",
    "Total marks 40. These questions are designed to be more challenging."
   ]
  },
  {
   "attachments": {},
   "cell_type": "markdown",
   "metadata": {
    "jp-MarkdownHeadingCollapsed": true,
    "tags": []
   },
   "source": [
    "<!-- BEGIN QUESTION -->\n",
    "\n",
    "## Q7: Filtering a List (20 marks)\n",
    "Suppose that you are given a list of integers in list variable `raw_data`. Write a program that lets the user enter a number and assigns this value to variable `threshold`. You can assume that the input is an integer or a float. Your code should then create a new list that consist of numbers from `raw_data` (in the same order), but only **even** numbers **greater** than `threshold`. Store the new list in variable `filtered_data`. Print the new list.\n",
    "\n",
    "Note that the resulting list  should only contain even numbers. The resulting list can also be empty.\n",
    "\n",
    "In the examples below, assume `raw_data = [1, -4, 15, 22, 0, -10, 3, 2]`. However, when marking your submission, we might try `raw_data` with other numbers.\n",
    "\n",
    "**Example 1 (<font color=red>red text</font> represents user input):**\n",
    "<pre>\n",
    "Enter threshold: <font color=red>0</font>\n",
    "Filtered data: [22, 2]\n",
    "</pre>\n",
    "\n",
    "**Example 2 (<font color=red>red text</font> represents user input):**\n",
    "<pre>\n",
    "Enter threshold: <font color=red>99</font>\n",
    "Filtered data: []\n",
    "</pre>"
   ]
  },
  {
   "cell_type": "code",
   "execution_count": 3,
   "metadata": {
    "tags": []
   },
   "outputs": [
    {
     "name": "stdout",
     "output_type": "stream",
     "text": [
      "[22, 2]\n"
     ]
    }
   ],
   "source": [
    "raw_data = [1, -4, 15, 22, 0, -10, 3, 2]\n",
    "\n",
    "threshold = float(input('threshold: '))\n",
    "fil = []\n",
    "\n",
    "# INSERT YOUR CODE BELOW (~ 3 line)\n",
    "for num in raw_data:\n",
    "    if num > threshold and num % 2 == 0:\n",
    "        fil.append(num)\n",
    "print(fil)"
   ]
  },
  {
   "attachments": {},
   "cell_type": "markdown",
   "metadata": {
    "jp-MarkdownHeadingCollapsed": true,
    "tags": []
   },
   "source": [
    "<!-- END QUESTION -->\n",
    "\n",
    "<!-- BEGIN QUESTION -->\n",
    "\n",
    "## Q8: Validating a List (20 marks)\n",
    "Suppose that you are given a list of integers in list variable `input_data`. This list is non-empty and contains an even number of elements.\n",
    "\n",
    "Complete the `validate` function that checks whether the largest element in the first half of the list equals to the largest element in the second half. If this condition holds, print \"yes\", otherwise print \"no\".\n",
    "\n",
    "You are not allowed to use Python's max() and min() functions; instead you must complete the `find_max` function provided.\n",
    "\n",
    "**Example 1:** Suppose that `input_data = [1, 2, 0, 2]`. The first half of the list contains elements 1 and 2, and the maximum for the first half is 2. The second half of the list contains elements 0 and 2. The maximum is again 2. Hence, your program should print \"yes\".\n",
    "\n",
    "**Example 2:** Suppose that `input_data = [4, 1, 2, 0, 2, -1]`. Your program should print \"no\".\n",
    "\n",
    "**Example 3:** Suppose that `input_data = [1, 2, 3, 4]`. Your program should print \"no\"."
   ]
  },
  {
   "cell_type": "code",
   "execution_count": null,
   "metadata": {
    "tags": []
   },
   "outputs": [],
   "source": [
    "import math\n",
    "\n",
    "def find_max(l, i, j):\n",
    "    # INSERT YOUR CODE BELOW (~ 5 line)\n",
    "    max_num = l[i]\n",
    "    for k in range(i, j+1):\n",
    "        if l[k] > max_num:\n",
    "            max_num = l[k]\n",
    "    return max_num\n",
    "    \n",
    "def validate(input_data):\n",
    "    half = int(len(input_data) / 2)\n",
    "    # INSERT YOUR CODE BELOW (~ 7 line)\n",
    "    max_first_half = find_max(input_data, 0, half-1)\n",
    "    max_second_half = find_max(input_data, half, len(input_data)-1)\n",
    "    \n",
    "    if max_first_half == max_second_half:\n",
    "        print(\"yes\")\n",
    "    else:\n",
    "        print(\"no\")\n",
    "\n",
    "input_data = [1, 2, 0, 2]\n",
    "validate(input_data)\n",
    "print(\"----\")\n",
    "input_data = [4, 1, 2, 0, 2, -1]\n",
    "validate(input_data)\n",
    "print(\"----\")\n",
    "input_data = [1, 2, 3, 4]\n",
    "validate(input_data)"
   ]
  },
  {
   "attachments": {},
   "cell_type": "markdown",
   "metadata": {},
   "source": [
    "<!-- END QUESTION -->\n",
    "\n",
    "----"
   ]
  },
  {
   "attachments": {},
   "cell_type": "markdown",
   "metadata": {},
   "source": [
    "# <font color=red>Remember to submit your Jupyter notebook on Gradescope</font>"
   ]
  }
 ],
 "metadata": {
  "kernelspec": {
   "display_name": "Python 3 (ipykernel)",
   "language": "python",
   "name": "python3"
  },
  "language_info": {
   "codemirror_mode": {
    "name": "ipython",
    "version": 3
   },
   "file_extension": ".py",
   "mimetype": "text/x-python",
   "name": "python",
   "nbconvert_exporter": "python",
   "pygments_lexer": "ipython3",
   "version": "3.10.11"
  },
  "vscode": {
   "interpreter": {
    "hash": "d57c152add3a77aa406b6a31edc12b55f0062050fedadc6ea5d152b48566b0e5"
   }
  }
 },
 "nbformat": 4,
 "nbformat_minor": 4
}
