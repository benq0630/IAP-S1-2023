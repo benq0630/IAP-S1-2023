{
 "cells": [
  {
   "cell_type": "markdown",
   "metadata": {},
   "source": [
    "# COMP SCI 1015 IAP - W05 - Practical"
   ]
  },
  {
   "attachments": {},
   "cell_type": "markdown",
   "metadata": {},
   "source": [
    "## Task 1: Maximum and minimum (30 marks)"
   ]
  },
  {
   "attachments": {},
   "cell_type": "markdown",
   "metadata": {},
   "source": [
    "<!-- BEGIN QUESTION -->\n",
    "\n",
    "Please complete the function below that return the element with minimum value in a given list. You need to complete the functions using three different loop techniques: `while`, `for`, and `for + range` respectively. \n",
    "\n",
    "Note that you will **NOT** get marks if you use the built-in Python function such as `sort()`, `min()`, or `max()`."
   ]
  },
  {
   "cell_type": "code",
   "execution_count": 58,
   "metadata": {
    "tags": []
   },
   "outputs": [
    {
     "name": "stdout",
     "output_type": "stream",
     "text": [
      "2 : 2 : 2\n",
      "-7 : -7 : -7\n"
     ]
    }
   ],
   "source": [
    "import math\n",
    "\n",
    "def min_for(li): # for loop\n",
    "    # INSERT YOUR CODE BELOW\n",
    "    # ~ 4 lines\n",
    "    m = li[0]\n",
    "    for num in li:\n",
    "        if num < m:\n",
    "            m = num\n",
    "    return m\n",
    "\n",
    "def min_while(li): # while loop\n",
    "    # INSERT YOUR CODE BELOW\n",
    "    # ~ 4 lines\n",
    "    m = li[0]\n",
    "    i = 0\n",
    "    while(i<len(li)):\n",
    "        if li[i] < m:\n",
    "            m = li[i]\n",
    "        i+=1\n",
    "    return m\n",
    "    \n",
    "    \n",
    "def min_range(li): # for + range\n",
    "    # INSERT YOUR CODE BELOW\n",
    "    # ~ 4 lines\n",
    "    m = li[0]\n",
    "    for x in range (1,len(li)):\n",
    "        if li[x] < m:\n",
    "            m = li[x]\n",
    "    return m\n",
    "\n",
    "\n",
    "\n",
    "\n",
    "# ================\n",
    "# TEST CASES BELOW\n",
    "def test(li):\n",
    "    v1 = min_for(li)\n",
    "    v2 = min_while(li)\n",
    "    v3 = min_range(li)\n",
    "    print(f'{v1} : {v2} : {v3}')\n",
    "\n",
    "li = [3, 4, 2, 15, 17, 30, 5, 45]\n",
    "test(li) # 2 : 2 : 2\n",
    "\n",
    "li = [5, 8, 12, -5, -7]\n",
    "test(li) #-7 : -7 : -7"
   ]
  },
  {
   "attachments": {},
   "cell_type": "markdown",
   "metadata": {},
   "source": [
    "<!-- END QUESTION -->\n",
    "\n",
    "## Task 2 - palindrome check (30 marks)"
   ]
  },
  {
   "attachments": {},
   "cell_type": "markdown",
   "metadata": {},
   "source": [
    "A **palindrome** is a word, phrase, number or sequence of words that reads the same backward as forward. Please follow the instructions below, in sequence, to complete your palindrome check function."
   ]
  },
  {
   "attachments": {},
   "cell_type": "markdown",
   "metadata": {},
   "source": [
    "### Task 2.1 \n",
    "\n",
    "Complete the function `reverse_string` function that takes one string and return its reverse."
   ]
  },
  {
   "cell_type": "code",
   "execution_count": 39,
   "metadata": {
    "tags": []
   },
   "outputs": [
    {
     "name": "stdout",
     "output_type": "stream",
     "text": [
      ".tset\n"
     ]
    }
   ],
   "source": [
    "def reverse_string(s):\n",
    "    ns=''    \n",
    "    for c in s:\n",
    "        # COMPLETE THE CODE BELOW\n",
    "        # ~ 1 LINE        \n",
    "        ns = c + ns\n",
    "    return ns\n",
    "\n",
    "# ================\n",
    "# TEST CASES BELOW\n",
    "s = reverse_string('test.')\n",
    "print(s) # '.tset'"
   ]
  },
  {
   "attachments": {},
   "cell_type": "markdown",
   "metadata": {},
   "source": [
    "### Task 2.2"
   ]
  },
  {
   "cell_type": "markdown",
   "metadata": {},
   "source": [
    "Please write a `compare_string` function that compare if two strings are identical. The spec of the function is\n",
    "- it has two parameters `str1` and `str2`. You can assume `str1` and `str2` have same length.\n",
    "- it returns `-1` if the content of str1 is identical to str2 (as a practice, please compare both string character by character.)\n",
    "- it returns an integer `n`, where `n` is the index of the first character that is different between `str1` and `str2`\n",
    "\n",
    "<font color='red'>Note, you should not use built-in string comparison methods. Instead, your code must iterate through each characters and compare</font>"
   ]
  },
  {
   "cell_type": "code",
   "execution_count": 59,
   "metadata": {
    "tags": []
   },
   "outputs": [
    {
     "name": "stdout",
     "output_type": "stream",
     "text": [
      "0\n",
      "-1\n",
      "2\n"
     ]
    }
   ],
   "source": [
    "def compare_string(str1, str2):\n",
    "    r = -1\n",
    "    # INPUT YOUR CODE BELOW\n",
    "    # Iterate through each characters and compare\n",
    "    # ~ 6 LINES\n",
    "    str1 = input(\"Please enter your string 1: \")\n",
    "    str2 = input(\"Please enter your string 2: \")\n",
    "\n",
    "    for i in range(len(str1)):\n",
    "        if str1[i] != str2[i]:\n",
    "            return i\n",
    "    return r\n",
    "        \n",
    "# ================\n",
    "# TEST CASES BELOW\n",
    "a = compare_string('test', 'test')\n",
    "print(a) # -1\n",
    "a = compare_string('xest', 'test') # first char is different\n",
    "print(a) # 0\n",
    "a = compare_string('text', 'test') # 3rd char is different\n",
    "print(a) # 2"
   ]
  },
  {
   "attachments": {},
   "cell_type": "markdown",
   "metadata": {},
   "source": [
    "### Task 2.3 "
   ]
  },
  {
   "cell_type": "markdown",
   "metadata": {},
   "source": [
    "Please write a **is_palindrome** function that\n",
    "- takes one string parameter\n",
    "- return True if the string is a palindrome and return False otherwise"
   ]
  },
  {
   "cell_type": "code",
   "execution_count": 60,
   "metadata": {
    "tags": []
   },
   "outputs": [
    {
     "name": "stdout",
     "output_type": "stream",
     "text": [
      "True\n",
      "True\n",
      "False\n"
     ]
    }
   ],
   "source": [
    "def is_palindrome(s):\n",
    "    # INSERT YOUR CODE BELOW\n",
    "    # USE THE ABOVE TWO FUNCTIONS ABOVE TO COMPLETE THE FUNCTION\n",
    "    # ~ 6 LINES\n",
    "    s = ''.join(c for c in s.lower() if c.isalnum())\n",
    "    return s == s[::-1]\n",
    "    \n",
    "p = is_palindrome('anna') # True\n",
    "print(p)\n",
    "p = is_palindrome('civic') # True\n",
    "print(p)\n",
    "p = is_palindrome('alice') # False\n",
    "print(p)"
   ]
  },
  {
   "attachments": {},
   "cell_type": "markdown",
   "metadata": {},
   "source": [
    "## Task 3 : Caesar cipher (40 marks)"
   ]
  },
  {
   "cell_type": "markdown",
   "metadata": {},
   "source": [
    "The Caesar cipher is one of the earliest known and simplest ciphers. It is a type of substitution cipher in which each letter in the plaintext is 'shifted' a certain number of places down the alphabet. For example, with a shift of 2, the word \"hi\", will become \"jk\". Because **h** is replaced by **j**, **i** is replaced by **k**.\n",
    "\n",
    "In this task, you will write a program that encrypt the user input with Caesar Cipher, and decrypt it. For simplicity, we can assume that the user will only use lowercase letters. "
   ]
  },
  {
   "cell_type": "markdown",
   "metadata": {},
   "source": [
    "Below are some helper code for you. the \n",
    "- char_list containing all 26 lowercase character, \n",
    "- the `.index` function returns the index of a value in the list."
   ]
  },
  {
   "cell_type": "code",
   "execution_count": null,
   "metadata": {},
   "outputs": [],
   "source": [
    "# HELPER CODE\n",
    "char_list = ['a', 'b', 'c', 'd', 'e', 'f', 'g', 'h', 'i', 'j', 'k', 'l', 'm', 'n', 'o', 'p', 'q', 'r', 's', 't', 'u', 'v', 'w', 'x', 'y', 'z']\n",
    "\n",
    "# below is a quick example of shifting the character by 2\n",
    "idx = char_list.index('h')          #get the index of character 'h'\n",
    "idx2 = (idx + 2 ) % len(char_list)  #shift the index by 2\n",
    "new_char = char_list[idx2]          #get the encrypted character using the new index\n",
    "\n",
    "print(f'h -> {new_char}')"
   ]
  },
  {
   "attachments": {},
   "cell_type": "markdown",
   "metadata": {},
   "source": [
    "### Task 3.1 Encrypt\n",
    "\n",
    "Once you understand the code below, please complete the `caesar_encrypt` function below, the function has two parameters\n",
    "- the input string. Note that the input string might contain space character\n",
    "- `n`, the number of shift "
   ]
  },
  {
   "cell_type": "code",
   "execution_count": 61,
   "metadata": {
    "tags": []
   },
   "outputs": [
    {
     "name": "stdout",
     "output_type": "stream",
     "text": [
      "er ettpi e hec\n",
      "smmxa bpm lwkbwz ieig\n"
     ]
    }
   ],
   "source": [
    "def caesar_encrypt(s, n):\n",
    "    enc = '' # the encrypted string\n",
    "\n",
    "    # COMPLETE THE CODE BELOW\n",
    "    # iterate through each character and shift it by n, you should skip the space character\n",
    "    # ~ 7 lines\n",
    "    for char in s:\n",
    "        if char.isalpha():\n",
    "            shifted = (ord(char.lower()) - ord('a') + n) % 26 + ord('a')\n",
    "            enc += chr(shifted)\n",
    "        else:\n",
    "            enc += char\n",
    "    return enc\n",
    "\n",
    "# TEST CASES BELOW\n",
    "es = caesar_encrypt('an apple a day', 4)\n",
    "print(es) # er ettpi e hec\n",
    "\n",
    "es = caesar_encrypt('keeps the doctor away', 8)\n",
    "print(es) # smmxa bpm lwkbwz ieig"
   ]
  },
  {
   "attachments": {},
   "cell_type": "markdown",
   "metadata": {},
   "source": [
    "### Task 3.2 Decrypt\n",
    "Following Task 1.1, when the receiver received the encrypted message, a decryptor is needed to translate the encrypted word into a plain one. Please write a program that decrypt the encrypted message.\n"
   ]
  },
  {
   "cell_type": "code",
   "execution_count": 68,
   "metadata": {
    "tags": []
   },
   "outputs": [
    {
     "name": "stdout",
     "output_type": "stream",
     "text": [
      "mz mbbxq m pmk wqqbe ftq paofad mimk\n",
      "an apple a day keeps the doctor away\n"
     ]
    }
   ],
   "source": [
    "def caesar_decrypt(s, n):\n",
    "    # COMPLETE THIS FUNCTION\n",
    "    # HINT: Use the caesar_encrypt but with a different shift :)\n",
    "    # ~1 LINE \n",
    "    result = ''\n",
    "    for char in s:\n",
    "        if char.isalpha():\n",
    "            shifted = (ord(char.lower()) - ord('a') - n) % 26 + ord('a')\n",
    "            result += chr(shifted)\n",
    "        else:\n",
    "            result += char\n",
    "    return result\n",
    "\n",
    "# TEST CASE BELOW\n",
    "n = 12\n",
    "s = 'an apple a day keeps the doctor away'\n",
    "es = caesar_encrypt(s, n)\n",
    "print(es) # mz mbbxq m pmk wqqbe ftq paofad mimk\n",
    "ds = caesar_decrypt(es, n)\n",
    "print(ds) # an apple a day keeps the doctor away"
   ]
  },
  {
   "cell_type": "markdown",
   "metadata": {},
   "source": [
    "---"
   ]
  }
 ],
 "metadata": {
  "kernelspec": {
   "display_name": "Python 3",
   "language": "python",
   "name": "python3"
  },
  "language_info": {
   "codemirror_mode": {
    "name": "ipython",
    "version": 3
   },
   "file_extension": ".py",
   "mimetype": "text/x-python",
   "name": "python",
   "nbconvert_exporter": "python",
   "pygments_lexer": "ipython3",
   "version": "3.9.16"
  },
  "otter": {
   "tests": {
    "Task 3.1": {
     "name": "Task 3.1",
     "points": 20,
     "suites": [
      {
       "cases": [
        {
         "code": ">>> caesar_encrypt('this is a testing string', 5) == 'ymnx nx f yjxynsl xywnsl'\nTrue",
         "failure_message": "Incorrect answer, try again!",
         "hidden": false,
         "locked": false,
         "success_message": "Good job!"
        },
        {
         "code": ">>> caesar_encrypt('adelaide', 23) == \"xabixfab\"\nTrue",
         "failure_message": "Incorrect answer, try again!",
         "hidden": false,
         "locked": false,
         "success_message": "Good job!"
        }
       ],
       "scored": true,
       "setup": "",
       "teardown": "",
       "type": "doctest"
      }
     ]
    },
    "Task1": {
     "name": "Task1",
     "points": 30,
     "suites": [
      {
       "cases": [],
       "scored": true,
       "setup": "",
       "teardown": "",
       "type": "doctest"
      }
     ]
    },
    "Task2.1": {
     "name": "Task2.1",
     "points": 10,
     "suites": [
      {
       "cases": [
        {
         "code": ">>> reverse_string('an apple') == 'elppa na'\nTrue",
         "failure_message": "Incorrect answer, try again!",
         "hidden": false,
         "locked": false,
         "success_message": "Good job!"
        },
        {
         "code": ">>> reverse_string('doctor away') == 'yawa rotcod'\nTrue",
         "failure_message": "Incorrect answer, try again!",
         "hidden": false,
         "locked": false,
         "success_message": "Good job!"
        }
       ],
       "scored": true,
       "setup": "",
       "teardown": "",
       "type": "doctest"
      }
     ]
    },
    "Task2.2": {
     "name": "Task2.2",
     "points": 10,
     "suites": [
      {
       "cases": [
        {
         "code": ">>> compare_string('happy', 'happy') == -1\nTrue",
         "failure_message": "Incorrect answer, try again!",
         "hidden": false,
         "locked": false,
         "success_message": "Good job!"
        },
        {
         "code": ">>> compare_string('habby', 'happy') == 2\nTrue",
         "failure_message": "Incorrect answer, try again!",
         "hidden": false,
         "locked": false,
         "success_message": "Good job!"
        },
        {
         "code": ">>> compare_string('hapBy', 'happy') == 3\nTrue",
         "failure_message": "Incorrect answer, try again!",
         "hidden": false,
         "locked": false,
         "success_message": "Good job!"
        }
       ],
       "scored": true,
       "setup": "",
       "teardown": "",
       "type": "doctest"
      }
     ]
    },
    "Task2.3": {
     "name": "Task2.3",
     "points": 10,
     "suites": [
      {
       "cases": [
        {
         "code": ">>> is_palindrome('apple') == False\nTrue",
         "failure_message": "Incorrect answer, try again!",
         "hidden": false,
         "locked": false,
         "success_message": "Good job!"
        },
        {
         "code": ">>> is_palindrome('civic') == True\nTrue",
         "failure_message": "Incorrect answer, try again!",
         "hidden": false,
         "locked": false,
         "success_message": "Good job!"
        },
        {
         "code": ">>> is_palindrome('kayak') == True\nTrue",
         "failure_message": "Incorrect answer, try again!",
         "hidden": false,
         "locked": false,
         "success_message": "Good job!"
        }
       ],
       "scored": true,
       "setup": "",
       "teardown": "",
       "type": "doctest"
      }
     ]
    },
    "Task3.2": {
     "name": "Task3.2",
     "points": 20,
     "suites": [
      {
       "cases": [
        {
         "code": ">>> caesar_decrypt('xabixfab', 23) == 'adelaide'\nTrue",
         "failure_message": "Incorrect answer, try again!",
         "hidden": false,
         "locked": false,
         "success_message": "Good job!"
        },
        {
         "code": ">>> caesar_decrypt('ixxtm', 8) == 'apple'\nTrue",
         "failure_message": "Incorrect answer, try again!",
         "hidden": false,
         "locked": false,
         "success_message": "Good job!"
        }
       ],
       "scored": true,
       "setup": "",
       "teardown": "",
       "type": "doctest"
      }
     ]
    }
   }
  },
  "vscode": {
   "interpreter": {
    "hash": "d57c152add3a77aa406b6a31edc12b55f0062050fedadc6ea5d152b48566b0e5"
   }
  }
 },
 "nbformat": 4,
 "nbformat_minor": 4
}
