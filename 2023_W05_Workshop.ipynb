{
 "cells": [
  {
   "cell_type": "code",
   "execution_count": null,
   "metadata": {
    "deletable": false,
    "editable": false
   },
   "outputs": [],
   "source": [
    "# Initialize Otter\n",
    "import otter\n",
    "grader = otter.Notebook(\"2023_W05_Workshop.ipynb\")"
   ]
  },
  {
   "cell_type": "markdown",
   "metadata": {},
   "source": [
    "# COMP SCI 1015 IAP - W05 - Workshop"
   ]
  },
  {
   "cell_type": "markdown",
   "metadata": {
    "jp-MarkdownHeadingCollapsed": true,
    "tags": []
   },
   "source": [
    "## Demo 1 - String  "
   ]
  },
  {
   "cell_type": "markdown",
   "metadata": {},
   "source": [
    "A **string** consists of a series of **characters**. So far we already know that we can create strings by using the single quote `' '` or double quotes`\" \"`. We can also access each character with the bracket operators `[ ]` as shown below. "
   ]
  },
  {
   "cell_type": "code",
   "execution_count": null,
   "metadata": {},
   "outputs": [],
   "source": [
    "s = 'apple'\n",
    "print(s[0]) # we call index starts from 0 \n",
    "print(s[1])\n",
    "print(s[2])\n",
    "print(s[3])\n",
    "print(s[4])"
   ]
  },
  {
   "cell_type": "markdown",
   "metadata": {},
   "source": [
    "We call the expression in brackets an **index**. It is important to remember that the **index** starts from `0` in most popular programming language. That is, to access the first character of a string `s`, you should use `s[0]` instead of `s[1]`. "
   ]
  },
  {
   "cell_type": "markdown",
   "metadata": {},
   "source": [
    "### Length of a string and the last character "
   ]
  },
  {
   "cell_type": "markdown",
   "metadata": {},
   "source": [
    "`len` is a built-in function that returns the number of characters of a string."
   ]
  },
  {
   "cell_type": "code",
   "execution_count": 3,
   "metadata": {},
   "outputs": [
    {
     "name": "stdout",
     "output_type": "stream",
     "text": [
      "5\n"
     ]
    }
   ],
   "source": [
    "s = 'apple'\n",
    "print(len(s))"
   ]
  },
  {
   "cell_type": "markdown",
   "metadata": {},
   "source": [
    "Now, how can we access the **last** character of a string? You might be tempted to do the following"
   ]
  },
  {
   "cell_type": "code",
   "execution_count": 5,
   "metadata": {},
   "outputs": [
    {
     "ename": "IndexError",
     "evalue": "string index out of range",
     "output_type": "error",
     "traceback": [
      "\u001b[0;31m---------------------------------------------------------------------------\u001b[0m",
      "\u001b[0;31mIndexError\u001b[0m                                Traceback (most recent call last)",
      "Cell \u001b[0;32mIn[5], line 2\u001b[0m\n\u001b[1;32m      1\u001b[0m l \u001b[39m=\u001b[39m \u001b[39mlen\u001b[39m(s) \u001b[39m# first get the length of the string\u001b[39;00m\n\u001b[0;32m----> 2\u001b[0m s[l]\n",
      "\u001b[0;31mIndexError\u001b[0m: string index out of range"
     ]
    }
   ],
   "source": [
    "l = len(s) # first get the length of the string\n",
    "s[l] # access the last character"
   ]
  },
  {
   "cell_type": "markdown",
   "metadata": {},
   "source": [
    "However, doing so will produce an index error. It is because the index starts from **zero**. Thus, to get the last character of the string, you should do"
   ]
  },
  {
   "cell_type": "code",
   "execution_count": null,
   "metadata": {},
   "outputs": [],
   "source": [
    "l = len(s)\n",
    "s[l-1]"
   ]
  },
  {
   "cell_type": "markdown",
   "metadata": {},
   "source": [
    "### Travese the string "
   ]
  },
  {
   "cell_type": "markdown",
   "metadata": {},
   "source": [
    "Many applications process strings one character at a time. To visit every single character in a string, we can use the `while` loop from last week:"
   ]
  },
  {
   "cell_type": "code",
   "execution_count": 8,
   "metadata": {},
   "outputs": [
    {
     "name": "stdout",
     "output_type": "stream",
     "text": [
      "U\n",
      "n\n",
      "i\n",
      "v\n",
      "e\n",
      "r\n",
      "s\n",
      "i\n",
      "t\n",
      "y\n",
      " \n",
      "o\n",
      "f\n",
      " \n",
      "A\n",
      "d\n",
      "e\n",
      "l\n",
      "a\n",
      "i\n",
      "d\n",
      "e\n"
     ]
    }
   ],
   "source": [
    "i = 0\n",
    "uni_name = 'University of Adelaide'\n",
    "\n",
    "while i < len(uni_name):\n",
    "    print(uni_name[i])\n",
    "    i = i + 1"
   ]
  },
  {
   "cell_type": "markdown",
   "metadata": {},
   "source": [
    "The while loop prints out each characters in a separate line. `i` is a variable storing the index value. In each iteration, the index `i` is increased by 1. The loop conditions on that the index value `i` is smaller than the length of the string. "
   ]
  },
  {
   "cell_type": "markdown",
   "metadata": {
    "jp-MarkdownHeadingCollapsed": true,
    "tags": []
   },
   "source": [
    "---\n",
    "## Activity 1 - Reverse the string "
   ]
  },
  {
   "cell_type": "markdown",
   "metadata": {},
   "source": [
    "<!-- BEGIN QUESTION -->\n",
    "\n",
    "Please complete the function below that prints out the reverse of the string. For example, if the argument is `apple`, your program should print out"
   ]
  },
  {
   "cell_type": "raw",
   "metadata": {},
   "source": [
    "e\n",
    "l\n",
    "p\n",
    "p\n",
    "a"
   ]
  },
  {
   "cell_type": "code",
   "execution_count": 7,
   "metadata": {
    "tags": []
   },
   "outputs": [
    {
     "name": "stdout",
     "output_type": "stream",
     "text": [
      "e\n",
      "l\n",
      "p\n",
      "p\n",
      "a\n",
      "---\n",
      "y\n",
      "p\n",
      "p\n",
      "a\n",
      "h\n"
     ]
    }
   ],
   "source": [
    "def reverse_str(s):\n",
    "    # INSERT YOUR CODE BELOW\n",
    "    # ~ 4lines\n",
    "    i = len(s)-1\n",
    "    while i >=0:\n",
    "        print(s[i])\n",
    "        i -=1    \n",
    "\n",
    "# TEST CASES BELOW\n",
    "reverse_str('apple')\n",
    "print('---')\n",
    "reverse_str('happy')"
   ]
  },
  {
   "cell_type": "markdown",
   "metadata": {
    "tags": []
   },
   "source": [
    "<!-- END QUESTION -->\n",
    "\n",
    "---\n",
    "## Demo 2 - List"
   ]
  },
  {
   "cell_type": "markdown",
   "metadata": {},
   "source": [
    "Like *string*, a **list** is a seuqence of values. However, the value in a *list* can be integers, float, string, or other Python data types (including other lists). We call these values **elements** or **items**. \n",
    "\n",
    "The simplest way to create a list is to put the elements in square brackets `[ ]`. The code below contrasts *string* and *list* in Python. "
   ]
  },
  {
   "cell_type": "code",
   "execution_count": 9,
   "metadata": {},
   "outputs": [
    {
     "data": {
      "text/plain": [
       "10"
      ]
     },
     "execution_count": 9,
     "metadata": {},
     "output_type": "execute_result"
    }
   ],
   "source": [
    "# STRING #\n",
    "\n",
    "my_str = \"apple\" # values enclosed in double quotes\n",
    "my_str[0] # access character with brackets\n",
    "\n",
    "\n",
    "# LIST #\n",
    "\n",
    "my_list = [2, 4, 6, 8, 10] # element enclosed in bracket\n",
    "my_list[0] # access element with brackets, same as string\n",
    "my_list[len(my_list)-1] # access element with brackets, same as string"
   ]
  },
  {
   "cell_type": "markdown",
   "metadata": {},
   "source": [
    "List is a very powerful data structure and can contain multiple data types or even another list. However, to simplify your code, you might want to ensure your list contains only one data type. "
   ]
  },
  {
   "cell_type": "code",
   "execution_count": 10,
   "metadata": {},
   "outputs": [
    {
     "name": "stdout",
     "output_type": "stream",
     "text": [
      "['this', 'is', 'my', 'second', 'list!']\n",
      "['hello', 100, [1, 3.5]]\n"
     ]
    }
   ],
   "source": [
    "my_list_2 = ['this', 'is', 'my', 'second', 'list!'] # element can be any data type\n",
    "\n",
    "my_list_3 = ['hello', 100, [1, 3.5]] # this list contains string, integer, list!\n",
    "\n",
    "print(my_list_2)\n",
    "print(my_list_3)\n"
   ]
  },
  {
   "cell_type": "markdown",
   "metadata": {},
   "source": [
    "### Travese a list"
   ]
  },
  {
   "cell_type": "markdown",
   "metadata": {},
   "source": [
    "Similar to the traversal of a *string*, we can use a while loop to go over each element in a list."
   ]
  },
  {
   "cell_type": "code",
   "execution_count": 11,
   "metadata": {},
   "outputs": [
    {
     "name": "stdout",
     "output_type": "stream",
     "text": [
      "2\n",
      "4\n",
      "6\n",
      "8\n",
      "10\n"
     ]
    }
   ],
   "source": [
    "my_list = [2, 4, 6, 8, 10]\n",
    "i = 0\n",
    "while i < len(my_list):\n",
    "    print(my_list[i])\n",
    "    i = i + 1"
   ]
  },
  {
   "cell_type": "markdown",
   "metadata": {
    "jp-MarkdownHeadingCollapsed": true,
    "tags": []
   },
   "source": [
    "---\n",
    "## Activity 2 - Calculating sum and mean of a list #1"
   ]
  },
  {
   "cell_type": "markdown",
   "metadata": {},
   "source": [
    "<!-- BEGIN QUESTION -->\n",
    "\n",
    "Please write two functions that calculate the sum of every elements and its mean value using a `while` loop."
   ]
  },
  {
   "cell_type": "code",
   "execution_count": 22,
   "metadata": {
    "tags": []
   },
   "outputs": [
    {
     "name": "stdout",
     "output_type": "stream",
     "text": [
      "30\n",
      "6.0\n",
      "151\n",
      "18.875\n"
     ]
    }
   ],
   "source": [
    "def my_sum(li):\n",
    "    s = 0\n",
    "    i = 0\n",
    "    # COMPLETE THE CODE BELOW\n",
    "    # ~ 3 LINES\n",
    "    while i < len(li):\n",
    "        s = s + li[i]\n",
    "        i = i + 1    \n",
    "    # END OF YOUR CODE\n",
    "    return s\n",
    "    \n",
    "def my_mean(li):\n",
    "    # COMPLETE THE CODE BELOW\n",
    "    # You should use the my_sum function above\n",
    "    # ~1 LINE\n",
    "    m = my_sum(li) / len(li)\n",
    "    return m\n",
    "    \n",
    "# TEST CASES BELOW  \n",
    "li = [2, 4, 6, 8, 10]\n",
    "print(my_sum(li)) # 30\n",
    "print(my_mean(li)) # 6\n",
    "\n",
    "li = [1, 3, 5, 7, 9, 12, 102, 12]\n",
    "print(my_sum(li)) # 151\n",
    "print(my_mean(li)) # 18.875\n",
    "    "
   ]
  },
  {
   "cell_type": "markdown",
   "metadata": {
    "jp-MarkdownHeadingCollapsed": true,
    "tags": []
   },
   "source": [
    "<!-- END QUESTION -->\n",
    "\n",
    "---\n",
    "## Demo 3 - List operations"
   ]
  },
  {
   "cell_type": "markdown",
   "metadata": {},
   "source": [
    "### Update elements"
   ]
  },
  {
   "cell_type": "markdown",
   "metadata": {},
   "source": [
    "Lists are *mutable*, meaning We can access and update the elements inside a list."
   ]
  },
  {
   "cell_type": "code",
   "execution_count": 23,
   "metadata": {},
   "outputs": [
    {
     "name": "stdout",
     "output_type": "stream",
     "text": [
      "[1, 2, 3, 4, 5]\n",
      "[100, 2, 3, 4, 5]\n"
     ]
    }
   ],
   "source": [
    "l = [1, 2, 3, 4, 5]\n",
    "print(l)\n",
    "l[0] = 100 # update the first element\n",
    "print(l)"
   ]
  },
  {
   "cell_type": "markdown",
   "metadata": {},
   "source": [
    "Note that string is **immutable**. Although we can access character using the same bracket operator `[ ]`, but we <font color='red'>cannot</font> update the characters in a string. "
   ]
  },
  {
   "cell_type": "code",
   "execution_count": null,
   "metadata": {},
   "outputs": [],
   "source": [
    "s = \"apple\"\n",
    "s[0] = \"b\""
   ]
  },
  {
   "cell_type": "markdown",
   "metadata": {},
   "source": [
    "### Update lists "
   ]
  },
  {
   "cell_type": "markdown",
   "metadata": {},
   "source": [
    "We can use the `+` and `*` operators on a list. The `+` operator concat lists while the `*` operator repeats a list multiple times."
   ]
  },
  {
   "cell_type": "code",
   "execution_count": 24,
   "metadata": {},
   "outputs": [
    {
     "name": "stdout",
     "output_type": "stream",
     "text": [
      "[1, 2, 3, 4, 5, 6]\n",
      "[4, 5, 6, 1, 2, 3]\n",
      "[1, 2, 3, 1, 2, 3, 1, 2, 3]\n"
     ]
    }
   ],
   "source": [
    "l1 = [1, 2, 3]\n",
    "l2 = [4, 5, 6]\n",
    "l3 = l1 + l2 # concat l1 and l2\n",
    "print(l3)\n",
    "\n",
    "l4 = l2 + l1 # concat l2 in front of l1\n",
    "print(l4) \n",
    "\n",
    "l5 = l1 * 3 # repeat l1 three times.\n",
    "print(l5)"
   ]
  },
  {
   "cell_type": "markdown",
   "metadata": {},
   "source": [
    "### Remove elements "
   ]
  },
  {
   "cell_type": "markdown",
   "metadata": {},
   "source": [
    "The list provides a `pop` function and a `remove` function for removing the elements. The `pop(i)` remove `i-th` element while `remove(x)` remove an element with the value `x`"
   ]
  },
  {
   "cell_type": "code",
   "execution_count": null,
   "metadata": {},
   "outputs": [],
   "source": [
    "l1 = [1, 2, 3]\n",
    "l1.pop(0) #remove the first element\n",
    "print(l1)\n",
    "\n",
    "l2 = [2, 4, 6, 8]\n",
    "l2.pop(3) # remove the 4th element (remember, the index starting from 0)\n",
    "print(l2)\n",
    "\n",
    "l3 = [2, 4, 6, 8]\n",
    "l3.remove(6)\n",
    "print(l3)"
   ]
  },
  {
   "cell_type": "markdown",
   "metadata": {},
   "source": [
    "The `pop` function will generate errors if you try to pop an element out of the index range and the `remove` function will generate errors when you try to remove a non-existent value. "
   ]
  },
  {
   "cell_type": "markdown",
   "metadata": {},
   "source": [
    "### List slice "
   ]
  },
  {
   "cell_type": "markdown",
   "metadata": {},
   "source": [
    "The **slice** operator allows us to take a segement of a sequence. This operator works on both *list* and *string*. The syntax is `[n:m]` and returns the part of the sequence from the `n-th` value to `m-th` value, including the first but excluding the last."
   ]
  },
  {
   "cell_type": "code",
   "execution_count": null,
   "metadata": {},
   "outputs": [],
   "source": [
    "l1 = [2, 4, 6, 8, 10]\n",
    "print(l1[0:3]) # elements 0, 1, 2\n",
    "print(l1[2:5]) # elements 2, 3, 4\n",
    "\n",
    "print('----')\n",
    "\n",
    "# you can omit the first or second \n",
    "print(l1[:2]) # from the begining to 2nd element\n",
    "print(l1[3:]) # from the 3rd element to the last element"
   ]
  },
  {
   "cell_type": "markdown",
   "metadata": {},
   "source": [
    "Similarly, the slice operator also applies to a string"
   ]
  },
  {
   "cell_type": "code",
   "execution_count": null,
   "metadata": {},
   "outputs": [],
   "source": [
    "s = \"Adelaide\"\n",
    "print(s[3:6])\n",
    "print(s[0:6])\n",
    "print(s[3:])"
   ]
  },
  {
   "cell_type": "markdown",
   "metadata": {
    "jp-MarkdownHeadingCollapsed": true,
    "tags": []
   },
   "source": [
    "---\n",
    "## Activity 3 - A classroom attendance recorder "
   ]
  },
  {
   "cell_type": "markdown",
   "metadata": {},
   "source": [
    "<!-- BEGIN QUESTION -->\n",
    "\n",
    "Let's create a system that records student entering and leaving the room using the list data structure. Please use a list that record the stduetns in the room. **Print the list** after each step.\n",
    "\n",
    "1. Initially, Aaren, Charlie, and Ray are already in the room\n",
    "1. 'Lane' come into the room\n",
    "1. 'Jess' and 'Jude' come into the room\n",
    "1. 'Lane' leaves the room\n",
    "1. Finally, show the length of the list and its content"
   ]
  },
  {
   "cell_type": "code",
   "execution_count": 38,
   "metadata": {
    "tags": []
   },
   "outputs": [
    {
     "name": "stdout",
     "output_type": "stream",
     "text": [
      "['Aaren', 'Charlie', 'Ray']\n",
      "['Aaren', 'Charlie', 'Ray', 'Lane']\n",
      "['Aaren', 'Charlie', 'Ray', 'Lane', 'Jess', 'Jude']\n",
      "['Aaren', 'Charlie', 'Ray', 'Jess', 'Jude']\n",
      "The number of remaining student is 5\n",
      "The students in the class are ['Aaren', 'Charlie', 'Ray', 'Jess', 'Jude']\n"
     ]
    }
   ],
   "source": [
    "#step 1\n",
    "class_room = ['Aaren', 'Charlie', 'Ray']\n",
    "print(class_room)\n",
    "#step 2\n",
    "class_room.append('Lane')\n",
    "print(class_room)\n",
    "#step 3\n",
    "class_room.append('Jess')\n",
    "class_room.append('Jude')\n",
    "print(class_room)\n",
    "#step 4\n",
    "class_room.remove('Lane') # solution\n",
    "print(class_room)\n",
    "#step 5\n",
    "print(f'The number of remaining student is {len(class_room)}')\n",
    "print(f'The students in the class are {class_room}')\n"
   ]
  },
  {
   "cell_type": "markdown",
   "metadata": {},
   "source": [
    "<!-- END QUESTION -->\n",
    "\n",
    "---\n",
    "## Demo 4 - List of lists"
   ]
  },
  {
   "cell_type": "markdown",
   "metadata": {},
   "source": [
    "As mentioned earlier, a list can contain other lists. Imagine you are trying to represent the following matrix in code.\n",
    "\n",
    "$$\n",
    "A = \\begin{bmatrix}\n",
    "1 & 2 & 3\\\\\n",
    "4 & 5 & 6\\\\\n",
    "7 & 8 & 9\n",
    "\\end{bmatrix}\n",
    "$$\n",
    "\n",
    "We can represent this matrix in code using a 2-dimensional (2D) list shown below."
   ]
  },
  {
   "cell_type": "code",
   "execution_count": 55,
   "metadata": {},
   "outputs": [
    {
     "name": "stdout",
     "output_type": "stream",
     "text": [
      "[1, 2, 3]\n",
      "[4, 5, 6]\n",
      "[7, 8, 9]\n"
     ]
    }
   ],
   "source": [
    "a = [ [1, 2, 3], [4, 5, 6], [7, 8, 9] ]\n",
    "print(a[0])\n",
    "print(a[1])\n",
    "print(a[2])"
   ]
  },
  {
   "cell_type": "markdown",
   "metadata": {},
   "source": [
    "Note: While it is common to write a 2D list as a *list of rows*, there is nothing stopping us from having each inner list represent a column, it just makes printing more difficult.\n",
    "\n",
    "To access an element in a 2D, 3D, or n-dimensional list we simply write a sequence of square brackets `[ ]`. If we wanted to access 6 from the above matrix, we would write."
   ]
  },
  {
   "cell_type": "code",
   "execution_count": null,
   "metadata": {},
   "outputs": [],
   "source": [
    "a[1][2]"
   ]
  },
  {
   "cell_type": "markdown",
   "metadata": {},
   "source": [
    "<font color=\"red\">Understanding lists containing other lists will greatly help in your second coding assignment!</font>"
   ]
  },
  {
   "cell_type": "markdown",
   "metadata": {
    "tags": []
   },
   "source": [
    "---\n",
    "## Activity 4.1 - Lists of lists #1"
   ]
  },
  {
   "cell_type": "markdown",
   "metadata": {},
   "source": [
    "<!-- BEGIN QUESTION -->\n",
    "\n",
    "Write a function that has three parameters `row` and `col`, `li`. The function should return the `col`'th element of the `row`'th row of list `li`.\n",
    "\n",
    "You may assume the values of `x` and `y` are always valid."
   ]
  },
  {
   "cell_type": "code",
   "execution_count": 45,
   "metadata": {
    "tags": []
   },
   "outputs": [
    {
     "data": {
      "text/plain": [
       "6"
      ]
     },
     "execution_count": 45,
     "metadata": {},
     "output_type": "execute_result"
    }
   ],
   "source": [
    "def get_value(row, col, li):\n",
    "    # COMPLETE THE CODE BELOW\n",
    "    # ~ 1 LINES\n",
    "    return li[row][col]\n",
    "    # END OF YOUR CODE\n",
    "    \n",
    "# TEST CASES BELOW  \n",
    "li = [[1, 2, 3], [4, 5, 6]]\n",
    "get_value(1, 2, li) #6"
   ]
  },
  {
   "cell_type": "markdown",
   "metadata": {
    "jp-MarkdownHeadingCollapsed": true,
    "tags": []
   },
   "source": [
    "<!-- END QUESTION -->\n",
    "\n",
    "---\n",
    "## Activity 4.2 - Lists of lists #2"
   ]
  },
  {
   "cell_type": "markdown",
   "metadata": {},
   "source": [
    "<!-- BEGIN QUESTION -->\n",
    "\n",
    "In Demo 3, you saw that you can remove elements from a list using the `pop` and `remove` methods. These are not the only methods for lists though, you can see them all in the [Python documentation](https://docs.python.org/3/tutorial/datastructures.html#more-on-lists).\n",
    "\n",
    "Using Demo 3 and the documentation linked above, please write a function with two parameters `list_1` and `list_2` that returns a new 2D list. The first row will be `list_1` and the second row will be `list_2`."
   ]
  },
  {
   "cell_type": "code",
   "execution_count": 43,
   "metadata": {
    "tags": []
   },
   "outputs": [
    {
     "data": {
      "text/plain": [
       "[[1, 2, 3], [4, 5, 6]]"
      ]
     },
     "execution_count": 43,
     "metadata": {},
     "output_type": "execute_result"
    }
   ],
   "source": [
    "def combine_lists(list_1, list_2):\n",
    "    # COMPLETE THE CODE BELOW\n",
    "    # ~ 3 LINES\n",
    "    return [list_1, list_2]\n",
    "    # END OF YOUR CODE\n",
    "    \n",
    "# TEST CASES BELOW  \n",
    "li_1 = [1, 2, 3]\n",
    "li_2 = [4, 5, 6]\n",
    "combine_lists(li_1, li_2) #[[1, 2, 3], [4, 5, 6]]"
   ]
  },
  {
   "cell_type": "markdown",
   "metadata": {
    "jp-MarkdownHeadingCollapsed": true,
    "tags": []
   },
   "source": [
    "<!-- END QUESTION -->\n",
    "\n",
    "---\n",
    "## Demo 5 - For loop "
   ]
  },
  {
   "cell_type": "markdown",
   "metadata": {},
   "source": [
    "Earlier we have used a `while` loop to traverse both *string* and *list*. Another common way to traverse the sequence is via the `for` loop. Below I wrote two traversal approaches side-by-side. As you will see, the `for` loop provides a more succint way to iterate through the sequence."
   ]
  },
  {
   "cell_type": "code",
   "execution_count": null,
   "metadata": {},
   "outputs": [],
   "source": [
    "my_list = ['an', 'apple', 'a', 'day']\n",
    "\n",
    "# USING WHILE \n",
    "print('--- while loop ---')\n",
    "i = 0\n",
    "while i < len(my_list):\n",
    "    print(my_list[i])\n",
    "    i = i + 1\n",
    "    \n",
    "print('--- for loop ---')\n",
    "# USING FOR\n",
    "for e in my_list:\n",
    "    print(e)\n",
    "    "
   ]
  },
  {
   "cell_type": "markdown",
   "metadata": {},
   "source": [
    "### Range function "
   ]
  },
  {
   "cell_type": "markdown",
   "metadata": {},
   "source": [
    "However, there is a downside of the `for` loop - you do not have access to the **index** value, which could be crucial in some applications. For example, you might want to compare with the element after you etc. As an alternative, we also commonly use the `range` function with the `for` loop. "
   ]
  },
  {
   "cell_type": "markdown",
   "metadata": {},
   "source": [
    "The range() function generates a series of integer numbers between a **start** integer and a **stop** integer. "
   ]
  },
  {
   "cell_type": "code",
   "execution_count": null,
   "metadata": {},
   "outputs": [],
   "source": [
    "for i in range(5):\n",
    "    print(i)\n",
    "    \n",
    "print('----')\n",
    "for i in range(2, 5):\n",
    "    print(i)"
   ]
  },
  {
   "cell_type": "markdown",
   "metadata": {},
   "source": [
    "And we can utilise the values as the **index** to access a sequence."
   ]
  },
  {
   "cell_type": "code",
   "execution_count": null,
   "metadata": {},
   "outputs": [],
   "source": [
    "print('--- for with range function ---')\n",
    "# FOR WITH RANGE\n",
    "for i in range(len(my_list)): \n",
    "    print(my_list[i]) # use i as an index to access the values in the sequence."
   ]
  },
  {
   "cell_type": "markdown",
   "metadata": {},
   "source": [
    "Again, I put all three loops in a single cell for your reference."
   ]
  },
  {
   "cell_type": "code",
   "execution_count": null,
   "metadata": {},
   "outputs": [],
   "source": [
    "# USING WHILE \n",
    "print('--- while loop ---')\n",
    "i = 0\n",
    "while i < len(my_list):\n",
    "    print(my_list[i])\n",
    "    i = i + 1\n",
    "    \n",
    "print('--- for loop ---')\n",
    "# USING FOR\n",
    "for e in my_list:\n",
    "    print(e)\n",
    "    \n",
    "print('--- for loop with range function ---')\n",
    "# FOR WITH RANGE\n",
    "for i in range(len(my_list)): \n",
    "    print(my_list[i]) # use i as an index to access the values in the sequence."
   ]
  },
  {
   "cell_type": "markdown",
   "metadata": {
    "jp-MarkdownHeadingCollapsed": true,
    "tags": []
   },
   "source": [
    "---\n",
    "## Activity 5 - Calculating sum and mean of a list #2"
   ]
  },
  {
   "cell_type": "markdown",
   "metadata": {},
   "source": [
    "<!-- BEGIN QUESTION -->\n",
    "\n",
    "Please use `for` loop to complete the `my_sum` function."
   ]
  },
  {
   "cell_type": "code",
   "execution_count": 46,
   "metadata": {
    "tags": []
   },
   "outputs": [
    {
     "name": "stdout",
     "output_type": "stream",
     "text": [
      "30\n",
      "6.0\n",
      "151\n",
      "18.875\n"
     ]
    }
   ],
   "source": [
    "def my_sum(li):\n",
    "    s = 0\n",
    "    # COMPLETE THE CODE BELOW\n",
    "    # ~ 2 LINES\n",
    "    for i in li:\n",
    "        s = sum(li)\n",
    "    return s\n",
    "    \n",
    "def my_mean(li):\n",
    "    m = my_sum(li) / len(li)\n",
    "    return m\n",
    "    \n",
    "li = [2, 4, 6, 8, 10]\n",
    "print(my_sum(li)) # 30\n",
    "print(my_mean(li)) # 6\n",
    "\n",
    "li = [1, 3, 5, 7, 9, 12, 102, 12]\n",
    "print(my_sum(li)) # 151\n",
    "print(my_mean(li)) # 18.875\n",
    "    "
   ]
  },
  {
   "cell_type": "markdown",
   "metadata": {
    "jp-MarkdownHeadingCollapsed": true,
    "tags": []
   },
   "source": [
    "<!-- END QUESTION -->\n",
    "\n",
    "---\n",
    "## Submission Exercise: Find largest number in a list #2"
   ]
  },
  {
   "cell_type": "markdown",
   "metadata": {},
   "source": [
    "<!-- BEGIN QUESTION -->\n",
    "\n",
    "Please complete the function `find_max`, which returns the largest number in the given sequence. \n",
    "\n",
    "**hint:** `-math.inf` will give you an infinitly small number\n",
    "\n",
    "Note, <font color='red'>using built-in max() function will not be rewarded any mark</font>"
   ]
  },
  {
   "cell_type": "code",
   "execution_count": 57,
   "metadata": {
    "tags": []
   },
   "outputs": [
    {
     "name": "stdout",
     "output_type": "stream",
     "text": [
      "answer\": 8 your answer: 8\n",
      "answer\": 98 your answer: 98\n",
      "answer\": -321 your answer: -321\n"
     ]
    }
   ],
   "source": [
    "import math\n",
    "\n",
    "def find_max(seq):\n",
    "    #INSERT YOUR CODE BELOW\n",
    "    # ~4 LINES\n",
    "    my_max = seq[0]\n",
    "    for x in seq:\n",
    "        if x > my_max:\n",
    "            my_max = x\n",
    "   \n",
    "    return my_max\n",
    "\n",
    "#================\n",
    "#TEST CASES BELOW\n",
    "#================\n",
    "\n",
    "li = [5, 6, 7, 8]\n",
    "v = find_max(li)\n",
    "print(f'answer\": {max(li)} your answer: {v}')\n",
    "\n",
    "li = [12, 34, 56, 98]\n",
    "v = find_max(li)\n",
    "print(f'answer\": {max(li)} your answer: {v}')\n",
    "\n",
    "li = [-321, -2933, -452, -1029]\n",
    "v = find_max(li)\n",
    "print(f'answer\": {max(li)} your answer: {v}')"
   ]
  },
  {
   "cell_type": "markdown",
   "metadata": {},
   "source": [
    "<!-- END QUESTION -->\n",
    "\n"
   ]
  }
 ],
 "metadata": {
  "kernelspec": {
   "display_name": "Python 3 (ipykernel)",
   "language": "python",
   "name": "python3"
  },
  "language_info": {
   "codemirror_mode": {
    "name": "ipython",
    "version": 3
   },
   "file_extension": ".py",
   "mimetype": "text/x-python",
   "name": "python",
   "nbconvert_exporter": "python",
   "pygments_lexer": "ipython3",
   "version": "3.9.16"
  },
  "otter": {
   "tests": {
    "Submission": {
     "name": "Submission",
     "points": 0,
     "suites": [
      {
       "cases": [
        {
         "code": ">>> find_max([3, 4, 5, 9]) == 9\nTrue",
         "failure_message": "Incorrect answer, try again!",
         "hidden": false,
         "locked": false,
         "success_message": "Good job!"
        }
       ],
       "scored": true,
       "setup": "",
       "teardown": "",
       "type": "doctest"
      }
     ]
    }
   }
  },
  "vscode": {
   "interpreter": {
    "hash": "d57c152add3a77aa406b6a31edc12b55f0062050fedadc6ea5d152b48566b0e5"
   }
  }
 },
 "nbformat": 4,
 "nbformat_minor": 4
}
