{
 "cells": [
  {
   "attachments": {},
   "cell_type": "markdown",
   "metadata": {},
   "source": [
    "# Coding Exam 2 Practice\n",
    "\n",
    "**Time:** 110 minutes.<br>\n",
    "**Maximum mark:** 100\n",
    "\n",
    "<font color='red'>This exercise is **not** graded. It is designed to help you identify any knowledge gaps before the exam.</font>"
   ]
  },
  {
   "attachments": {},
   "cell_type": "markdown",
   "metadata": {},
   "source": [
    "---"
   ]
  },
  {
   "attachments": {},
   "cell_type": "markdown",
   "metadata": {
    "tags": []
   },
   "source": [
    "# In questions 1 ~ 6 you will demonstrate your ability to code the essentials\n",
    "\n",
    "Total marks 70."
   ]
  },
  {
   "attachments": {},
   "cell_type": "markdown",
   "metadata": {},
   "source": [
    "## Q1: Functions & printing (10 marks)"
   ]
  },
  {
   "attachments": {},
   "cell_type": "markdown",
   "metadata": {},
   "source": [
    "Complete the function `timestable(a, b)` which generates the timestables from `a` to `b`.\n",
    "\n",
    "For example, `timestable(1, 3)` will **print** the following:"
   ]
  },
  {
   "cell_type": "raw",
   "metadata": {},
   "source": [
    "1 x 1 = 1\n",
    "1 x 2 = 2\n",
    "1 x 3 = 3\n",
    "1 x 4 = 4\n",
    "1 x 5 = 5\n",
    "1 x 6 = 6\n",
    "1 x 7 = 7\n",
    "1 x 8 = 8\n",
    "1 x 9 = 9\n",
    "1 x 10 = 10\n",
    "1 x 11 = 11\n",
    "1 x 12 = 12\n",
    "2 x 1 = 2\n",
    "2 x 2 = 4\n",
    "2 x 3 = 6\n",
    "2 x 4 = 8\n",
    "2 x 5 = 10\n",
    "2 x 6 = 12\n",
    "2 x 7 = 14\n",
    "2 x 8 = 16\n",
    "2 x 9 = 18\n",
    "2 x 10 = 20\n",
    "2 x 11 = 22\n",
    "2 x 12 = 24\n",
    "3 x 1 = 3\n",
    "3 x 2 = 6\n",
    "3 x 3 = 9\n",
    "3 x 4 = 12\n",
    "3 x 5 = 15\n",
    "3 x 6 = 18\n",
    "3 x 7 = 21\n",
    "3 x 8 = 24\n",
    "3 x 9 = 27\n",
    "3 x 10 = 30\n",
    "3 x 11 = 33\n",
    "3 x 12 = 36"
   ]
  },
  {
   "cell_type": "code",
   "execution_count": 1,
   "metadata": {
    "tags": []
   },
   "outputs": [
    {
     "name": "stdout",
     "output_type": "stream",
     "text": [
      "Times table of 1:\n",
      "1 x 1 = 1\n",
      "1 x 2 = 2\n",
      "1 x 3 = 3\n",
      "1 x 4 = 4\n",
      "1 x 5 = 5\n",
      "1 x 6 = 6\n",
      "1 x 7 = 7\n",
      "1 x 8 = 8\n",
      "1 x 9 = 9\n",
      "1 x 10 = 10\n",
      "\n",
      "Times table of 2:\n",
      "2 x 1 = 2\n",
      "2 x 2 = 4\n",
      "2 x 3 = 6\n",
      "2 x 4 = 8\n",
      "2 x 5 = 10\n",
      "2 x 6 = 12\n",
      "2 x 7 = 14\n",
      "2 x 8 = 16\n",
      "2 x 9 = 18\n",
      "2 x 10 = 20\n",
      "\n",
      "Times table of 3:\n",
      "3 x 1 = 3\n",
      "3 x 2 = 6\n",
      "3 x 3 = 9\n",
      "3 x 4 = 12\n",
      "3 x 5 = 15\n",
      "3 x 6 = 18\n",
      "3 x 7 = 21\n",
      "3 x 8 = 24\n",
      "3 x 9 = 27\n",
      "3 x 10 = 30\n",
      "\n"
     ]
    }
   ],
   "source": [
    "def timestable(a, b):\n",
    "     for i in range(a, b+1):\n",
    "        print(f\"Times table of {i}:\")\n",
    "        for j in range(1, 11):\n",
    "            result = i * j\n",
    "            print(f\"{i} x {j} = {result}\")\n",
    "        print()  # Empty line between tables\n",
    "    \n",
    "# =======================\n",
    "# EXAMPLE TESTING CASES\n",
    "timestable(1, 3)"
   ]
  },
  {
   "attachments": {},
   "cell_type": "markdown",
   "metadata": {},
   "source": [
    "## Q2: User input & loops (10 marks)"
   ]
  },
  {
   "attachments": {},
   "cell_type": "markdown",
   "metadata": {},
   "source": [
    "Write a program that takes in user input string followed by an integer. Assign these to the variables `m` and `n`. Then, **print** the string `m` `n`-times **using a while loop**. There should not be any spaces of new lines between each instance of `m`.\n",
    "\n",
    "**Example (<font color=red>red text</font> represents user input):**\n",
    "<pre>\n",
    "Please enter a string: <font color=red>la</font>\n",
    "Please enter a number: <font color=red>3</font>\n",
    "lalala\n",
    "</pre>\n",
    "\n",
    "*You may assume that the user always assigns n to a positive integer.*"
   ]
  },
  {
   "cell_type": "code",
   "execution_count": 2,
   "metadata": {
    "tags": []
   },
   "outputs": [
    {
     "name": "stdout",
     "output_type": "stream",
     "text": [
      "1a1a1a"
     ]
    }
   ],
   "source": [
    "# YOUR CODE BELOW\n",
    "m = input(\"Please enter a string: \")\n",
    "n = int(input(\"Please enter a number: \"))\n",
    "\n",
    "count = 0\n",
    "while count < n:\n",
    "    print(m, end='')\n",
    "    count += 1"
   ]
  },
  {
   "attachments": {},
   "cell_type": "markdown",
   "metadata": {
    "tags": []
   },
   "source": [
    "<!-- BEGIN QUESTION -->\n",
    "\n",
    "## Q3: Nested Lists (20 marks)"
   ]
  },
  {
   "attachments": {},
   "cell_type": "markdown",
   "metadata": {},
   "source": [
    "Complete the function `buildMatrix(r, c, n)` which creates and **returns** a 2-D matrix with `r` rows and `c` columns and initializes the corner values with `n`. All other values should be set to 0.\n",
    "\n",
    "You may assume `r` and `c` are always positive integers. You **do** need to account for 1x1, 1x2, and 2x1 matrices, in these cases every element is considered a corner.\n",
    "\n",
    "Examples:\n",
    "1) `buildMatrix(2, 3, 1)` should return `[[1, 0, 1], [1, 0, 1]]` corresponding to:\n",
    "\n",
    "\\begin{bmatrix}\n",
    "1 & 0 & 1\\\\\n",
    "1 & 0 & 1\n",
    "\\end{bmatrix}\n",
    "\n",
    "2) `buildMatrix(4, 3, 4)` should return `[[4, 0, 4], [0, 0, 0], [0, 0, 0], [4, 0, 4]]` corresponding to:\n",
    "\n",
    "\\begin{bmatrix}\n",
    "4 & 0 & 4\\\\\n",
    "0 & 0 & 0\\\\\n",
    "0 & 0 & 0\\\\\n",
    "4 & 0 & 4\n",
    "\\end{bmatrix}"
   ]
  },
  {
   "cell_type": "code",
   "execution_count": 11,
   "metadata": {
    "tags": []
   },
   "outputs": [
    {
     "name": "stdout",
     "output_type": "stream",
     "text": [
      "[[1, 0, 1], [1, 0, 1]]\n",
      "[[4, 0, 4], [0, 0, 0], [0, 0, 0], [4, 0, 4]]\n"
     ]
    }
   ],
   "source": [
    "def buildMatrix(r, c, n):\n",
    "    matrix = [[0] * c for _ in range(r)]\n",
    "    \n",
    "    # Handle 1x1, 1x2, and 2x1 matrices\n",
    "    if r <= 2 and c <= 2:\n",
    "        for i in range(r):\n",
    "            for j in range(c):\n",
    "                matrix[i][j] = n\n",
    "        return matrix\n",
    "    \n",
    "    # Assign corner values\n",
    "    matrix[0][0] = matrix[0][c-1] = matrix[r-1][0] = matrix[r-1][c-1] = n\n",
    "\n",
    "    return matrix\n",
    "    \n",
    "# =======================\n",
    "# EXAMPLE TESTING CASES\n",
    "print(buildMatrix(2, 3, 1))\n",
    "print(buildMatrix(4, 3, 4))"
   ]
  },
  {
   "attachments": {},
   "cell_type": "markdown",
   "metadata": {},
   "source": [
    "<!-- END QUESTION -->\n",
    "\n",
    "## Q4 : Files (10 marks)"
   ]
  },
  {
   "attachments": {},
   "cell_type": "markdown",
   "metadata": {},
   "source": [
    "Please complete the two functions below.\n",
    "\n",
    "- `write_file` which takes a string `s` and writes it to the end of a file named `filename`. If that file already exists, it should append `s` to the end of the file.\n",
    "- `read_vowels` which **returns** a string of all the vowels in the file `filename` (without spaces or new lines).\n",
    "\n",
    "**Ensure you download the appropriate files from the Exam Page on MyUni. Do not change the content of these files.**"
   ]
  },
  {
   "cell_type": "code",
   "execution_count": null,
   "metadata": {
    "tags": []
   },
   "outputs": [],
   "source": [
    "def append_file(filename, s):\n",
    "     with open(filename, 'a') as file:\n",
    "        file.write(s)\n",
    "\n",
    "def read_vowels(filename):\n",
    "    vowels = ''\n",
    "    with open(filename, 'r') as file:\n",
    "        for line in file:\n",
    "            line = line.strip()\n",
    "            for char in line:\n",
    "                if char.lower() in 'aeiou':\n",
    "                    vowels += char.lower()\n",
    "    return vowels\n",
    "    \n",
    "# =======================\n",
    "# EXAMPLE TESTING CASES\n",
    "append_file(\"practice_exam_output0.txt\", \"one\\ntwo\\nthree\\n\")\n",
    "read_vowels(\"practice_exam_input0.txt\") #'eeaeoaeia'"
   ]
  },
  {
   "attachments": {},
   "cell_type": "markdown",
   "metadata": {},
   "source": [
    "<!-- BEGIN QUESTION -->\n",
    "\n",
    "## Q5: Dictionaries & exceptions (15 marks)"
   ]
  },
  {
   "attachments": {},
   "cell_type": "markdown",
   "metadata": {},
   "source": [
    "Please complete the `file_stat` function below that \n",
    "1. reads the content from a file, and \n",
    "1. counts the number of times each alphabet appers.\n",
    "\n",
    "In the event the file does not exist, your function should return a string stating `X does not exist`, where `X` is the name of the file passed into the function.\n",
    "\n",
    "**Example**\n",
    "\n",
    "A file `q3.txt` contains the text `An apple a day, keeps the doctor away`. The function call `file_stat('q3.txt')` should return a **dictionary** with the following content \n",
    "`{'a': 6, 'b': 0, 'c': 1, 'd': 2, 'e': 4, 'f': 0, 'g': 0, 'h': 1, 'i': 0, 'j': 0, 'k': 1, 'l': 1, 'm': 0, 'n': 1, 'o': 2, 'p': 3, 'q': 0, 'r': 1, 's': 1, 't': 2, 'u': 0, 'v': 0, 'w': 1, 'x': 0, 'y': 2, 'z': 0}`. \n",
    "\n",
    "The dictionary shows that the `a` has appeared 6 times, `c` has appear 1 time so on and so forth. Note that the dicitonary should be *case insensitive*, meaning both `A` and `a` should be treated as a same alphabet.\n",
    "\n",
    "*Make sure you download `q3.txt` from the "
   ]
  },
  {
   "cell_type": "code",
   "execution_count": null,
   "metadata": {
    "tags": []
   },
   "outputs": [],
   "source": [
    "import string\n",
    "print(string.ascii_lowercase) # hint: code that gives you lowercase alphabets a to z.\n",
    "\n",
    "def file_stat(fname):\n",
    "    try:\n",
    "        with open(fname, 'r') as file:\n",
    "            content = file.read().lower()\n",
    "            alphabet_counts = {chr(i): 0 for i in range(97, 123)}  # Initialize counts for all alphabets (a-z)\n",
    "\n",
    "            for char in content:\n",
    "                if char.isalpha():\n",
    "                    alphabet_counts[char] += 1\n",
    "\n",
    "            return alphabet_counts\n",
    "\n",
    "    except FileNotFoundError:\n",
    "        return f\"{fname} does not exist\"\n",
    "\n",
    "# =======================\n",
    "# EXAMPLE TESTING CASES\n",
    "# DO NOT CHANGE\n",
    "d = file_stat('practice_exam_input1.txt')\n",
    "print(d) # {'a': 6, 'b': 0, 'c': 1, 'd': 2, 'e': 4, 'f': 0, 'g': 0, 'h': 1, 'i': 0, 'j': 0, 'k': 1, 'l': 1, 'm': 0, 'n': 1, 'o': 2, 'p': 3, 'q': 0, 'r': 1, 's': 1, 't': 2, 'u': 0, 'v': 0, 'w': 1, 'x': 0, 'y': 2, 'z': 0}\n",
    "\n",
    "d = file_stat('nofile.txt')\n",
    "print(d) # No such file"
   ]
  },
  {
   "attachments": {},
   "cell_type": "markdown",
   "metadata": {},
   "source": [
    "<!-- END QUESTION -->\n",
    "\n",
    "<!-- BEGIN QUESTION -->\n",
    "\n",
    "## Q6: Reducing complex logic (5 marks)"
   ]
  },
  {
   "attachments": {},
   "cell_type": "markdown",
   "metadata": {},
   "source": [
    "The following code is written very poorly.\n",
    "1. Design 2 at least 2 tests to help understand what this code does.\n",
    "1. Re-write this function so that the function body takes up no more than 4 lines\n",
    "1. Re-name this function so that it describes the behaviour of the code\n",
    "\n",
    "You can learn what this code does by reading it carefully or creating and running more tests. *This question is marked manually.*"
   ]
  },
  {
   "cell_type": "raw",
   "metadata": {},
   "source": [
    "def compare_x_y_z(x, y, z):\n",
    "    if (x / y == 1 and x % y == 0):\n",
    "        if (x / z == 1 and x % z == 0):\n",
    "            if (y / z == 1 and y % z == 0):\n",
    "                return True\n",
    "            else:\n",
    "                return False\n",
    "        else:\n",
    "            return False\n",
    "    else:\n",
    "        return False"
   ]
  },
  {
   "cell_type": "code",
   "execution_count": 3,
   "metadata": {
    "tags": []
   },
   "outputs": [
    {
     "name": "stdout",
     "output_type": "stream",
     "text": [
      "True\n",
      "False\n"
     ]
    }
   ],
   "source": [
    "def are_all_equal_factors(x, y, z):\n",
    "    return x % y == x % z == y % z == 0 if x == y == z != 0 else False\n",
    "\n",
    "def compare_x_y_z(x, y, z):\n",
    "    if (x / y == 1 and x % y == 0):\n",
    "        if (x / z == 1 and x % z == 0):\n",
    "            if (y / z == 1 and y % z == 0):\n",
    "                return True\n",
    "            else:\n",
    "                return False\n",
    "        else:\n",
    "            return False\n",
    "    else:\n",
    "        return False\n",
    "\n",
    "# =======================\n",
    "# EXAMPLE TESTING CASES\n",
    "# YOU SHOULD CHANGE THESE\n",
    "print(compare_x_y_z(1, 1, 1)) # True\n",
    "print(compare_x_y_z(1, 2, 3)) # False"
   ]
  },
  {
   "attachments": {},
   "cell_type": "markdown",
   "metadata": {
    "tags": []
   },
   "source": [
    "<!-- END QUESTION -->\n",
    "\n",
    "# In questions 7 ~ 8 you will use GUI and/or combine your knowledge of the fundamentals to create more complex programs\n",
    "Total marks 40. These questions are designed to be more challenging."
   ]
  },
  {
   "attachments": {},
   "cell_type": "markdown",
   "metadata": {},
   "source": [
    "## Q7: Word game (20 marks)\n",
    "\n",
    "In this question, you will create the **scoring function** of a word game that is similar to Scrabble or Words with Friends. Your code should do the following:\n",
    "\n",
    "1. check if the input word is a valid English word.\n",
    "1. calculate and report the score of the input word.\n",
    "\n",
    "We assume that the word is valid if and only if it exists in the file **practice_exam_input2.txt**. If the word cannot be found in the file, your code should **print** \"The input word is not an English word\". Your code should not calculate the score of a non-English word.\n",
    "\n",
    "If the input word is a valid English word, your code should then report the score of this word. The score of a word is the **product** of three components:\n",
    "- the length of the word\n",
    "- the number of vowels (a, e, i, o, u)\n",
    "- the number of consonants (characters other than vowels.)\n",
    "\n",
    "**Example1**: the word `fox`, \n",
    "- its length is 3\n",
    "- it has 1 vowel (character `o`)\n",
    "- it has 2 consonants (character `f` and `x`)\n",
    "\n",
    "Thus the score of `fox` is 3 * 1 * 2 = 6\n",
    "\n",
    "**Example2**: the word `apple`, \n",
    "- its length is 5\n",
    "- it has 2 vowel (character `a`, `e`)\n",
    "- it has 3 consonants (two `p` and one `l`)\n",
    "\n",
    "Thus the score of `apple` is 5 * 2 * 3 = 30"
   ]
  },
  {
   "cell_type": "code",
   "execution_count": 8,
   "metadata": {
    "tags": []
   },
   "outputs": [
    {
     "ename": "FileNotFoundError",
     "evalue": "[Errno 2] No such file or directory: 'practice_exam_input2.txt'",
     "output_type": "error",
     "traceback": [
      "\u001b[1;31m---------------------------------------------------------------------------\u001b[0m",
      "\u001b[1;31mFileNotFoundError\u001b[0m                         Traceback (most recent call last)",
      "Cell \u001b[1;32mIn[8], line 24\u001b[0m\n\u001b[0;32m     20\u001b[0m \u001b[39m# ===============\u001b[39;00m\n\u001b[0;32m     21\u001b[0m \u001b[39m# TEST CASE BELOW\u001b[39;00m\n\u001b[0;32m     23\u001b[0m word \u001b[39m=\u001b[39m \u001b[39m'\u001b[39m\u001b[39mfox\u001b[39m\u001b[39m'\u001b[39m\n\u001b[1;32m---> 24\u001b[0m s \u001b[39m=\u001b[39m score(word)\n\u001b[0;32m     25\u001b[0m \u001b[39mprint\u001b[39m(\u001b[39mf\u001b[39m\u001b[39m'\u001b[39m\u001b[39mScore of \u001b[39m\u001b[39m{\u001b[39;00mword\u001b[39m}\u001b[39;00m\u001b[39m is \u001b[39m\u001b[39m{\u001b[39;00ms\u001b[39m}\u001b[39;00m\u001b[39m'\u001b[39m)\n\u001b[0;32m     27\u001b[0m word \u001b[39m=\u001b[39m \u001b[39m'\u001b[39m\u001b[39mapple\u001b[39m\u001b[39m'\u001b[39m\n",
      "Cell \u001b[1;32mIn[8], line 14\u001b[0m, in \u001b[0;36mscore\u001b[1;34m(word)\u001b[0m\n\u001b[0;32m     11\u001b[0m     num_consonants \u001b[39m=\u001b[39m length \u001b[39m-\u001b[39m num_vowels\n\u001b[0;32m     12\u001b[0m     \u001b[39mreturn\u001b[39;00m length \u001b[39m*\u001b[39m num_vowels \u001b[39m*\u001b[39m num_consonants\n\u001b[1;32m---> 14\u001b[0m \u001b[39mif\u001b[39;00m \u001b[39mnot\u001b[39;00m is_valid_word(word):\n\u001b[0;32m     15\u001b[0m     \u001b[39mprint\u001b[39m(\u001b[39m\"\u001b[39m\u001b[39mThe input word is not an English word\u001b[39m\u001b[39m\"\u001b[39m)\n\u001b[0;32m     16\u001b[0m     \u001b[39mreturn\u001b[39;00m \u001b[39mNone\u001b[39;00m\n",
      "Cell \u001b[1;32mIn[8], line 3\u001b[0m, in \u001b[0;36mscore.<locals>.is_valid_word\u001b[1;34m(word)\u001b[0m\n\u001b[0;32m      2\u001b[0m \u001b[39mdef\u001b[39;00m \u001b[39mis_valid_word\u001b[39m(word):\n\u001b[1;32m----> 3\u001b[0m     \u001b[39mwith\u001b[39;00m \u001b[39mopen\u001b[39;49m(\u001b[39m'\u001b[39;49m\u001b[39mpractice_exam_input2.txt\u001b[39;49m\u001b[39m'\u001b[39;49m, \u001b[39m'\u001b[39;49m\u001b[39mr\u001b[39;49m\u001b[39m'\u001b[39;49m) \u001b[39mas\u001b[39;00m file:\n\u001b[0;32m      4\u001b[0m         valid_words \u001b[39m=\u001b[39m file\u001b[39m.\u001b[39mread()\u001b[39m.\u001b[39msplitlines()\n\u001b[0;32m      5\u001b[0m         \u001b[39mreturn\u001b[39;00m word\u001b[39m.\u001b[39mlower() \u001b[39min\u001b[39;00m valid_words\n",
      "File \u001b[1;32m~\\AppData\\Local\\Packages\\PythonSoftwareFoundation.Python.3.10_qbz5n2kfra8p0\\LocalCache\\local-packages\\Python310\\site-packages\\IPython\\core\\interactiveshell.py:282\u001b[0m, in \u001b[0;36m_modified_open\u001b[1;34m(file, *args, **kwargs)\u001b[0m\n\u001b[0;32m    275\u001b[0m \u001b[39mif\u001b[39;00m file \u001b[39min\u001b[39;00m {\u001b[39m0\u001b[39m, \u001b[39m1\u001b[39m, \u001b[39m2\u001b[39m}:\n\u001b[0;32m    276\u001b[0m     \u001b[39mraise\u001b[39;00m \u001b[39mValueError\u001b[39;00m(\n\u001b[0;32m    277\u001b[0m         \u001b[39mf\u001b[39m\u001b[39m\"\u001b[39m\u001b[39mIPython won\u001b[39m\u001b[39m'\u001b[39m\u001b[39mt let you open fd=\u001b[39m\u001b[39m{\u001b[39;00mfile\u001b[39m}\u001b[39;00m\u001b[39m by default \u001b[39m\u001b[39m\"\u001b[39m\n\u001b[0;32m    278\u001b[0m         \u001b[39m\"\u001b[39m\u001b[39mas it is likely to crash IPython. If you know what you are doing, \u001b[39m\u001b[39m\"\u001b[39m\n\u001b[0;32m    279\u001b[0m         \u001b[39m\"\u001b[39m\u001b[39myou can use builtins\u001b[39m\u001b[39m'\u001b[39m\u001b[39m open.\u001b[39m\u001b[39m\"\u001b[39m\n\u001b[0;32m    280\u001b[0m     )\n\u001b[1;32m--> 282\u001b[0m \u001b[39mreturn\u001b[39;00m io_open(file, \u001b[39m*\u001b[39margs, \u001b[39m*\u001b[39m\u001b[39m*\u001b[39mkwargs)\n",
      "\u001b[1;31mFileNotFoundError\u001b[0m: [Errno 2] No such file or directory: 'practice_exam_input2.txt'"
     ]
    }
   ],
   "source": [
    "def score(word):\n",
    "    def is_valid_word(word):\n",
    "        with open('practice_exam_input2.txt', 'r') as file:\n",
    "            valid_words = file.read().splitlines()\n",
    "            return word.lower() in valid_words\n",
    "\n",
    "    def calculate_score(word):\n",
    "        vowels = ['a', 'e', 'i', 'o', 'u']\n",
    "        length = len(word)\n",
    "        num_vowels = sum(1 for char in word if char.lower() in vowels)\n",
    "        num_consonants = length - num_vowels\n",
    "        return length * num_vowels * num_consonants\n",
    "\n",
    "    if not is_valid_word(word):\n",
    "        print(\"The input word is not an English word\")\n",
    "        return None\n",
    "    else:\n",
    "        return calculate_score(word)\n",
    "    \n",
    "# ===============\n",
    "# TEST CASE BELOW\n",
    "    \n",
    "word = 'fox'\n",
    "s = score(word)\n",
    "print(f'Score of {word} is {s}')\n",
    "\n",
    "word = 'apple'\n",
    "s = score(word)\n",
    "print(f'Score of {word} is {s}')"
   ]
  },
  {
   "attachments": {
    "e678e8cc-6236-49d5-82d7-35dead6a427a.jpg": {
     "image/jpeg": "[encoded data removed]"
    }
   },
   "cell_type": "markdown",
   "metadata": {},
   "source": [
    "## Q8: GUI (20 marks)\n",
    "\n",
    "Create a simple calculator using Tkinter. \n",
    "- The GUI should look like the image below. Your widgets could be at arbitrary width and height. But their relatively position must be the same as below. <br>\n",
    "- The user should be able to input three numbers via the three text entries. You can assume users will input valid integer numbers\n",
    "- When the user click the button with the equal sign, the result should be shown at the right-most label. \n",
    "![GUI.jpg](attachment:e678e8cc-6236-49d5-82d7-35dead6a427a.jpg)\n",
    "\n",
    "*This question is manually marked.* Reminder, you are able to look-up documentation or your past work to help you complete this question in a more timely manner.\n",
    "\n",
    "Useful links:\n",
    "* [Basic widgets](https://tkdocs.com/tutorial/widgets.html)\n",
    "* [Color chart](https://tcl.tk/man/tcl8.6/TkCmd/colors.htm)\n",
    "* [Common events](https://web.archive.org/web/20190512164300/http://infohost.nmt.edu/tcc/help/pubs/tkinter/web/event-types.html)"
   ]
  },
  {
   "cell_type": "code",
   "execution_count": 7,
   "metadata": {
    "tags": []
   },
   "outputs": [],
   "source": [
    "import tkinter as tk\n",
    "\n",
    "# function to be done upon clicking the equal button\n",
    "def calculate(event):\n",
    "    num1 = int(entry1.get())\n",
    "    num2 = int(entry2.get())\n",
    "    num3 = int(entry3.get())\n",
    "    result = num1 * num2 + num3\n",
    "    result_label.config(text=str(result))\n",
    "\n",
    "window = tk.Tk()\n",
    "window.title(\"Calculator\")\n",
    "\n",
    "# Create the widgets\n",
    "entry1 = tk.Entry(window, width=10)\n",
    "entry2 = tk.Entry(window, width=10)\n",
    "entry3 = tk.Entry(window, width=10)\n",
    "multiply_label = tk.Label(window, text=\"x\")\n",
    "add_label = tk.Label(window, text=\"+\")\n",
    "equal_button = tk.Button(window, text=\"=\", width=10)\n",
    "result_label = tk.Label(window, width=10, relief=\"solid\")\n",
    "\n",
    "# Position the widgets using the grid layout manager\n",
    "entry1.grid(row=0, column=0, padx=5, pady=5)\n",
    "multiply_label.grid(row=0, column=1, padx=5, pady=5)\n",
    "entry2.grid(row=0, column=2, padx=5, pady=5)\n",
    "add_label.grid(row=0, column=3, padx=5, pady=5)\n",
    "entry3.grid(row=0, column=4, padx=5, pady=5)\n",
    "equal_button.grid(row=0, column=5, padx=5, pady=5)\n",
    "result_label.grid(row=0, column=6, padx=5, pady=5)\n",
    "\n",
    "# Bind the calculate function to the button click event\n",
    "equal_button.bind(\"<Button-1>\", calculate)\n",
    "\n",
    "window.mainloop()"
   ]
  },
  {
   "attachments": {},
   "cell_type": "markdown",
   "metadata": {},
   "source": [
    "# <font color=red>Remember to submit your Jupyter notebook on MyUni</font>"
   ]
  }
 ],
 "metadata": {
  "kernelspec": {
   "display_name": "Python 3 (ipykernel)",
   "language": "python",
   "name": "python3"
  },
  "language_info": {
   "codemirror_mode": {
    "name": "ipython",
    "version": 3
   },
   "file_extension": ".py",
   "mimetype": "text/x-python",
   "name": "python",
   "nbconvert_exporter": "python",
   "pygments_lexer": "ipython3",
   "version": "3.10.11"
  },
  "vscode": {
   "interpreter": {
    "hash": "d57c152add3a77aa406b6a31edc12b55f0062050fedadc6ea5d152b48566b0e5"
   }
  }
 },
 "nbformat": 4,
 "nbformat_minor": 4
}
