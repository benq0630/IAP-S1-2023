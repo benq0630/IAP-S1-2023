{
 "cells": [
  {
   "cell_type": "markdown",
   "metadata": {},
   "source": [
    "# COMP SCI 1015 IAP - W09 - Workshop"
   ]
  },
  {
   "cell_type": "markdown",
   "metadata": {
    "tags": []
   },
   "source": [
    "## Demo 1 - Dictionary"
   ]
  },
  {
   "cell_type": "markdown",
   "metadata": {},
   "source": [
    "A dictionary is like a list, but more general. When using a list, the indices must be integers, e.g. `li[3] = 5`. When using a dictionary, the indices can be different data types such as string, e.g. `dict['apple'] = 10`. This flexibility makes dictionary a convenient tool in many practical applciations.\n",
    "\n",
    "A `list` contains a series of values, wheras a `dictionary` contains a collection of `keys` and `values`. Each `key` is associated with a single `value` and we call it a **key-value pair**. In the example above, `apple` is a key, and its corresponding value is `10`."
   ]
  },
  {
   "cell_type": "markdown",
   "metadata": {},
   "source": [
    "### Creating a dictionary "
   ]
  },
  {
   "cell_type": "markdown",
   "metadata": {},
   "source": [
    "We can create an empty dictionary using a curly bracket `{}` or the `dict` function. ."
   ]
  },
  {
   "cell_type": "code",
   "execution_count": null,
   "metadata": {},
   "outputs": [],
   "source": [
    "# both statements create an empty dictionary\n",
    "eng2jp = {} # method 1\n",
    "eng2jp = dict() # method 2"
   ]
  },
  {
   "cell_type": "markdown",
   "metadata": {},
   "source": [
    "### Add key-value pair"
   ]
  },
  {
   "cell_type": "code",
   "execution_count": null,
   "metadata": {},
   "outputs": [],
   "source": [
    "eng2jp['bye'] = 'sayonara'\n",
    "eng2jp['hi'] = 'konichiwa'"
   ]
  },
  {
   "cell_type": "markdown",
   "metadata": {},
   "source": [
    "Codes above create a mapping from English word `bye` and `hi` to their respective Japanese translation of `sayonara` and `hi`. We can also initialise the dictionary as below"
   ]
  },
  {
   "cell_type": "code",
   "execution_count": null,
   "metadata": {},
   "outputs": [],
   "source": [
    "# this is equivalent to the cell above.\n",
    "eng2jp= {'bye':'Sayonara', 'hi':'konichiwa'}"
   ]
  },
  {
   "cell_type": "markdown",
   "metadata": {},
   "source": [
    "Just like list, we can access the value using the square bracket operator `[]`. Just that the indices are now *strings*."
   ]
  },
  {
   "cell_type": "code",
   "execution_count": null,
   "metadata": {},
   "outputs": [],
   "source": [
    "print('The JP translation of \"bye\" is ' + eng2jp['bye'])\n",
    "print('The JP translation of \"bye\" is ' + eng2jp['hi'])"
   ]
  },
  {
   "cell_type": "markdown",
   "metadata": {},
   "source": [
    "### Modify key-value pairs "
   ]
  },
  {
   "cell_type": "markdown",
   "metadata": {},
   "source": [
    "Modifying values in a dictionary uses a similar syntax to modifying values in a list. "
   ]
  },
  {
   "cell_type": "code",
   "execution_count": null,
   "metadata": {},
   "outputs": [],
   "source": [
    "# create a dictionary with multiple entries\n",
    "my_computer = {\n",
    "    'CPU' : 'Intel I7',\n",
    "    'Ram' : '16Gb',\n",
    "    'OS' : 'Windows'    \n",
    "}\n",
    "print(my_computer)\n",
    "\n",
    "my_computer['Ram'] = '8GB' # modify the key-value pair\n",
    "print(my_computer)"
   ]
  },
  {
   "cell_type": "markdown",
   "metadata": {},
   "source": [
    "We can also remove an item using `pop()`, just like list."
   ]
  },
  {
   "cell_type": "code",
   "execution_count": null,
   "metadata": {},
   "outputs": [],
   "source": [
    "my_computer.pop('CPU')\n",
    "print(my_computer)"
   ]
  },
  {
   "cell_type": "markdown",
   "metadata": {},
   "source": [
    "### Check if a key exists"
   ]
  },
  {
   "cell_type": "markdown",
   "metadata": {},
   "source": [
    "When you try to access a key that is not existent in the dictionary, you will receive a `KeyError`."
   ]
  },
  {
   "cell_type": "code",
   "execution_count": null,
   "metadata": {},
   "outputs": [],
   "source": [
    "print(eng2jp['please'])"
   ]
  },
  {
   "cell_type": "markdown",
   "metadata": {},
   "source": [
    "To avoid such error, you can first check if the key exists using the `in` keyword, before access its value."
   ]
  },
  {
   "cell_type": "code",
   "execution_count": null,
   "metadata": {},
   "outputs": [],
   "source": [
    "k = 'bye'\n",
    "if k in eng2jp: # use `in` to check if the key exists\n",
    "    print(f'<{k}> is in the dictionary')\n",
    "else:\n",
    "    print(f'<{k}> cannot be found')"
   ]
  },
  {
   "cell_type": "markdown",
   "metadata": {
    "jp-MarkdownHeadingCollapsed": true,
    "tags": []
   },
   "source": [
    "---\n",
    "## Activity 1 - Creating a codebook"
   ]
  },
  {
   "cell_type": "markdown",
   "metadata": {},
   "source": [
    "<!-- BEGIN QUESTION -->\n",
    "\n",
    "Caesar cipher is a type of substitution cipher in which each letter in the plaintext is replaced by a letter some fixed number of positions down the alphabet. For example, if the shift is `2`, then character `a` is replaced by `c`, and `b` is replaced by `d`. Please complete the following function that create a codebook with such mapping."
   ]
  },
  {
   "cell_type": "code",
   "execution_count": 1,
   "metadata": {
    "tags": []
   },
   "outputs": [
    {
     "name": "stdout",
     "output_type": "stream",
     "text": [
      "mfaj f lwjfy ifd\n",
      "fijqfnij\n"
     ]
    }
   ],
   "source": [
    "alphabet = 'abcdefghijklmnopqrstuvwxyz'\n",
    "\n",
    "def caesar_codebook(shift):\n",
    "    codebook={}\n",
    "    # INSERT YOUR CODE\n",
    "    # ~ 4 lines\n",
    "    length = len(alphabet)\n",
    "    for i in range(length):\n",
    "        original_char = alphabet[i]\n",
    "        shifted_char = alphabet[(i + shift) % length]\n",
    "        codebook[original_char] = shifted_char\n",
    "    return codebook\n",
    "\n",
    "def encrypt(msg, cb):\n",
    "    s = ''\n",
    "    # INSERT YOUR CODE\n",
    "    # ~ 4 lines\n",
    "    for char in msg:\n",
    "        if char in cb:\n",
    "            s += cb[char]\n",
    "        else:\n",
    "            s += char\n",
    "    return s\n",
    "\n",
    "# TEST CASES\n",
    "cb = caesar_codebook(5)\n",
    "s = encrypt('have a great day', cb)\n",
    "print(s) # mfaj f lwjfy ifd\n",
    "s = encrypt('adelaide', cb)\n",
    "print(s) # fijqfnij"
   ]
  },
  {
   "cell_type": "markdown",
   "metadata": {
    "tags": []
   },
   "source": [
    "<!-- END QUESTION -->\n",
    "\n",
    "---\n",
    "## Demo 2 - Dictionary as counters"
   ]
  },
  {
   "cell_type": "markdown",
   "metadata": {},
   "source": [
    "Dictionaries are commly used as a collection of counters. For example, given a paragraph, we can use a dictionary to count how many times each letter or word appears. In the code below we can count how many times `COVID-19` and `symptoms` appear in the paragraph."
   ]
  },
  {
   "cell_type": "code",
   "execution_count": null,
   "metadata": {},
   "outputs": [],
   "source": [
    "paragraph = '''\n",
    "If you have COVID-19 it can take several days to develop symptoms - but youâ€™re contagious during this time. You are no longer contagious 10 days after your symptoms began.\n",
    "\n",
    "The best way to avoid spreading COVID-19 to others is to:\n",
    "\n",
    "Stay 6 feet away from others whenever possible.\n",
    "Wear a cloth mask that covers your mouth and nose when around others.\n",
    "Wash your hands often. If soap isnâ€™t available, use a hand sanitizer that contains at least 60% alcohol.\n",
    "Avoid crowded indoor spaces. Open windows to bring in outdoor air as much as possible.\n",
    "Stay self-isolated at home if you are feeling ill with symptoms that could be COVID-19 or have a positive test for COVID-19.\n",
    "Clean and disinfect frequently touched surfaces.\n",
    "'''\n",
    "# set up counters\n",
    "cnt = {}\n",
    "cnt['COVID-19'] = 0\n",
    "cnt['symptoms'] = 0\n",
    "\n",
    "for word in paragraph.split(): # split the paragraph into a list of words and loop through\n",
    "    if word in cnt: # check if in COVID\n",
    "        cnt[word] += 1\n",
    "print(cnt)"
   ]
  },
  {
   "cell_type": "markdown",
   "metadata": {
    "jp-MarkdownHeadingCollapsed": true,
    "tags": []
   },
   "source": [
    "---\n",
    "## Activity 2 - Count characters "
   ]
  },
  {
   "cell_type": "markdown",
   "metadata": {},
   "source": [
    "<!-- BEGIN QUESTION -->\n",
    "\n",
    "Similar to the demo above, please create a dictionary that counts the number of appearances for each alphabet."
   ]
  },
  {
   "cell_type": "code",
   "execution_count": 2,
   "metadata": {
    "tags": []
   },
   "outputs": [
    {
     "name": "stdout",
     "output_type": "stream",
     "text": [
      "0\n",
      "0\n",
      "6\n",
      "2\n"
     ]
    }
   ],
   "source": [
    "s = 'abcdefghijklmnopqrstuvwxyz'\n",
    "cnts = {}\n",
    "\n",
    "# STEP 1\n",
    "# You should crate a dicitonary `cnts` that has 26 keys, from `a` to `z`, each key has a value `0`. \n",
    "# INSERT YOUR CODE BELOW\n",
    "# Use for loop\n",
    "# ~2 lines\n",
    "for char in s:\n",
    "    cnts[char] = 0\n",
    "print(cnts['a']) # 0\n",
    "print(cnts['d']) # 0\n",
    "\n",
    "# STEP 2\n",
    "# Given a sentence, loop through every character and calculate how many times each character appears.\n",
    "\n",
    "words = 'an apple a day keeps the doctor away'\n",
    "# INSERT YOUR CODE BELOW\n",
    "# Use for loop\n",
    "# ~3 lines\n",
    "for char in words:\n",
    "    if char.isalpha():\n",
    "        char = char.lower()\n",
    "        cnts[char] += 1\n",
    "print(cnts['a']) # 6\n",
    "print(cnts['d']) # 2"
   ]
  },
  {
   "cell_type": "markdown",
   "metadata": {
    "jp-MarkdownHeadingCollapsed": true,
    "tags": []
   },
   "source": [
    "<!-- END QUESTION -->\n",
    "\n",
    "---\n",
    "## Demo 3 - loop through all key-value pairs"
   ]
  },
  {
   "cell_type": "markdown",
   "metadata": {},
   "source": [
    "We can traverse all keys in a dictionary using a `for` loop (meaning, dictionary is iterable). Remember the pattern of for loop below, you will use it a lot."
   ]
  },
  {
   "cell_type": "code",
   "execution_count": null,
   "metadata": {},
   "outputs": [],
   "source": [
    "# create a dictionary\n",
    "user_ids = {\n",
    "    'Bob':102,\n",
    "    'Chelsea':103,\n",
    "    'Alice':101, # 'Alice' is a key connects to a value of 101\n",
    "    'Dean':159,\n",
    "    'Eagle':325\n",
    "}\n",
    "\n",
    "print(user_ids)\n",
    "for k in user_ids:\n",
    "    print(f'{k} - {user_ids[k]}')"
   ]
  },
  {
   "cell_type": "markdown",
   "metadata": {
    "jp-MarkdownHeadingCollapsed": true,
    "tags": []
   },
   "source": [
    "---\n",
    "## Activity 3 - Reverse loopup"
   ]
  },
  {
   "cell_type": "markdown",
   "metadata": {},
   "source": [
    "<!-- BEGIN QUESTION -->\n",
    "\n",
    "Given a dictionary `dict` and a key `k`, it is trivial to find the corresponding value `v = d[k]`. This operation is called **lookup**. \n",
    "\n",
    "Using dictionary, we can easily look up the corresponding value of a key `k`, such as `dict['k']`. However, what if we would like to do the opposite, meaning, given a value `v` and looks for its key? Unfortunately, there is no simple way to do so, and you would need to loop through the entire dictionary to achieve that.\n",
    "\n",
    "Let's write such a lookup function below."
   ]
  },
  {
   "cell_type": "code",
   "execution_count": 3,
   "metadata": {
    "tags": []
   },
   "outputs": [
    {
     "name": "stdout",
     "output_type": "stream",
     "text": [
      "Deb\n",
      "Edgard\n",
      "None\n"
     ]
    }
   ],
   "source": [
    "dict1 = {\n",
    "    'Alice':105,\n",
    "    'Bob':112,\n",
    "    'Chelsea':125,\n",
    "    'Deb' : 134,\n",
    "    'Edgard' : 107,\n",
    "    'Fox' : 109\n",
    "}\n",
    "\n",
    "def reverse_lookup(di, v):\n",
    "    # INSERT YOUR CODE\n",
    "    # ~ 3 lines\n",
    "    keys = [key for key, value in di.items() if value == v]\n",
    "    if keys:\n",
    "        return keys[0]\n",
    "    else:\n",
    "        return None\n",
    "    \n",
    "# === test case below ===\n",
    "k = reverse_lookup(dict1, 134)\n",
    "print(k) # Deb\n",
    "\n",
    "k = reverse_lookup(dict1, 107)\n",
    "print(k) # Edgard\n",
    "\n",
    "k = reverse_lookup(dict1, 110)\n",
    "print(k) # None\n",
    "    "
   ]
  },
  {
   "cell_type": "markdown",
   "metadata": {
    "jp-MarkdownHeadingCollapsed": true,
    "tags": []
   },
   "source": [
    "<!-- END QUESTION -->\n",
    "\n",
    "## Demo 4 - Tuples "
   ]
  },
  {
   "cell_type": "markdown",
   "metadata": {},
   "source": [
    "Now, let's switch to **tuple**, another built-in type in Python. A **tuple** is a sequence of values. Just like a **list**, the values can be any type, and they are indexed by integers. The main difference is that **tuples** are **immutable** (recall string).\n",
    "\n",
    "We can create a tuple with a series of comma-separated vlaues or using the parentheses."
   ]
  },
  {
   "cell_type": "code",
   "execution_count": null,
   "metadata": {},
   "outputs": [],
   "source": [
    "t1 = ('a', 'b', 'c', 'd', 'e') # syntax 1\n",
    "t2 = 'f', 'g', 'h', 'i', 'j' # syntax 2\n",
    "\n",
    "print(f'{type(t1)} - {t1}')\n",
    "print(f'{type(t2)} - {t2}')"
   ]
  },
  {
   "cell_type": "markdown",
   "metadata": {},
   "source": [
    "Most list operators also work for tuples"
   ]
  },
  {
   "cell_type": "code",
   "execution_count": null,
   "metadata": {},
   "outputs": [],
   "source": [
    "print(t1[2]) # access element\n",
    "print(t1[:2]) # slices\n",
    "\n",
    "for e in t1: # acces each element\n",
    "    print(e)\n"
   ]
  },
  {
   "cell_type": "markdown",
   "metadata": {},
   "source": [
    "You can also concat two tuples together using the `+` operator. Note that we did not modify `t1` or `t2`. Here we just create a new tuple `t3`."
   ]
  },
  {
   "cell_type": "code",
   "execution_count": null,
   "metadata": {},
   "outputs": [],
   "source": [
    "t3 = t1 + t2\n",
    "print(t3)"
   ]
  },
  {
   "cell_type": "markdown",
   "metadata": {},
   "source": [
    "### Tuple as return value "
   ]
  },
  {
   "cell_type": "markdown",
   "metadata": {},
   "source": [
    "<font color='red'> VERY IMPORTANT</font>\n",
    "\n",
    "Tuple is especially useful when used as a return value. By definition, a function can only return one value. However, we can cirumvent this limitation using a tuple. For example, we can write a new `divide` function that returns both the quotient and remainder:"
   ]
  },
  {
   "cell_type": "code",
   "execution_count": null,
   "metadata": {},
   "outputs": [],
   "source": [
    "def divide(dividend, divisor):\n",
    "    q = int(dividend / divisor)\n",
    "    r = dividend % divisor\n",
    "    return q, r\n",
    "\n",
    "t = divide(10, 7)\n",
    "print(t)\n",
    "\n",
    "q, r = divide(23, 3)\n",
    "(q, r) = divide(23, 3) # line 9 and line 10 are equivalent.\n",
    "print(f'quotient: {q} remainder: {r}')\n"
   ]
  },
  {
   "cell_type": "markdown",
   "metadata": {
    "jp-MarkdownHeadingCollapsed": true,
    "tags": []
   },
   "source": [
    "---\n",
    "## Submission Exercise\n",
    "\n",
    "Please write a function `find_min_max` that takes a dictionary as an input and return a tuple of two keys to the min and max values respectively."
   ]
  },
  {
   "cell_type": "markdown",
   "metadata": {},
   "source": [
    "<!-- BEGIN QUESTION -->\n",
    "\n"
   ]
  },
  {
   "cell_type": "code",
   "execution_count": 4,
   "metadata": {
    "tags": []
   },
   "outputs": [
    {
     "name": "stdout",
     "output_type": "stream",
     "text": [
      "a, e\n",
      "be, kk\n"
     ]
    }
   ],
   "source": [
    "import math\n",
    "\n",
    "def find_min_max(d):\n",
    "    _min = math.inf\n",
    "    _max = -math.inf\n",
    "    \n",
    "    k_min = 0\n",
    "    k_max = 0\n",
    "\n",
    "    # INSERT YOUR CODE BELOW\n",
    "    # Loop through entire dictionary and compare min and max\n",
    "    # ~ 6 Lines\n",
    "    for key, value in d.items():\n",
    "        if value < _min:\n",
    "            _min = value\n",
    "            k_min = key\n",
    "        if value > _max:\n",
    "            _max = value\n",
    "            k_max = key\n",
    "    return k_min, k_max\n",
    "    \n",
    "d1 = {'a':1, 'b':3, 'e':14}\n",
    "(k1, k2) = find_min_max(d1)\n",
    "print(f'{k1}, {k2}') # a, e\n",
    "\n",
    "d1 = {'a':23, 'b':3, 'c':14, 'e':32, 'g':-14, 'kk':59, 'be':-32}\n",
    "(k1, k2) = find_min_max(d1)\n",
    "print(f'{k1}, {k2}') # be, kk\n"
   ]
  },
  {
   "cell_type": "markdown",
   "metadata": {
    "jp-MarkdownHeadingCollapsed": true,
    "tags": []
   },
   "source": [
    "<!-- END QUESTION -->\n",
    "\n",
    "---\n",
    "## Extention"
   ]
  },
  {
   "cell_type": "markdown",
   "metadata": {
    "tags": []
   },
   "source": [
    "### Tuple and dictionary "
   ]
  },
  {
   "cell_type": "markdown",
   "metadata": {},
   "source": [
    "As a bonus, Python dictionary has a very handy `.item` method that returns a sequence **key-value** tuples. "
   ]
  },
  {
   "cell_type": "code",
   "execution_count": null,
   "metadata": {
    "collapsed": true,
    "jupyter": {
     "outputs_hidden": true
    },
    "tags": []
   },
   "outputs": [],
   "source": [
    "user_ids = {\n",
    "    'Bob':102,\n",
    "    'Chelsea':103,\n",
    "    'Alice':101, # 'Alice' is a key connects to a value of 101\n",
    "    'Dean':159,\n",
    "    'Eagle':325\n",
    "}\n",
    "\n",
    "for (key, val) in user_ids.items():\n",
    "    print(f'{key} - {val}')"
   ]
  },
  {
   "cell_type": "markdown",
   "metadata": {
    "tags": []
   },
   "source": [
    "### Dictionary and List"
   ]
  },
  {
   "cell_type": "markdown",
   "metadata": {
    "tags": []
   },
   "source": [
    "`List` can appear as values in the dictionary. For example, you might have a dictionary where each entry contains a list of English names beginning with each letter:\n",
    "- A : ARIA, ARIBELLA, ARIS\n",
    "- B : BARBARA, BELLA, BETSY\n",
    "- C : CHLOE, CINDY, CLAUDIA\n",
    "\n",
    "Now, a key value would correspond to a list of values. We can create the dictionary as following:"
   ]
  },
  {
   "cell_type": "code",
   "execution_count": null,
   "metadata": {},
   "outputs": [],
   "source": [
    "names = {}\n",
    "names['A'] = ['ARIA', 'ARIBELLA', 'ARIS']\n",
    "names['B'] = ['BARBARA', 'BELLA', 'BETSY']\n",
    "names['C'] = ['CHLOE', 'CINDY', 'CLAUDIA']"
   ]
  },
  {
   "cell_type": "markdown",
   "metadata": {},
   "source": [
    "And we can loop through all names just like we did with nested list"
   ]
  },
  {
   "cell_type": "code",
   "execution_count": null,
   "metadata": {},
   "outputs": [],
   "source": [
    "for key in names:\n",
    "    for name in names[key]:\n",
    "        print(name)\n"
   ]
  }
 ],
 "metadata": {
  "kernelspec": {
   "display_name": "Python 3 (ipykernel)",
   "language": "python",
   "name": "python3"
  },
  "language_info": {
   "codemirror_mode": {
    "name": "ipython",
    "version": 3
   },
   "file_extension": ".py",
   "mimetype": "text/x-python",
   "name": "python",
   "nbconvert_exporter": "python",
   "pygments_lexer": "ipython3",
   "version": "3.10.11"
  },
  "otter": {
   "tests": {
    "Submission": {
     "name": "Submission",
     "points": 0,
     "suites": [
      {
       "cases": [
        {
         "code": ">>> d1 = {'a':8, 'b':3, 'e':2, 'f':13}\n>>> find_min_max(d1)\n('e', 'f')",
         "failure_message": "Incorrect answer, try again!",
         "hidden": false,
         "locked": false,
         "success_message": "Good job!"
        },
        {
         "code": ">>> d1 = {'1':89, '2':30, '3':12, '4':23}\n>>> find_min_max(d1)\n('3', '1')",
         "failure_message": "Incorrect answer, try again!",
         "hidden": false,
         "locked": false,
         "success_message": "Good job!"
        }
       ],
       "scored": true,
       "setup": "",
       "teardown": "",
       "type": "doctest"
      }
     ]
    }
   }
  }
 },
 "nbformat": 4,
 "nbformat_minor": 4
}
