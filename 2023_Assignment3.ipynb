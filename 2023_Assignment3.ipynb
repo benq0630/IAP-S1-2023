{
 "cells": [
  {
   "attachments": {},
   "cell_type": "markdown",
   "id": "91836ba3",
   "metadata": {},
   "source": [
    "# COMP SCI 1015 IAP - Coding Assignment 3 - To-Do List"
   ]
  },
  {
   "attachments": {},
   "cell_type": "markdown",
   "id": "469fc832",
   "metadata": {},
   "source": [
    "---"
   ]
  },
  {
   "attachments": {
    "a3e8a5b1-0133-4c3f-adc0-b7ebb0977e06.jpg": {
     "image/jpeg": "[encoded data removed]"
    }
   },
   "cell_type": "markdown",
   "id": "90f8efa9",
   "metadata": {},
   "source": [
    "## Specifications\n",
    "\n",
    "The goal of this assignment is to create a to-do list with GUI using TKInter as shown below \n",
    "\n",
    "![gui.jpg](attachment:a3e8a5b1-0133-4c3f-adc0-b7ebb0977e06.jpg)\n",
    "\n",
    "The GUI contains three important components\n",
    "* (1) text entry where the user can enter the task\n",
    "* (2) listbox containing tasks.\n",
    "* (3) listbox containing completed tasks.\n",
    "\n",
    "Your program must have the following functionality:\n",
    "* *user input*: the user should be able to input the task in (1). Once press `enter`, the task should appear in (2).\n",
    "* *interaction with listbox*: the user should be able to **double click** on an item in (2) and mark the task as done. The completed item should appear in (3)\n",
    "\n",
    "## Tips\n",
    "* Remember that the separation of data and UI will greatly simplify your code\n",
    "* We recommend using the events `<<ListboxSelect>>` and `<Double-Button>` for user interaction\n",
    "\n",
    "## Rubric\n",
    "<font color='red'>You must implement your program based on the code below. Otherwise you will receive 0 marks!</font>\n",
    "* Program functionality meets specifications\n",
    "  * *user input* (30 marks)\n",
    "  * *interaction with listbox* (50 marks)\n",
    "* Comments (20 marks)\n",
    "  * The comments should clearly state the purpose of every *code block* you have.\n",
    "  * You should NOT be commenting every line at this point in the semester. If you are not commenting for each *code block* you will lose marks.\n",
    "\n",
    "You earn **10 bonus marks** for making the GUI **persistent**. You should save items in (2) and (3) in a file. When your application starts, it should automatically load and display the items. "
   ]
  },
  {
   "attachments": {},
   "cell_type": "markdown",
   "id": "8fd2040b",
   "metadata": {},
   "source": [
    "---"
   ]
  },
  {
   "attachments": {},
   "cell_type": "markdown",
   "id": "ed5717a3",
   "metadata": {},
   "source": [
    "## Code"
   ]
  },
  {
   "attachments": {},
   "cell_type": "markdown",
   "id": "ae395fd2",
   "metadata": {},
   "source": [
    "<!-- BEGIN QUESTION -->\n",
    "\n"
   ]
  },
  {
   "cell_type": "code",
   "execution_count": 1,
   "id": "24e2f29d",
   "metadata": {
    "tags": []
   },
   "outputs": [],
   "source": [
    "import tkinter as tk\n",
    "import random\n",
    "import json\n",
    "\n",
    "# INSERT YOUR CODE BELOW\n",
    "\n",
    "# Adding a task to the to-do list feature\n",
    "def add_task():\n",
    "    task = entry1.get()\n",
    "    if task != '':\n",
    "        lb1.insert('end', task)\n",
    "        data['task'].append(task)\n",
    "        save_data()\n",
    "        entry1.delete(0, 'end')\n",
    "\n",
    "# The capability of moving an item from the to-do list to the finished list\n",
    "def mark_as_done(event):\n",
    "    task = lb1.get(lb1.curselection())\n",
    "    lb1.delete(lb1.curselection())\n",
    "    lb2.insert('end', task)\n",
    "    data['task'].remove(task)\n",
    "    data['done'].append(task)\n",
    "    save_data()\n",
    "\n",
    "# A method for importing stored tasks from a JSON file\n",
    "def load_data():\n",
    "    try:\n",
    "        with open('data.json', 'r') as f:\n",
    "            global data\n",
    "            data = json.load(f)\n",
    "            for task in data['task']:\n",
    "                lb1.insert('end', task)\n",
    "                for task in data['done']:\n",
    "                    lb2.insert('end', task)\n",
    "    except FileNotFoundError:\n",
    "        pass\n",
    "\n",
    "# function to create a JSON file with the current tasks\n",
    "def save_data():\n",
    "    with open('data.json', 'w') as f:\n",
    "        json.dump(data, f)\n",
    "        \n",
    "# data storing tasks and done tasks\n",
    "data = {\n",
    "    'task':[],\n",
    "    'done':[]\n",
    "}\n",
    "load_data()\n",
    "    \n",
    "# UI\n",
    "win = tk.Tk()\n",
    "\n",
    "tk.Grid.rowconfigure(win, 0, weight=1)\n",
    "tk.Grid.rowconfigure(win, 1, weight=3)\n",
    "tk.Grid.columnconfigure(win, 0, weight=1)\n",
    "tk.Grid.columnconfigure(win, 1, weight=2)\n",
    "tk.Grid.columnconfigure(win, 2, weight=1)\n",
    "tk.Grid.columnconfigure(win, 3, weight=2)\n",
    "\n",
    "lab = tk.Label(text='Task:', font=(\"Arial\", 20))\n",
    "lab.grid(row=0, column=0, sticky='sw')\n",
    "\n",
    "entry1 = tk.Entry(width=10)\n",
    "entry1.grid(row=0, column=1, sticky='sw')\n",
    "entry1.bind('<Return>', lambda event: add_task())\n",
    "\n",
    "add_button = tk.Button(text='Add', command=add_task)\n",
    "add_button.grid(row=0, column=2, sticky='sw')\n",
    "\n",
    "lb1 = tk.Listbox()\n",
    "lb1.grid(row=1, column=0, rowspan=3, columnspan=2, sticky='nsew')\n",
    "lb1.bind('<Double-Button>', mark_as_done)\n",
    "\n",
    "scroll1 = tk.Scrollbar(win, command=lb1.yview)\n",
    "scroll1.grid(row=1, column=2, rowspan=3, sticky='nse')\n",
    "\n",
    "lb1.config(yscrollcommand=scroll1.set)\n",
    "\n",
    "lab = tk.Label(text='Done', font=(\"Arial\", 20))\n",
    "lab.grid(row=0, column=2, sticky='sw')\n",
    "\n",
    "lb2 = tk.Listbox(fg='grey')\n",
    "lb2.grid(row=1, column=2, rowspan=3, columnspan=2, sticky='nsew')\n",
    "\n",
    "scroll2 = tk.Scrollbar(win, command=lb2.yview)\n",
    "scroll2.grid(row=1, column=4, rowspan=3, sticky='nse')\n",
    "\n",
    "lb2.config(yscrollcommand=scroll2.set)\n",
    "\n",
    "# if you have completed the load feature, place it before the mainloop\n",
    "load_data()\n",
    "win.mainloop()"
   ]
  },
  {
   "attachments": {},
   "cell_type": "markdown",
   "id": "ff00fa0d",
   "metadata": {},
   "source": [
    "<!-- END QUESTION -->\n",
    "\n"
   ]
  }
 ],
 "metadata": {
  "kernelspec": {
   "display_name": "Python 3 (ipykernel)",
   "language": "python",
   "name": "python3"
  },
  "language_info": {
   "codemirror_mode": {
    "name": "ipython",
    "version": 3
   },
   "file_extension": ".py",
   "mimetype": "text/x-python",
   "name": "python",
   "nbconvert_exporter": "python",
   "pygments_lexer": "ipython3",
   "version": "3.9.6"
  },
  "vscode": {
   "interpreter": {
    "hash": "d57c152add3a77aa406b6a31edc12b55f0062050fedadc6ea5d152b48566b0e5"
   }
  }
 },
 "nbformat": 4,
 "nbformat_minor": 5
}
