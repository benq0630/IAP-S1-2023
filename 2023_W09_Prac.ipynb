{
 "cells": [
  {
   "cell_type": "markdown",
   "metadata": {},
   "source": [
    "# COMP SCI 1015 IAP - W09 - Practical"
   ]
  },
  {
   "cell_type": "markdown",
   "metadata": {},
   "source": [
    "## Task 1: Counting words (30 marks)"
   ]
  },
  {
   "cell_type": "markdown",
   "metadata": {},
   "source": [
    "Please write a function that tracks how many 3-letter words, 4-letter words, 5-letter words, and so forth are in a given paragraph.\n",
    "\n",
    "Hint: use the `.split()` method to split a paragraph into a list of words."
   ]
  },
  {
   "cell_type": "code",
   "execution_count": 4,
   "metadata": {
    "tags": []
   },
   "outputs": [
    {
     "name": "stdout",
     "output_type": "stream",
     "text": [
      "{2: 4, 3: 4, 4: 1, 6: 1, 5: 2}\n"
     ]
    }
   ],
   "source": [
    "def word_length_count(para):\n",
    "    cnt = {}\n",
    "    li = para.split()\n",
    "\n",
    "    # INSERT YOUR CODE BELOW\n",
    "    # ~ 6 lines\n",
    "    for word in li:\n",
    "        length = len(word)\n",
    "        if length in cnt:\n",
    "            cnt[length] += 1\n",
    "        else:\n",
    "            cnt[length] = 1\n",
    "    return cnt\n",
    "\n",
    "# TEST CASE BELOW\n",
    "para = 'It was the best of times, it was the worst of times'\n",
    "cnt = word_length_count(para)\n",
    "print(cnt) #{2: 4, 3: 4, 4: 1, 6: 1, 5: 2}   \n",
    "    "
   ]
  },
  {
   "cell_type": "markdown",
   "metadata": {},
   "source": [
    "## Task 2: Rain fall (30 marks)"
   ]
  },
  {
   "cell_type": "markdown",
   "metadata": {},
   "source": [
    "Below is a list of dictionaries which reports the amount of rainfall in major cities in the last week. Your task is to write codes that take a list of dictionary as input and output the accumulated rain fall for each city. "
   ]
  },
  {
   "cell_type": "code",
   "execution_count": 3,
   "metadata": {
    "tags": []
   },
   "outputs": [
    {
     "name": "stdout",
     "output_type": "stream",
     "text": [
      "{'Sydney': 80, 'Melbourne': 110, 'Adelaide': 82, 'Pearth': 34, 'Brisbane': 100}\n"
     ]
    }
   ],
   "source": [
    "rains = [\n",
    "    {\n",
    "        'Sydney' : 50,\n",
    "        'Melbourne' : 30,\n",
    "        'Adelaide' : 22,        \n",
    "    },\n",
    "    {\n",
    "        'Sydney' : 10,\n",
    "        'Pearth' : 14\n",
    "    },\n",
    "    {\n",
    "        'Adelaide' : 30,\n",
    "        'Melbourne' : 50\n",
    "    },\n",
    "    {\n",
    "        'Sydney' : 20,\n",
    "        'Melbourne' : 30,\n",
    "        'Brisbane' :50\n",
    "    },\n",
    "    {\n",
    "        'Pearth' : 20,\n",
    "        'Adelaide' : 30,\n",
    "        'Brisbane' :50\n",
    "    },\n",
    "]\n",
    "\n",
    "def accumulate_rain(rains):\n",
    "    acc = {}\n",
    "    \n",
    "    # INSERT CODE BELOW\n",
    "    # ~ 6 Lines\n",
    "    for city_rain in rains:\n",
    "        for city, rainfall in city_rain.items():\n",
    "            if city in acc:\n",
    "                acc[city] += rainfall\n",
    "            else:\n",
    "                acc[city] = rainfall\n",
    "    return acc\n",
    "\n",
    "# TEST CASE BELOW\n",
    "r = accumulate_rain(rains)\n",
    "print(r)\n",
    "# {'Sydney': 80, 'Melbourne': 110, 'Adelaide': 82, 'Pearth': 34, 'Brisbane': 100}\n"
   ]
  },
  {
   "cell_type": "markdown",
   "metadata": {},
   "source": [
    "## Task 3: Dictionary of tuple (40 marks)"
   ]
  },
  {
   "cell_type": "markdown",
   "metadata": {},
   "source": [
    "The dicitonary `marks` contains the marks of students. Each student might have submitted multiple times, and the dictionary store all marks as a tuple. Please complete a function `highest_mark` that return a new dictionary that contians key-value pairs of each student and his/her highest mark.\n",
    "\n",
    "If a student's max mark is over 100, you should set their mark to 100. If a student scored less than 0, set their mark to 0.\n",
    "\n",
    "- hint1: You can assume all students submitted multiple times.\n",
    "- hint2: consider writing a `find_max_mark` function\n"
   ]
  },
  {
   "cell_type": "code",
   "execution_count": 2,
   "metadata": {
    "tags": []
   },
   "outputs": [
    {
     "data": {
      "text/plain": [
       "{'a112': 80, 'a113': 90, 'a114': 90}"
      ]
     },
     "execution_count": 2,
     "metadata": {},
     "output_type": "execute_result"
    }
   ],
   "source": [
    "import math\n",
    "\n",
    "marks = {\n",
    "    'a112':(40, 80, 70),\n",
    "    'a113':(40, 80, 70, 40, 90, 70),\n",
    "    'a114':(90, 28),\n",
    "}\n",
    "\n",
    "def find_max(marks_list):\n",
    "    return max(min(mark, 100) for mark in marks_list)\n",
    "\n",
    "def highest_mark(marks):\n",
    "    dic = {}\n",
    "    # INSERT YOUR CODE BELOW\n",
    "    # write an additonal find_max function might make things easier\n",
    "    # ~ 3 lines\n",
    "    for student, marks_tuple in marks.items():\n",
    "        max_mark = find_max(marks_tuple)\n",
    "        dic[student] = max_mark\n",
    "    return dic\n",
    "\n",
    "...\n",
    "    \n",
    "highest_mark(marks) # {'a112': 80, 'a113': 90, 'a114': 90}"
   ]
  }
 ],
 "metadata": {
  "kernelspec": {
   "display_name": "Python 3 (ipykernel)",
   "language": "python",
   "name": "python3"
  },
  "language_info": {
   "codemirror_mode": {
    "name": "ipython",
    "version": 3
   },
   "file_extension": ".py",
   "mimetype": "text/x-python",
   "name": "python",
   "nbconvert_exporter": "python",
   "pygments_lexer": "ipython3",
   "version": "3.10.11"
  },
  "otter": {
   "tests": {
    "Task1": {
     "name": "Task1",
     "points": 30,
     "suites": [
      {
       "cases": [
        {
         "code": ">>> word_length_count('uni of adelaide')\n{3: 1, 2: 1, 8: 1}",
         "failure_message": "Incorrect answer, try again!",
         "hidden": false,
         "locked": false,
         "success_message": "Good job!"
        },
        {
         "code": ">>> word_length_count('good morning')\n{4: 1, 7: 1}",
         "failure_message": "Incorrect answer, try again!",
         "hidden": false,
         "locked": false,
         "success_message": "Good job!"
        }
       ],
       "scored": true,
       "setup": "",
       "teardown": "",
       "type": "doctest"
      }
     ]
    },
    "Task2": {
     "name": "Task2",
     "points": 30,
     "suites": [
      {
       "cases": [
        {
         "code": ">>> r = [{'syd':25, 'ade':30}, {'mel':15}]\n>>> accumulate_rain(r)\n{'syd': 25, 'ade': 30, 'mel': 15}",
         "failure_message": "Incorrect answer, try again!",
         "hidden": false,
         "locked": false,
         "success_message": "Good job!"
        },
        {
         "code": ">>> r = [{'syd':25, 'ade':30}, {'syd':85, 'ade':10}]\n>>> accumulate_rain(r)\n{'syd': 110, 'ade': 40}",
         "failure_message": "Incorrect answer, try again!",
         "hidden": false,
         "locked": false,
         "success_message": "Good job!"
        }
       ],
       "scored": true,
       "setup": "",
       "teardown": "",
       "type": "doctest"
      }
     ]
    },
    "Task3": {
     "name": "Task3",
     "points": 40,
     "suites": [
      {
       "cases": [
        {
         "code": ">>> m = {'a':(30, 25), 'b':(98, 2), 'c':(36, 25)}\n>>> highest_mark(m)\n{'a': 30, 'b': 98, 'c': 36}",
         "failure_message": "Incorrect answer, try again!",
         "hidden": false,
         "locked": false,
         "success_message": "Good job!"
        },
        {
         "code": ">>> m = {'d':(90, 35), 'e':(68, 21), 'f':(72, 25)}\n>>> highest_mark(m)\n{'d': 90, 'e': 68, 'f': 72}",
         "failure_message": "Incorrect answer, try again!",
         "hidden": false,
         "locked": false,
         "success_message": "Good job!"
        },
        {
         "code": ">>> m = {'h':(0, 0, 0, 0, 0, 0, 0, 0, 0, 0, 0, 0, 0, 0, 0, 0, 0, 0, 0), 'i':(99, 110), 'j':(-1,-1)}\n>>> highest_mark(m)\n{'h': 0, 'i': 100, 'j': 0}",
         "failure_message": "Incorrect answer, try again!",
         "hidden": false,
         "locked": false,
         "success_message": "Good job!"
        }
       ],
       "scored": true,
       "setup": "",
       "teardown": "",
       "type": "doctest"
      }
     ]
    }
   }
  },
  "vscode": {
   "interpreter": {
    "hash": "d57c152add3a77aa406b6a31edc12b55f0062050fedadc6ea5d152b48566b0e5"
   }
  }
 },
 "nbformat": 4,
 "nbformat_minor": 4
}
